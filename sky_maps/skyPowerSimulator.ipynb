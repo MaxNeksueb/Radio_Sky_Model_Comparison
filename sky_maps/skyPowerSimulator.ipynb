{
 "cells": [
  {
   "cell_type": "code",
   "execution_count": null,
   "metadata": {},
   "outputs": [],
   "source": [
    "from IPython.core.display import display, HTML"
   ]
  },
  {
   "cell_type": "code",
   "execution_count": null,
   "metadata": {},
   "outputs": [],
   "source": [
    "HTML('''<script>code_show=true;function code_toggle()\n",
    "{if (code_show){$('div.input').hide();} \n",
    "else{$('div.input').show();}code_show = !code_show}$( document ).ready(code_toggle);\n",
    "</script><em>The raw code in this jupyter notebook is hidden by default for easier reading.\n",
    "To toggle on/off the raw code, click <a href=\"javascript:code_toggle()\">here</,!a></em>.''')"
   ]
  },
  {
   "cell_type": "code",
   "execution_count": null,
   "metadata": {},
   "outputs": [],
   "source": [
    "# install this to use some extra jupyter features (like content, this really helps navigate)\n",
    "#! jupyter contrib nbextension install --system\n",
    "#! pip install jupyter_contrib_nbextensions"
   ]
  },
  {
   "cell_type": "code",
   "execution_count": null,
   "metadata": {},
   "outputs": [],
   "source": [
    "display(HTML(\"<style>.container { width:100% !important; }</style>\"))"
   ]
  },
  {
   "cell_type": "code",
   "execution_count": null,
   "metadata": {},
   "outputs": [],
   "source": [
    "HTML(\"\"\"\n",
    "<style>\n",
    "\n",
    "div.cell { /* Tunes the space between cells */\n",
    "margin-top:5px;\n",
    "margin-bottom:10px;\n",
    "}\n",
    "\n",
    "div.text_cell_render { /* Customize text cells */\n",
    "font-family: 'Times New Roman';\n",
    "font-size:20px;\n",
    "line-height:1.4em;\n",
    "padding-left:3em;\n",
    "padding-right:3em;\n",
    "}\n",
    "</style>\n",
    "\"\"\")"
   ]
  },
  {
   "cell_type": "markdown",
   "metadata": {},
   "source": [
    "<font size=\"5\">Import various general modules</font>"
   ]
  },
  {
   "cell_type": "code",
   "execution_count": null,
   "metadata": {},
   "outputs": [],
   "source": [
    "import sys\n",
    "import myPlots\n",
    "import pandas as pd\n",
    "import numpy as np\n",
    "from tqdm.notebook import tqdm\n",
    "import matplotlib\n",
    "import matplotlib.pyplot as plt\n",
    "matplotlib.rcParams['figure.figsize'] = (12, 7)\n",
    "plt.rc('text', usetex=False)\n",
    "from scipy import constants\n",
    "from scipy.integrate import simps\n",
    "import warnings\n",
    "warnings.filterwarnings(\"ignore\")\n",
    "import itertools as it\n",
    "import pickle"
   ]
  },
  {
   "cell_type": "markdown",
   "metadata": {},
   "source": [
    "<font size=\"5\">Assign a saving folder (where all the data and plots will be saved)</font>"
   ]
  },
  {
   "cell_type": "code",
   "execution_count": null,
   "metadata": {},
   "outputs": [],
   "source": [
    "saveFolder='./results/skySimulation/'"
   ]
  },
  {
   "cell_type": "markdown",
   "metadata": {},
   "source": [
    "<font size=\"5\">Set Offline path</font>"
   ]
  },
  {
   "cell_type": "code",
   "execution_count": null,
   "metadata": {},
   "outputs": [],
   "source": [
    "offlinePath='/home/max/auger/soft/offline/install/'"
   ]
  },
  {
   "cell_type": "markdown",
   "metadata": {},
   "source": [
    "Interactive or inline plotting (by default the plots are inline)."
   ]
  },
  {
   "cell_type": "code",
   "execution_count": null,
   "metadata": {},
   "outputs": [],
   "source": [
    "# for interactive plots (zoom, etc) use:\n",
    "# %matplotlib notebook #uncomment this\n",
    "# to turn it off use:\n",
    "# %matplotlib inline #uncomment this"
   ]
  },
  {
   "cell_type": "code",
   "execution_count": null,
   "metadata": {},
   "outputs": [],
   "source": [
    "# If it does not work try some of these:\n",
    "# import mpld3\n",
    "# mpld3.enable_notebook()\n",
    "# mpld3.disable_notebook()\n",
    "# %matplotlib tk  \n",
    "# %matplotlib qt #etc. - GUI windows show the figure externally to the notebook with the given interactive backend"
   ]
  },
  {
   "cell_type": "markdown",
   "metadata": {},
   "source": [
    "# Antenna pattern\n",
    "<p style='text-align: justify;'>\n",
    "The class <i>getAntennaPatternQuantities</i> reads the Offline XML file with the Antenna pattern. Further, it allows you to transform the antenna pattern's Offline azimuth convention 0$^\\circ$,360$^\\circ$ (with 0$^\\circ$ at East and North at +90$^\\circ$) to azimuth convention -180$^\\circ$,180$^\\circ$ (With East at +90$^\\circ$ and West at -90$^\\circ$) and from zenith to altitude. This convention is what is internal used by healpy. Also, you can interpolate the antenna pattern. See the examples. <br>\n",
    "***\n",
    "!!! Note that the NS antenna pattern in Offline is align to NS sensitivity. During the run Offline properly rotates the antenna pattern.\n",
    "See RModels_RD.xml and check the part with $<$OrientationAzimuth$>$.\n",
    "That is why the convention transformation in the class <i>getAntennaPatternQuantities</i> is different for the EW and NS orientation.\n",
    " </p>"
   ]
  },
  {
   "cell_type": "code",
   "execution_count": null,
   "metadata": {},
   "outputs": [],
   "source": [
    "# modules need by this class\n",
    "from collections import OrderedDict\n",
    "import os\n",
    "from lxml import etree as ET\n",
    "from io import StringIO\n",
    "from scipy.interpolate import interp1d\n",
    "\n",
    "class getAntennaPatternQuantities():\n",
    "    def __init__(self,antennaPath):\n",
    "        self._frequencyXML, phiXML, thetaXML, MeanTransferXML, self._theta_ampXML, self._theta_phaseXML,\\\n",
    "        self._phi_ampXML, self._phi_phaseXML = self._read_rp(antennaPath)\n",
    "        self._phi = list(OrderedDict.fromkeys(phiXML))\n",
    "        self._theta = list(OrderedDict.fromkeys(thetaXML))\n",
    "        self._templateDF = self._DFtemplateCreator(self._theta,self._phi,yName='phi')\n",
    "    def _DFtemplateCreator(self,xs,ys,yName=None):\n",
    "        colList = [str(x) for x in xs]\n",
    "        nan_init = np.empty((len(xs),len(ys),))\n",
    "        nan_init[:]=np.nan\n",
    "        templateDF = pd.DataFrame(nan_init.T, columns = colList)\n",
    "        templateDF.insert(0,yName,ys)\n",
    "        templateDF = templateDF.set_index(yName)\n",
    "        return templateDF\n",
    "    def _interpolate(self,df,newAxisValues, axis,kind='linear',\n",
    "        copy=True, bounds_error=None, fill_value=np.nan, assume_sorted=False):\n",
    "        if axis == 0:\n",
    "            InterpFunc = interp1d(df.index.values.astype(float),df.values,kind=kind,axis=0,\n",
    "            copy=copy, bounds_error=bounds_error, fill_value=fill_value, assume_sorted=assume_sorted)\n",
    "            templateDF = self._DFtemplateCreator(df.columns.values.astype(float),newAxisValues, yName='phi')\n",
    "        elif axis == -1:\n",
    "            InterpFunc = interp1d(df.columns.values.astype(float),df.values,kind=kind,axis=-1,\n",
    "            copy=copy, bounds_error=bounds_error, fill_value=fill_value, assume_sorted=assume_sorted)\n",
    "            templateDF = self._DFtemplateCreator(newAxisValues,df.index.values.astype(float), yName='phi')\n",
    "        newValues = InterpFunc(newAxisValues)\n",
    "        templateDF.iloc[:,:] = newValues\n",
    "        return templateDF\n",
    "    def get(self, frequency=45, quantity='', newPhi=None, newTheta=None,changeConvention=False,orientation=False,\n",
    "        kind='linear',copy=True, bounds_error=None, fill_value=np.nan, assume_sorted=False):\n",
    "        #print('Getting quantity: '+quantity+' at frequency: '+str(frequency))\n",
    "        findex = np.where(self._frequencyXML==frequency)[0][0]\n",
    "        temporaryDF = self._templateDF.copy(deep=True)\n",
    "        if quantity != 'absHeight':\n",
    "            exec('temporaryDF.iloc[:,:] = self._'+quantity+'XML[findex].reshape(len(self._phi),len(self._theta))')\n",
    "        elif quantity == 'absHeight':\n",
    "            absHeight = np.sqrt( (1/2)* (self._theta_ampXML[findex].reshape(len(self._phi),len(self._theta))**2 + \n",
    "            self._phi_ampXML[findex].reshape(len(self._phi),len(self._theta))**2)   )\n",
    "            temporaryDF.iloc[:,:] = absHeight\n",
    "        if changeConvention == True:\n",
    "            temporaryDF = self._changeAzimuthDefinitionAndZenith2Altitude(temporaryDF,orientation=orientation)\n",
    "        # if interpolate\n",
    "        if newPhi is not None:\n",
    "            temporaryDF = self._interpolate(temporaryDF, newPhi, axis=0, kind=kind,\n",
    "            copy=copy, bounds_error=bounds_error, fill_value=fill_value, assume_sorted=assume_sorted)\n",
    "        if newTheta is not None:\n",
    "            temporaryDF = self._interpolate(temporaryDF, newTheta, axis=-1, kind=kind,\n",
    "            copy=copy, bounds_error=bounds_error, fill_value=fill_value, assume_sorted=assume_sorted)\n",
    "        return temporaryDF\n",
    "    def _changeAzimuthDefinitionAndZenith2Altitude(self, df,orientation=False):\n",
    "        #def changeAzimuthDefinitionAndZenith2Altitude(temporaryDF):\n",
    "        # drop last coll since it is just copy of the first row to make things periodical\n",
    "        df = df.drop(index=360.0)\n",
    "        # change the azimuth order from counterclockwise to clockwise by -1 and rotate it by 90 deg to align North to 0\n",
    "        newIndex = np.asarray(df.index)\n",
    "        if orientation == 'EW':\n",
    "            newIndex=-(newIndex-90)\n",
    "        elif orientation == 'NS':\n",
    "            newIndex=-(newIndex-180)\n",
    "        else:\n",
    "            print('Set orientation of the antenna!')\n",
    "        # fix values outside the -180 to 180 interval\n",
    "        newIndex[np.where(newIndex<-180)] = newIndex[np.where(newIndex< -180)]+360\n",
    "        # set new index and sort by it\n",
    "        df=df.set_index(newIndex)\n",
    "        df=df.sort_index()\n",
    "        # find which periodical row is missing and add it\n",
    "        try:\n",
    "            lastRow = df.loc[-180.0]\n",
    "            lastRow.name=180.0\n",
    "        except:\n",
    "            lastRow = df.loc[180.0]\n",
    "            lastRow.name=-180.0\n",
    "        df=df.append(lastRow)\n",
    "        df=df.sort_index()\n",
    "        # now change zenith to altitude\n",
    "        cols=df.columns.tolist()\n",
    "        df=df[cols[::-1]]\n",
    "        df.columns=cols\n",
    "        return df\n",
    "    def getPhiAndThetaGrid(self):\n",
    "        return np.meshgrid(self._phi, self._theta)\n",
    "    def _read_rp(self, path): # credits to KIT for this funcion If the original author find this, send me your name :) !!!\n",
    "        def get_component(root, comp):\n",
    "            component = []\n",
    "            for x in root.findall(comp):\n",
    "                component.append(string_to_float_array(x.text))\n",
    "            return np.array(component)\n",
    "        def string_to_float_array(string, det=\" \"):# credits to KIT for this funcion\n",
    "            return np.array([float(x) for x in string.split(det) if x.strip()])\n",
    "        fopen = open(path, \"r\")\n",
    "        fstring = fopen.read()\n",
    "        # to create proper root\n",
    "        fstring = \"<rp>\" + fstring + \"</rp>\"\n",
    "        # get parser and tree\n",
    "        parser = ET.XMLParser(remove_blank_text=True, remove_comments=True)\n",
    "        tree = ET.parse(StringIO(fstring), parser)\n",
    "        # get root object\n",
    "        rp_root = tree.getroot()\n",
    "        frequency = string_to_float_array(rp_root.find(\"frequency\").text)\n",
    "        phi = string_to_float_array(rp_root.find(\"phi\").text)\n",
    "        theta = string_to_float_array(rp_root.find(\"theta\").text)\n",
    "        MeanTransfer = string_to_float_array(rp_root.find(\"MeanTransfer\").text)\n",
    "        theta_amp = get_component(rp_root, \"EAHTheta_amp\")\n",
    "        theta_phase = get_component(rp_root, \"EAHTheta_phase\")\n",
    "        phi_amp = get_component(rp_root, \"EAHPhi_amp\")\n",
    "        phi_phase = get_component(rp_root, \"EAHPhi_phase\")\n",
    "        for x in [theta_phase, phi_amp, phi_phase]:\n",
    "            if theta_amp.shape != x.shape:\n",
    "                sys.exit(\"Mismatch component\")\n",
    "        if len(frequency) != len(MeanTransfer):\n",
    "            sys.exit(\"Mismatch MeanTransfer\")\n",
    "        if len(frequency) != theta_amp.shape[0] or len(phi) != theta_amp.shape[1] or len(theta) != theta_amp.shape[1]:\n",
    "            print(len(frequency), len(phi), len(theta), theta_amp.shape)\n",
    "            sys.exit(\"Mismatch directions\")\n",
    "        return frequency, phi, theta, MeanTransfer, theta_amp, theta_phase, phi_amp, phi_phase"
   ]
  },
  {
   "cell_type": "markdown",
   "metadata": {},
   "source": [
    "Set path to the antenna pattern XML files."
   ]
  },
  {
   "cell_type": "code",
   "execution_count": null,
   "metadata": {},
   "outputs": [],
   "source": [
    "#antennaPathEW = offlinePath+'/share/auger-offline/config/SALLA_RD_NEC2_with-WCD-SSD_EW.xml'\n",
    "#antennaPathNS = offlinePath+'/share/auger-offline/config/SALLA_RD_NEC2_with-WCD-SSD_NS.xml'\n",
    "antennaPathEW = '/home/max/auger/soft/offline/Framework/RDetector/AntennaModels/SALLA/SALLA_RD_NEC2_with-WCD-SSD_EW_GND-6-Very_Poor.xml'\n",
    "antennaPathNS = '/home/max/auger/soft/offline/Framework/RDetector/AntennaModels/SALLA/SALLA_RD_NEC2_with-WCD-SSD_NS_GND-6-Very_Poor.xml'"
   ]
  },
  {
   "cell_type": "markdown",
   "metadata": {},
   "source": [
    "Create antenna class for EW and NS orientation."
   ]
  },
  {
   "cell_type": "code",
   "execution_count": null,
   "metadata": {},
   "outputs": [],
   "source": [
    "antennaEW = getAntennaPatternQuantities(antennaPathEW)\n",
    "antennaNS = getAntennaPatternQuantities(antennaPathNS)"
   ]
  },
  {
   "cell_type": "markdown",
   "metadata": {},
   "source": [
    "## Examples"
   ]
  },
  {
   "cell_type": "markdown",
   "metadata": {},
   "source": [
    "### Plot of antenna pattern quantity Q at frequency F"
   ]
  },
  {
   "cell_type": "code",
   "execution_count": null,
   "metadata": {},
   "outputs": [],
   "source": [
    "# select frequency\n",
    "frequency=45\n",
    "\n",
    "# choose quantity\n",
    "quantity = 'phi_amp'\n",
    "# quantity = 'theta_amp'\n",
    "# quantity = 'absHeight'\n",
    "\n",
    "# select EW orientation\n",
    "orientation = 'EW'\n",
    "antenna=antennaEW\n",
    "Amp = antenna.get(quantity=quantity,frequency=frequency)\n",
    "\n",
    "close=False\n",
    "# save=False\n",
    "save=saveFolder+orientation+\"_\"+quantity+'_'+str(frequency)+'Mhz'\n",
    "\n",
    "P, T = np.meshgrid(Amp.index.values.astype(float),Amp.columns.values.astype(float))\n",
    "myPlots.plot3dnewV3(P, T, Amp.values.T,slices=True, ymax=91.5, xMajorLocator=30, yMajorLocator=10, figureWidth=12, figureHeight=8,\n",
    "                    xlabel='phi$\\degree$',ylabel='theta$\\degree$',cbarLabel=quantity+' [m]',\n",
    "                    mainTitle=orientation+\" orientation at frequency \"+str(frequency)+' [MHz]',\n",
    "                    save=save,close=close)\n",
    "    \n",
    "# select NS orientation\n",
    "orientation = 'NS'\n",
    "antenna=antennaNS\n",
    "Amp = antenna.get(quantity=quantity,frequency=frequency)\n",
    "save=False\n",
    "save=saveFolder+orientation+\"_\"+quantity+'_'+str(frequency)+'Mhz'\n",
    "\n",
    "P, T = np.meshgrid(Amp.index.values.astype(float),Amp.columns.values.astype(float))\n",
    "myPlots.plot3dnewV3(P, T, Amp.values.T,slices=True, ymax=91.5, xMajorLocator=30, yMajorLocator=10, figureWidth=12, figureHeight=8,\n",
    "                    xlabel='phi$\\degree$',ylabel='theta$\\degree$',cbarLabel=quantity+' [m]',\n",
    "                    mainTitle=orientation+\" orientation at frequency \"+str(frequency)+' [MHz]',\n",
    "                    save=save,close=close)"
   ]
  },
  {
   "cell_type": "markdown",
   "metadata": {},
   "source": [
    "### Plot of antenna pattern quantity Q at frequency F with interpolated phi and theta coordinates"
   ]
  },
  {
   "cell_type": "code",
   "execution_count": null,
   "metadata": {},
   "outputs": [],
   "source": [
    "incTheta = 0.1\n",
    "incPhi = 0.1\n",
    "newTheta = np.arange(0,90+incTheta,incTheta)\n",
    "newPhi= np.arange(0,360+incPhi,incPhi)\n",
    "\n",
    "# select frequency\n",
    "frequency=45\n",
    "\n",
    "# choose quantity\n",
    "quantity = 'phi_amp'\n",
    "# quantity = 'theta_amp'\n",
    "# quantity = 'absHeight'\n",
    "\n",
    "# select EW orientation\n",
    "orientation = 'EW'\n",
    "antenna=antennaEW\n",
    "\n",
    "# select NS orientation\n",
    "# orientation = 'NS'\n",
    "# antenna=antennaNS\n",
    "\n",
    "close=False\n",
    "# save=False\n",
    "save=saveFolder+orientation+\"_\"+quantity+'_'+str(frequency)+'Mhz'+'_thetaInterp_cubic'\n",
    "\n",
    "# kind = linear, cubic etc. see scipy interp1d for options\n",
    "Amp = antenna.get(quantity=quantity, frequency=frequency, newTheta=newTheta, newPhi=newPhi, kind='cubic', changeConvention=False, orientation='EW')\n",
    "\n",
    "P, T = np.meshgrid(Amp.index.values.astype(float),Amp.columns.values.astype(float))\n",
    "myPlots.plot3dnewV3(P, T, Amp.values.T,slices=True, ymax=91.5, xMajorLocator=30, yMajorLocator=10, figureWidth=12, figureHeight=8,\n",
    "                    xlabel='phi$\\degree$',ylabel='theta$\\degree$',cbarLabel=quantity+' [m]',\n",
    "                    mainTitle=orientation+\" orientation at frequency \"+str(frequency)+' [MHz]',\n",
    "                    save=save, close=close)"
   ]
  },
  {
   "cell_type": "markdown",
   "metadata": {},
   "source": [
    "### Plot of antenna pattern quantity Q at frequency F with the changed convention\n",
    "Change from the Offline azimuth convention to -180$^{\\circ}$ and 180$^{\\circ}$ azimuth with North at 0$^{\\circ}$  and East at 90$^{\\circ}$, West at -90$^{\\circ}$ and from zenith to altitude. Or in other words, from Offline convention to healpy internal standard."
   ]
  },
  {
   "cell_type": "code",
   "execution_count": null,
   "metadata": {},
   "outputs": [],
   "source": [
    "# select frequency\n",
    "frequency=45\n",
    "\n",
    "# choose quantity\n",
    "# quantity = 'phi_amp'\n",
    "# quantity = 'theta_amp'\n",
    "quantity = 'absHeight'\n",
    "\n",
    "# select EW orientation\n",
    "orientation = 'EW'\n",
    "antenna=antennaEW\n",
    "\n",
    "# select NS orientation\n",
    "# orientation = 'NS'\n",
    "# antenna=antennaNS\n",
    "\n",
    "close=False\n",
    "# save=False\n",
    "save=saveFolder+orientation+\"_\"+quantity+'_'+str(frequency)+'Mhz'\n",
    "\n",
    "# changeConvention=True,orientation='EW', EW and NS has to be treated differently since both are in Offline align to North\n",
    "Amp = antenna.get(quantity=quantity, frequency=frequency, changeConvention=True, orientation='EW')\n",
    "\n",
    "\n",
    "P, T = np.meshgrid(Amp.index.values.astype(float),Amp.columns.values.astype(float))\n",
    "myPlots.plot3dnewV3(P, T, Amp.values.T, slices=True, ymax=91.5, xMajorLocator=30, yMajorLocator=10, figureWidth=12, figureHeight=8,\n",
    "                    xlabel='phi$\\degree$',ylabel='theta$\\degree$',cbarLabel=quantity+' [m]',\n",
    "                    mainTitle=orientation+\" orientation at frequency \"+str(frequency)+' [MHz]',\n",
    "                    save=save,close=close)"
   ]
  },
  {
   "cell_type": "markdown",
   "metadata": {},
   "source": [
    "### Plot of antenna pattern quantity Q at frequency F with the changed convention with interpolated values\n",
    "This is the most usefull for the real work. We need to change the Offline convention to healpy convention with properly rotated NS antenna with a custom angle spacing."
   ]
  },
  {
   "cell_type": "code",
   "execution_count": null,
   "metadata": {},
   "outputs": [],
   "source": [
    "incTheta = 0.1\n",
    "incPhi = 0.1\n",
    "newTheta = np.arange(0,90+incTheta,incTheta)\n",
    "newPhi= np.arange(-180,180+incPhi,incPhi)\n",
    "\n",
    "# select frequency\n",
    "frequency=45\n",
    "\n",
    "# choose quantity\n",
    "# quantity = 'phi_amp'\n",
    "# quantity = 'theta_amp'\n",
    "quantity = 'absHeight'\n",
    "\n",
    "# select EW orientation\n",
    "orientation = 'EW'\n",
    "antenna=antennaEW\n",
    "\n",
    "close=False\n",
    "# save=False\n",
    "save=saveFolder+orientation+\"_\"+quantity+'_'+str(frequency)+'Mhz'+'_thetaInterp_cubic'\n",
    "\n",
    "# changeConvention=True,orientation='EW', EW and NS has to be treated differently since both are in Offline align to North\n",
    "Amp = antenna.get(quantity=quantity, frequency=frequency, changeConvention=True, orientation=orientation, newTheta=newTheta, newPhi=newPhi,kind='cubic')\n",
    "\n",
    "P, T = np.meshgrid(Amp.index.values.astype(float),Amp.columns.values.astype(float))\n",
    "myPlots.plot3dnewV3(P, T, Amp.values.T,slices=True, ymax=91.5, xMajorLocator=30, yMajorLocator=10, figureWidth=12, figureHeight=8,\n",
    "                    xlabel='phi$\\degree$',ylabel='theta$\\degree$',cbarLabel=quantity+' [m]',\n",
    "                    mainTitle=orientation+\" orientation at frequency \"+str(frequency)+' [MHz]',\n",
    "                    save=save,close=close)\n",
    "\n",
    "# select NS orientation\n",
    "orientation = 'NS'\n",
    "antenna=antennaNS\n",
    "\n",
    "# save=False\n",
    "save=saveFolder+orientation+\"_\"+quantity+'_'+str(frequency)+'Mhz'+'_thetaInterp_cubic'\n",
    "\n",
    "Amp = antenna.get(quantity=quantity, frequency=frequency, changeConvention=True, orientation=orientation, newTheta=newTheta, newPhi=newPhi, kind='cubic')\n",
    "\n",
    "P, T = np.meshgrid(Amp.index.values.astype(float),Amp.columns.values.astype(float))\n",
    "myPlots.plot3dnewV3(P, T, Amp.values.T,slices=True, ymax=91.5, xMajorLocator=30, yMajorLocator=10, figureWidth=12, figureHeight=8,\n",
    "                    xlabel='phi$\\degree$',ylabel='theta$\\degree$',cbarLabel=quantity+' [m]',\n",
    "                    mainTitle=orientation+\" orientation at frequency \"+str(frequency)+' [MHz]',\n",
    "                    save=save,close=close)"
   ]
  },
  {
   "cell_type": "markdown",
   "metadata": {},
   "source": [
    "# Radio sky temperature map simulations"
   ]
  },
  {
   "cell_type": "markdown",
   "metadata": {},
   "source": [
    "<font size=\"5\">Import necessery modules</font>"
   ]
  },
  {
   "cell_type": "code",
   "execution_count": null,
   "metadata": {},
   "outputs": [],
   "source": [
    "import healpy"
   ]
  },
  {
   "cell_type": "code",
   "execution_count": null,
   "metadata": {},
   "outputs": [],
   "source": [
    "# healpy as the manipulation tool\n",
    "import healpy as hp\n",
    "# the upgraded newvisufunc is not yet in the official release\n",
    "# current it is a pull request https://github.com/healpy/healpy/pull/648\n",
    "from healpy import newvisufunc"
   ]
  },
  {
   "cell_type": "code",
   "execution_count": null,
   "metadata": {},
   "outputs": [],
   "source": [
    "# import pyGDSM module\n",
    "sys.path.append(\"/workdata/LFSS\")\n",
    "from pygdsm import GlobalSkyModel2016, GlobalSkyModel, LowFrequencySkyModel, HaslamSkyModel"
   ]
  },
  {
   "cell_type": "markdown",
   "metadata": {},
   "source": [
    "Import Polisensky's LFmap as a class  (you need to run the script LFmap_healpyFitsConvertorAndGenerator.py inside the LFmap software folder to generate and convert the fits format to healpy fits format).<br>\n",
    "Note please, that Polisensky's LFmap, these are by default generated in Celestial coordinated."
   ]
  },
  {
   "cell_type": "markdown",
   "metadata": {},
   "source": [
    "<font size=\"5\">Set path to the LFmap folder:</font>"
   ]
  },
  {
   "cell_type": "code",
   "execution_count": null,
   "metadata": {},
   "outputs": [],
   "source": [
    "LFmapPath='/home/max/auger/soft/LFmap_1.0/'"
   ]
  },
  {
   "cell_type": "code",
   "execution_count": null,
   "metadata": {},
   "outputs": [],
   "source": [
    "class LFmap():\n",
    "    def __init__(self, path):\n",
    "        self._path=path\n",
    "    def generate(self,frequency):\n",
    "        return hp.read_map(self._path+\"LFmap_\"+str(frequency)+\"_healpy.fits\",verbose=True)"
   ]
  },
  {
   "cell_type": "markdown",
   "metadata": {},
   "source": [
    "Set path to GMOSS folder:"
   ]
  },
  {
   "cell_type": "code",
   "execution_count": null,
   "metadata": {},
   "outputs": [],
   "source": [
    "GMOSS_path='/home/max/auger/soft/new_sky_models/GMOSS/'"
   ]
  },
  {
   "cell_type": "code",
   "execution_count": null,
   "metadata": {},
   "outputs": [],
   "source": [
    "class GMOSS():\n",
    "    def __init__(self, path):\n",
    "        self._path=path\n",
    "    def generate(self,frequency):\n",
    "        return hp.read_map(self._path+'GMOSS_'+str(frequency).replace('.','_')+'_healpy.fits',verbose=True)"
   ]
  },
  {
   "cell_type": "markdown",
   "metadata": {},
   "source": [
    "Set path to SSM folder:"
   ]
  },
  {
   "cell_type": "code",
   "execution_count": null,
   "metadata": {},
   "outputs": [],
   "source": [
    "SSM_path='/home/max/auger/soft/new_sky_models/SSM/'"
   ]
  },
  {
   "cell_type": "code",
   "execution_count": null,
   "metadata": {},
   "outputs": [],
   "source": [
    "class SSM():\n",
    "    def __init__(self, path):\n",
    "        self._path=path\n",
    "    def generate(self,frequency):\n",
    "        return hp.read_map(self._path+'SSM_'+str(frequency).replace('.','_')+'_healpy.fits',verbose=True)"
   ]
  },
  {
   "cell_type": "markdown",
   "metadata": {},
   "source": [
    "Set path to ULSA folder (constant index):"
   ]
  },
  {
   "cell_type": "code",
   "execution_count": null,
   "metadata": {},
   "outputs": [],
   "source": [
    "ULSA_constant_path='/home/max/auger/soft/new_sky_models/ULSA/constant_index/'"
   ]
  },
  {
   "cell_type": "code",
   "execution_count": null,
   "metadata": {},
   "outputs": [],
   "source": [
    "class ULSA_c():\n",
    "    def __init__(self, path):\n",
    "        self._path=path\n",
    "    def generate(self,frequency):\n",
    "        return hp.read_map(self._path+'ULSA_'+str(frequency).replace('.','_')+'_healpy.fits',verbose=True)"
   ]
  },
  {
   "cell_type": "markdown",
   "metadata": {},
   "source": [
    "Set path to ULSA folder (constant index, absorption free):"
   ]
  },
  {
   "cell_type": "code",
   "execution_count": null,
   "metadata": {},
   "outputs": [],
   "source": [
    "ULSA_constant_absfree_path='/home/max/auger/soft/new_sky_models/ULSA/constant_index/absorption_free/'"
   ]
  },
  {
   "cell_type": "code",
   "execution_count": null,
   "metadata": {},
   "outputs": [],
   "source": [
    "class ULSA_c_af():\n",
    "    def __init__(self, path):\n",
    "        self._path=path\n",
    "    def generate(self,frequency):\n",
    "        return hp.read_map(self._path+'ULSA_'+str(frequency).replace('.','_')+'_healpy.fits',verbose=True)"
   ]
  },
  {
   "cell_type": "markdown",
   "metadata": {},
   "source": [
    "Set path to ULSA folder (freq dependent index):"
   ]
  },
  {
   "cell_type": "code",
   "execution_count": null,
   "metadata": {},
   "outputs": [],
   "source": [
    "ULSA_freq_path='/home/max/auger/soft/new_sky_models/ULSA/freq_dependent_index/'"
   ]
  },
  {
   "cell_type": "code",
   "execution_count": null,
   "metadata": {},
   "outputs": [],
   "source": [
    "class ULSA_f():\n",
    "    def __init__(self, path):\n",
    "        self._path=path\n",
    "    def generate(self,frequency):\n",
    "        return hp.read_map(self._path+'ULSA_'+str(frequency).replace('.','_')+'_healpy.fits',verbose=True)"
   ]
  },
  {
   "cell_type": "markdown",
   "metadata": {},
   "source": [
    "Set path to ULSA folder (direction dependent index):"
   ]
  },
  {
   "cell_type": "code",
   "execution_count": null,
   "metadata": {},
   "outputs": [],
   "source": [
    "ULSA_dir_path='/home/max/auger/soft/new_sky_models/ULSA/direction_dependent_index/'"
   ]
  },
  {
   "cell_type": "code",
   "execution_count": null,
   "metadata": {},
   "outputs": [],
   "source": [
    "class ULSA_d():\n",
    "    def __init__(self, path):\n",
    "        self._path=path\n",
    "    def generate(self,frequency):\n",
    "        return hp.read_map(self._path+'ULSA_'+str(frequency).replace('.','_')+'_healpy.fits',verbose=True)"
   ]
  },
  {
   "cell_type": "markdown",
   "metadata": {},
   "source": [
    "Set path to Remazeilles folder:"
   ]
  },
  {
   "cell_type": "code",
   "execution_count": null,
   "metadata": {},
   "outputs": [],
   "source": [
    "Remazeilles_dir_path='/home/max/auger/soft/new_sky_models/Remazeilles/'"
   ]
  },
  {
   "cell_type": "code",
   "execution_count": null,
   "metadata": {},
   "outputs": [],
   "source": [
    "class Remazeilles():\n",
    "    def __init__(self, path):\n",
    "        self._path=path\n",
    "    def generate(self,frequency):\n",
    "        return hp.read_map(self._path+'Remazeilles_'+str(frequency).replace('.','_')+'_healpy.fits',verbose=True)"
   ]
  },
  {
   "cell_type": "markdown",
   "metadata": {},
   "source": [
    "Set path to Refs folder:"
   ]
  },
  {
   "cell_type": "code",
   "execution_count": null,
   "metadata": {},
   "outputs": [],
   "source": [
    "Refs_dir_path='/home/max/auger/soft/galactic_calibration/sky_maps/reference_maps/'"
   ]
  },
  {
   "cell_type": "code",
   "execution_count": null,
   "metadata": {},
   "outputs": [],
   "source": [
    "class Refs():\n",
    "    def __init__(self, path):\n",
    "        self._path=path\n",
    "    def generate(self,frequency):\n",
    "        return hp.read_map(self._path+str(frequency).replace('.','_')+'_MHz.fits',verbose=True)"
   ]
  },
  {
   "cell_type": "markdown",
   "metadata": {},
   "source": [
    "Create the sky temperature map classes for both references."
   ]
  },
  {
   "cell_type": "code",
   "execution_count": null,
   "metadata": {},
   "outputs": [],
   "source": [
    "# for Polisensky's LFmap\n",
    "g_LFmap = LFmap(LFmapPath+\"/healpyFits/\")\n",
    "g_GMOSS = GMOSS(GMOSS_path+'/healpyFits/')\n",
    "g_SSM = SSM(SSM_path+'/healpyFits/')\n",
    "g_ULSA_c = ULSA_c(ULSA_constant_path+'/healpyFits/')\n",
    "g_ULSA_f = ULSA_f(ULSA_freq_path+'/healpyFits/')\n",
    "g_ULSA_c_af = ULSA_c_af(ULSA_constant_absfree_path+'/healpyFits/')\n",
    "g_ULSA_d = ULSA_c_af(ULSA_dir_path+'/healpyFits/')\n",
    "g_Remazeilles = Remazeilles(Remazeilles_dir_path+'/healpyFits/')\n",
    "g_Refs = Refs(Refs_dir_path)\n",
    "# for lf map from pygdsem\n",
    "g_LFSS = LowFrequencySkyModel(freq_unit='MHz')\n",
    "g_GSM = GlobalSkyModel(freq_unit='MHz')\n",
    "g_GSM16 = GlobalSkyModel2016(freq_unit='MHz')\n",
    "g_Haslam = HaslamSkyModel(freq_unit='MHz')"
   ]
  },
  {
   "cell_type": "markdown",
   "metadata": {},
   "source": [
    "## Examples\n",
    "For more examples check the notebook dedicated for this (skyMapExamples)"
   ]
  },
  {
   "cell_type": "markdown",
   "metadata": {},
   "source": [
    "First generate maps at some frequency (for example 45 MHz). Please write the frequency in the format with the decimal. The class for LFmap is searching for the correct map by use of the filename."
   ]
  },
  {
   "cell_type": "code",
   "execution_count": null,
   "metadata": {},
   "outputs": [],
   "source": [
    "freq = 50.0\n",
    "\n",
    "map_LFSS = np.log10(g_LFSS.generate(freq))\n",
    "map_LFSS_title = \"LFSS\"\n",
    "map_LFmap = np.log10(g_LFmap.generate(freq))\n",
    "map_LFmap_title = \"LFmap\"\n",
    "map_GSM = np.log10(g_GSM.generate(freq))\n",
    "map_GSM_title = \"GSM\"\n",
    "map_GSM16 = np.log10(g_GSM16.generate(freq))\n",
    "map_GSM16_title = \"GSM16\"\n",
    "map_GMOSS = np.log10(g_GMOSS.generate(freq))\n",
    "map_GMOSS_title = \"GMOSS\"\n",
    "map_SSM = np.log10(g_SSM.generate(freq))\n",
    "map_SSM_title = \"SSM\"\n",
    "map_ULSA_c = np.log10(g_ULSA_c.generate(freq))\n",
    "map_ULSA_c_title = \"ULSA (constant index)\"\n",
    "map_ULSA_f = np.log10(g_ULSA_f.generate(freq))\n",
    "map_ULSA_f_title = \"ULSA (frequency dependent index)\"\n",
    "map_ULSA_d = np.log10(g_ULSA_d.generate(freq))\n",
    "map_ULSA_d_title = \"ULSA (direction dependent index)\"\n",
    "map_ULSA_c_af = np.log10(g_ULSA_c_af.generate(freq))\n",
    "map_ULSA_c_af_title = \"ULSA (constant index, absorption free)\"\n",
    "map_Haslam = np.log10(g_Haslam.generate(freq))\n",
    "map_Haslam_title = \"Haslam\"\n",
    "#map_Remazeilles = np.log10(g_Remazeilles.generate(freq))\n",
    "#map_Remazeilles_title = \"Remazeilles\"\n",
    "map_Refs = g_Refs.generate(36.528)\n",
    "map_Refs_title = \"Refs\""
   ]
  },
  {
   "cell_type": "markdown",
   "metadata": {},
   "source": [
    "###  Maps in Galactic coordinates\n",
    "Also you can check other possible projections, like cart, hammer etc. Check skyMapExample notebook for this."
   ]
  },
  {
   "cell_type": "code",
   "execution_count": null,
   "metadata": {},
   "outputs": [],
   "source": [
    "from importlib import reload\n",
    "reload(hp.newvisufunc)\n",
    "import pygdsm"
   ]
  },
  {
   "cell_type": "code",
   "execution_count": null,
   "metadata": {},
   "outputs": [],
   "source": [
    "plt.rc('text', usetex=True)\n",
    "plt.rc('font', family='serif')\n",
    "\n",
    "'''\n",
    "# mollweide projections\n",
    "newvisufunc.projview(map_LFSS, coord=['G'],graticule=True, graticule_labels=True,\n",
    "                    unit=r'$T/K$', #xlabel='longitude',ylabel='latitude',\n",
    "                    cbticks=[3.5,4.0,4.5,5.0], cbticklabels=[r'$10^{3.5}$',r'$10^4$',r'$10^{4.5}$',r'$10^5$'],\n",
    "                    cb_orientation='vertical',min=3.5,max=5,latitude_grid_spacing=30,\n",
    "                    projection_type=\"mollweide\",lcolor='white') #,title=map_LFSS_title\n",
    "plt.savefig(saveFolder+'Example_map_LFSM.pdf', facecolor='white', bbox_inches='tight')\n",
    "\n",
    "'''\n",
    "newvisufunc.projview(map_LFmap, coord=['C','G'],graticule=True, graticule_labels=True,\n",
    "                    unit=r'$T/K$', #xlabel='l',ylabel='b',\n",
    "                    cbticks=[3.5,4.0,4.5,5.0], cbticklabels=[r'$10^{3.5}$',r'$10^4$',r'$10^{4.5}$',r'$10^5$'],\n",
    "                    cb_orientation='vertical',min=3.5,max=5,latitude_grid_spacing=30,\n",
    "                    projection_type=\"mollweide\",lcolor='white') #,title=map_LFmap_title\n",
    "plt.savefig(saveFolder+'Example_map_LFmap.pdf', facecolor='white', bbox_inches='tight')\n",
    "'''\n",
    "newvisufunc.projview(map_GSM, coord=['G'],graticule=True, graticule_labels=True,\n",
    "                    unit=r'$T/K$', #xlabel='longitude',ylabel='latitude',\n",
    "                    cbticks=[3.5,4.0,4.5,5.0], cbticklabels=[r'$10^{3.5}$',r'$10^4$',r'$10^{4.5}$',r'$10^5$'],\n",
    "                    cb_orientation='vertical',min=3.5,max=5,latitude_grid_spacing=30,\n",
    "                    projection_type=\"mollweide\",lcolor='white') #,title=map_LFSS_title\n",
    "plt.savefig(saveFolder+'Example_map_GSM.pdf', facecolor='white', bbox_inches='tight')\n",
    "\n",
    "newvisufunc.projview(map_GSM16, coord=['G'],graticule=True, graticule_labels=True,\n",
    "                    unit=r'$T/K$', #xlabel='longitude',ylabel='latitude',\n",
    "                    cbticks=[3.5,4.0,4.5,5.0], cbticklabels=[r'$10^{3.5}$',r'$10^4$',r'$10^{4.5}$',r'$10^5$'],\n",
    "                    cb_orientation='vertical',min=3.5,max=5,latitude_grid_spacing=30,\n",
    "                    projection_type=\"mollweide\",lcolor='white') #,title=map_LFSS_title\n",
    "plt.savefig(saveFolder+'Example_map_GSM16.pdf', facecolor='white', bbox_inches='tight')\n",
    "\n",
    "newvisufunc.projview(map_GMOSS, coord=['G'],graticule=True, graticule_labels=True,\n",
    "                    unit=r'$T/K$', #xlabel='longitude',ylabel='latitude',\n",
    "                    cbticks=[3.5,4.0,4.5,5.0], cbticklabels=[r'$10^{3.5}$',r'$10^4$',r'$10^{4.5}$',r'$10^5$'],\n",
    "                    cb_orientation='vertical',min=3.5,max=5,latitude_grid_spacing=30,\n",
    "                    projection_type=\"mollweide\",lcolor='white') #,title=map_LFSS_title\n",
    "plt.savefig(saveFolder+'Example_map_GMOSS.pdf', facecolor='white', bbox_inches='tight')\n",
    "\n",
    "newvisufunc.projview(map_SSM, coord=['G'],graticule=True, graticule_labels=True,\n",
    "                    unit=r'$T/K$', #xlabel='longitude',ylabel='latitude',\n",
    "                    cbticks=[3.5,4.0,4.5,5.0], cbticklabels=[r'$10^{3.5}$',r'$10^4$',r'$10^{4.5}$',r'$10^5$'],\n",
    "                    cb_orientation='vertical',min=3.5,max=5,latitude_grid_spacing=30,\n",
    "                    projection_type=\"mollweide\",lcolor='white') #,title=map_LFSS_title\n",
    "plt.savefig(saveFolder+'Example_map_SSM.pdf', facecolor='white', bbox_inches='tight')\n",
    "\n",
    "newvisufunc.projview(map_ULSA_c, coord=['G'],graticule=True, graticule_labels=True,\n",
    "                    unit=r'$T/K$', #xlabel='longitude',ylabel='latitude',\n",
    "                    cbticks=[3.5,4.0,4.5,5.0], cbticklabels=[r'$10^{3.5}$',r'$10^4$',r'$10^{4.5}$',r'$10^5$'],\n",
    "                    cb_orientation='vertical',min=3.5,max=5,latitude_grid_spacing=30,\n",
    "                    projection_type=\"mollweide\",lcolor='white') #,title=map_LFSS_title\n",
    "plt.savefig(saveFolder+'Example_map_ULSA_c.pdf', facecolor='white', bbox_inches='tight')\n",
    "\n",
    "newvisufunc.projview(map_ULSA_f, coord=['G'],graticule=True, graticule_labels=True,\n",
    "                    unit=r'$T/K$', #xlabel='longitude',ylabel='latitude',\n",
    "                    cbticks=[3.5,4.0,4.5,5.0], cbticklabels=[r'$10^{3.5}$',r'$10^4$',r'$10^{4.5}$',r'$10^5$'],\n",
    "                    cb_orientation='vertical',min=3.5,max=5,latitude_grid_spacing=30,\n",
    "                    projection_type=\"mollweide\",lcolor='white') #,title=map_LFSS_title\n",
    "plt.savefig(saveFolder+'Example_map_ULSA_f.pdf', facecolor='white', bbox_inches='tight')\n",
    "\n",
    "newvisufunc.projview(map_ULSA_d, coord=['G'],graticule=True, graticule_labels=True,\n",
    "                    unit=r'$T/K$', #xlabel='longitude',ylabel='latitude',\n",
    "                    cbticks=[3.5,4.0,4.5,5.0], cbticklabels=[r'$10^{3.5}$',r'$10^4$',r'$10^{4.5}$',r'$10^5$'],\n",
    "                    cb_orientation='vertical',min=3.5,max=5,latitude_grid_spacing=30,\n",
    "                    projection_type=\"mollweide\",lcolor='white') #,title=map_LFSS_title\n",
    "plt.savefig(saveFolder+'Example_map_ULSA_d.pdf', facecolor='white', bbox_inches='tight')\n",
    "\n",
    "newvisufunc.projview(map_ULSA_c_af, coord=['G'],graticule=True, graticule_labels=True,\n",
    "                    unit=r'$T/K$', #xlabel='longitude',ylabel='latitude',\n",
    "                    cbticks=[3.5,4.0,4.5,5.0], cbticklabels=[r'$10^{3.5}$',r'$10^4$',r'$10^{4.5}$',r'$10^5$'],\n",
    "                    cb_orientation='vertical',min=3.5,max=5,latitude_grid_spacing=30,\n",
    "                    projection_type=\"mollweide\",lcolor='white') #,title=map_LFSS_title\n",
    "plt.savefig(saveFolder+'Example_map_ULSA_c_af.pdf', facecolor='white', bbox_inches='tight')\n",
    "\n",
    "newvisufunc.projview(map_Haslam, coord=['G'],graticule=True, graticule_labels=True,\n",
    "                    unit=r'$T/K$', #xlabel='longitude',ylabel='latitude',\n",
    "                    cbticks=[3.5,4.0,4.5,5.0], cbticklabels=[r'$10^{3.5}$',r'$10^4$',r'$10^{4.5}$',r'$10^5$'],\n",
    "                    cb_orientation='vertical',min=3.5,max=5,latitude_grid_spacing=30,\n",
    "                    projection_type=\"mollweide\",lcolor='white') #,title=map_LFSS_title\n",
    "plt.savefig(saveFolder+'Example_map_Haslam.pdf', facecolor='white', bbox_inches='tight')\n",
    "'''\n",
    "'''\n",
    "newvisufunc.projview(map_Remazeilles, coord=['G'],graticule=True, graticule_labels=True,\n",
    "                    unit=r'$T/K$', #xlabel='longitude',ylabel='latitude',\n",
    "                    cbticks=[3.5,4.0,4.5,5.0], cbticklabels=[r'$10^{3.5}$',r'$10^4$',r'$10^{4.5}$',r'$10^5$'],\n",
    "                    cb_orientation='vertical',min=0.5,max=3,latitude_grid_spacing=30,\n",
    "                    projection_type=\"mollweide\",lcolor='white') #,title=map_LFSS_title\n",
    "plt.savefig(saveFolder+'Example_map_Remazeilles.pdf', facecolor='white', bbox_inches='tight')\n",
    "'''\n",
    "newvisufunc.projview(map_Refs, coord=['G','C'],graticule=True, graticule_labels=True,\n",
    "                    unit=r'$T/K$', #xlabel='l',ylabel='b',\n",
    "                    #cbticks=[3.5,4.0,4.5,5.0], cbticklabels=[r'$10^{3.5}$',r'$10^4$',r'$10^{4.5}$',r'$10^5$'],\n",
    "                    #cbticks=[0,2.0e4,4.0e4,6.0e4,8.0e4], cbticklabels=['0','20000','40000','60000','80000'],\n",
    "                    cb_orientation='vertical',latitude_grid_spacing=30,#  min=-1.5e4,max=9e4, cmap='magma',\n",
    "                    projection_type=\"mollweide\",lcolor='white') #,title=map_LFmap_title\n",
    "plt.savefig(saveFolder+'Example_map_Refs.pdf', facecolor='white', bbox_inches='tight')"
   ]
  },
  {
   "cell_type": "markdown",
   "metadata": {},
   "source": [
    "###  Transformation to the Local coordinates system"
   ]
  },
  {
   "cell_type": "markdown",
   "metadata": {},
   "source": [
    "Rotate the maps to PAO local coordinates at the some particular LST time."
   ]
  },
  {
   "cell_type": "code",
   "execution_count": null,
   "metadata": {},
   "outputs": [],
   "source": [
    "# PAO altitude is -35.206667 degs\n",
    "LSTtime=18\n",
    "altitude = -35.206667"
   ]
  },
  {
   "cell_type": "markdown",
   "metadata": {},
   "source": [
    "Transform the coordinates and make the plots."
   ]
  },
  {
   "cell_type": "code",
   "execution_count": null,
   "metadata": {},
   "outputs": [],
   "source": [
    "# Local coordinates at LST time \"LSTtime\" at altitude \"altitude\"\n",
    "rotAngles=[(180+(LSTtime*15))%360,-(altitude-90)]\n",
    "newvisufunc.projview(map_LFSS,rot=rotAngles, coord=['G','C'],graticule=True, graticule_labels=True,\n",
    "                    unit='Temperature log[K]',xlabel='Azimuth',ylabel='Altitude',\n",
    "                    cb_orientation='vertical',min=3.5,max=5,latitude_grid_spacing=30,\n",
    "                    projection_type=\"cart\",title='LFSS - Local coordinates',lcolor='white')\n",
    "\n",
    "newvisufunc.projview(map_LFmap, rot=rotAngles, coord=['C'],graticule=True, graticule_labels=True,\n",
    "                    unit='Temperature log[K]',xlabel='Azimuth',ylabel='Altitude',\n",
    "                    cb_orientation='vertical',min=3.5,max=5,latitude_grid_spacing=30,\n",
    "                    projection_type=\"cart\",title=\"Polisensky's LFmap - Local coordinates\",lcolor='white')\n",
    "#The default is to measure azimuth East from North\n",
    "# 0 is north 90 is east 180 is souht, 270 is west"
   ]
  },
  {
   "cell_type": "markdown",
   "metadata": {},
   "source": [
    "### Data dump and DataFrame creation\n",
    "An example of how to dump the data from the maps. This is very important because later we need to convolute the sky temperature maps with the antenna pattern. Always check the dump data by plotting them (for example with function myPlots.plot3d()). <br>\n",
    "The data dump will return three variables: <br>\n",
    "longitude, latitude, grid_map <br>\n",
    "where the longtitude goes from -pi to pi (-180 to 180 in degs) and the latitude goes from -pi/2 to pi/2 (-90$^\\circ$ to 90$^\\circ$) <br>\n",
    "Longitude and latitude are 1D arrays, to convert them to 2D arrays for the plot use np.meshgrid(longitude,  latitude)"
   ]
  },
  {
   "cell_type": "code",
   "execution_count": null,
   "metadata": {},
   "outputs": [],
   "source": [
    "# return only data\n",
    "# [longitude,  latitude, grid_map]\n",
    "# longitude,  latitude are 1D arrays to convert them to 2D arrays for the plot use np.meshgrid(longitude,  latitude)\n",
    "# longtitude goes from -pi to pi (-180 to 180 in degs)\n",
    "# latitude goes from -pi/2 to pi/2 (-90 to 90 in degs)\n",
    "# generate maps at 45 MHz\n",
    "# do not logarithm this here!\n",
    "map_LFSS = g_LFSS.generate(45.0)\n",
    "map_LFSS_title = \"LFSS\"\n",
    "map_LFmap = g_LFmap.generate(45.0)\n",
    "map_LFmap_title = \"LFmap\"\n",
    "\n",
    "rotAngles=[(180+(LSTtime*15))%360,-(altitude-90)]\n",
    "longitude_LFSS,  latitude_LFSS, grid_map_LFSS = newvisufunc.projview(map_LFSS, rot=rotAngles, coord=['G','C'],\n",
    "                                                      return_only_data=True)\n",
    "longitude_LFmap,  latitude_LFmap, grid_map_LFmap = newvisufunc.projview(map_LFmap, rot=rotAngles, coord=['C'],\n",
    "                                                      return_only_data=True)"
   ]
  },
  {
   "cell_type": "markdown",
   "metadata": {},
   "source": [
    "Check the shapes of the dumped variables."
   ]
  },
  {
   "cell_type": "code",
   "execution_count": null,
   "metadata": {},
   "outputs": [],
   "source": [
    "print(longitude_LFmap.shape)\n",
    "print(latitude_LFmap.shape)\n",
    "print(grid_map_LFmap.shape)"
   ]
  },
  {
   "cell_type": "markdown",
   "metadata": {},
   "source": [
    "Further, it is good to convert the dumped data to a proper Pandas DataFrame. The function <i>convert2SkyDF</i> will create a Pandas DataFrame from the dumped data with columns as frequencies and rows (index) as local sidereal times."
   ]
  },
  {
   "cell_type": "code",
   "execution_count": null,
   "metadata": {},
   "outputs": [],
   "source": [
    "# this function helps to convert the data dump from newvisufunc.projview() to DF\n",
    "def convert2SkyDF(data_dump,full=False):\n",
    "    def DFtemplateCreator(xs,ys,yName=None):\n",
    "        colList = [str(x) for x in xs]\n",
    "        nan_init = np.empty((len(xs),len(ys),))\n",
    "        nan_init[:]=np.nan\n",
    "        templateDF = pd.DataFrame(nan_init.T, columns = colList)\n",
    "        templateDF.insert(0,yName,ys)\n",
    "        templateDF = templateDF.set_index(yName)\n",
    "        return templateDF\n",
    "    longitude,latitude,grid_map = data_dump\n",
    "    latitudeDeg = np.rad2deg(latitude)\n",
    "    longitudeDeg = np.rad2deg(longitude)\n",
    "    skyMapDF = DFtemplateCreator(latitudeDeg,longitudeDeg,yName=None)\n",
    "    skyMapDF.iloc[:,:] = grid_map.T\n",
    "    if full is False:\n",
    "        skyMapDF = skyMapDF.iloc[:,np.where(skyMapDF.columns.astype(float) >=0)[0].tolist()]\n",
    "    skyMapDF=skyMapDF.sort_index()\n",
    "    return skyMapDF"
   ]
  },
  {
   "cell_type": "markdown",
   "metadata": {},
   "source": [
    "Define catalogs of all available radio sky interpolation models."
   ]
  },
  {
   "cell_type": "code",
   "execution_count": null,
   "metadata": {},
   "outputs": [],
   "source": [
    "# for map from LFmap, these are by default generated in Celestial coordinated\n",
    "index_upper, index_lower = -2.46, -2.62\n",
    "model = {\"LFmap\": LFmap(\"/home/max/auger/soft/LFmap_1.0/healpyFits/\"), \"LFSM\": LowFrequencySkyModel(freq_unit='MHz'), \"GSM\": GlobalSkyModel(freq_unit='MHz'), \"GSM16\": GlobalSkyModel2016(freq_unit='MHz'), \"HaslamL\": HaslamSkyModel(freq_unit='MHz', spectral_index=index_lower), \"HaslamU\": HaslamSkyModel(freq_unit='MHz', spectral_index=index_upper), \"GMOSS\": GMOSS(\"/home/max/auger/soft/new_sky_models/GMOSS/healpyFits/\"), \"SSM\": SSM(\"/home/max/auger/soft/new_sky_models/SSM/healpyFits/\"), \"ULSA\": ULSA_c(\"/home/max/auger/soft/new_sky_models/ULSA/constant_index/healpyFits/\"), \"ULSA_f\": ULSA_f(\"/home/max/auger/soft/new_sky_models/ULSA/freq_dependent_index/healpyFits/\"), \"ULSA_d\": ULSA_d(\"/home/max/auger/soft/new_sky_models/ULSA/direction_dependent_index/healpyFits/\"), \"ULSA_c_af\": ULSA_c_af(\"/home/max/auger/soft/new_sky_models/ULSA/constant_index/absorption_free/healpyFits/\")}\n",
    "model_title = {\"LFmap\": \"LFmap\", \"LFSM\": \"LFSM\", \"GSM\": \"GSM2008\", \"GSM16\": \"GSM2016\", \"HaslamL\": \"Haslam\", \"HaslamU\": \"Haslam\", \"Cane\": \"Cane\", \"Cane2\": \"TKY\", 'GMOSS': 'GMOSS', 'SSM': 'SSM', 'ULSA': 'ULSA', 'ULSA_f': 'ULSA (frequency dependent index)', 'ULSA_d': 'ULSA', 'ULSA_c_af': 'ULSA (constant index, absorption free)'}\n",
    "g_model_coord = {\"LFmap\": ['C','G'], \"LFSM\": ['G'], \"GSM\": ['G'], \"GSM16\": ['G'], \"HaslamL\": ['G'], \"HaslamU\": ['G'], \"GMOSS\": ['G'], \"SSM\": ['G'], \"ULSA\": ['G'], \"ULSA_f\": ['G'], \"ULSA_d\": ['G'], \"ULSA_c_af\": ['G']}\n",
    "c_model_coord = {\"LFmap\": ['C'], \"LFSM\": ['G','C'], \"GSM\": ['G','C'], \"GSM16\": ['G','C'], \"HaslamL\": ['G','C'], \"HaslamU\": ['G','C'], \"GMOSS\": ['G','C'], \"SSM\": ['G','C'], \"ULSA\": ['G','C'], \"ULSA_f\": ['G','C'], \"ULSA_d\": ['G','C'], \"ULSA_c_af\": ['G','C']}\n",
    "e_model_coord = {\"LFmap\": ['C','E'], \"LFSM\": ['G','E'], \"GSM\": ['G','E'], \"GSM16\": ['G','E'], \"HaslamL\": ['G','E'], \"HaslamU\": ['G','E'], \"GMOSS\": ['G','E'], \"SSM\": ['G','E'], \"ULSA\": ['G','E'], \"ULSA_f\": ['G','E'], \"ULSA_d\": ['G','E'], \"ULSA_c_af\": ['G','E']}\n",
    "model_scale = {\"LFmap\": 256, \"LFSM\": 16, \"GSM\": 4, \"GSM16\": 1, \"HaslamL\": 16, \"HaslamU\": 16}\n",
    "\n",
    "#choose sky models from: LFmap, LFSM, GSM, GSM16, Haslam\n",
    "key1 = \"GSM16\"\n",
    "key2 = \"LFmap\"\n",
    "\n",
    "g_1 = model[key1]\n",
    "g_2 = model[key2]\n",
    "g_coord_1 = g_model_coord[key1]\n",
    "g_coord_2 = g_model_coord[key2]\n",
    "c_coord_1 = c_model_coord[key1]\n",
    "c_coord_2 = c_model_coord[key2]\n",
    "e_coord_1 = e_model_coord[key1]\n",
    "e_coord_2 = e_model_coord[key2]\n",
    "model_scale_1 = model_scale[key1]\n",
    "model_scale_2 = model_scale[key2]"
   ]
  },
  {
   "cell_type": "markdown",
   "metadata": {},
   "source": [
    "First generate the data."
   ]
  },
  {
   "cell_type": "code",
   "execution_count": null,
   "metadata": {},
   "outputs": [],
   "source": [
    "# generate sky maps\n",
    "frequency = 30.0\n",
    "map_1 = g_1.generate(frequency)\n",
    "map_1_title = model_title[key1]\n",
    "map_2 = g_2.generate(frequency)\n",
    "map_2_title = model_title[key2]\n",
    "\n",
    "# Colormap ranges for log scales\n",
    "Tmin = 3.0\n",
    "Tmax = 5.0"
   ]
  },
  {
   "cell_type": "markdown",
   "metadata": {},
   "source": [
    "Dump the data."
   ]
  },
  {
   "cell_type": "code",
   "execution_count": null,
   "metadata": {},
   "outputs": [],
   "source": [
    "# dump maps in Galactic coordinate system\n",
    "dumpG_1 = newvisufunc.projview(map_1,coord=g_coord_1, return_only_data=True)\n",
    "dumpG_2 = newvisufunc.projview(map_2,coord=g_coord_2, return_only_data=True)"
   ]
  },
  {
   "cell_type": "code",
   "execution_count": null,
   "metadata": {},
   "outputs": [],
   "source": [
    "print(dumpG_1[2])"
   ]
  },
  {
   "cell_type": "markdown",
   "metadata": {},
   "source": [
    "Then convert the data dump to DataFrame."
   ]
  },
  {
   "cell_type": "code",
   "execution_count": null,
   "metadata": {},
   "outputs": [],
   "source": [
    "# then convert the data dump to DataFrame\n",
    "# set full=True to have full Y axis\n",
    "GskyMapDF_1=convert2SkyDF(dumpG_1,full=True)\n",
    "GskyMapDF_2=convert2SkyDF(dumpG_2,full=True)"
   ]
  },
  {
   "cell_type": "markdown",
   "metadata": {},
   "source": [
    "Check the created DataFrame."
   ]
  },
  {
   "cell_type": "code",
   "execution_count": null,
   "metadata": {},
   "outputs": [],
   "source": [
    "GskyMapDF_1"
   ]
  },
  {
   "cell_type": "code",
   "execution_count": null,
   "metadata": {},
   "outputs": [],
   "source": [
    "GskyMapDF_2"
   ]
  },
  {
   "cell_type": "markdown",
   "metadata": {},
   "source": [
    "Plot the data from the DataFrame and compare the maps by dividing one by the other one."
   ]
  },
  {
   "cell_type": "code",
   "execution_count": null,
   "metadata": {},
   "outputs": [],
   "source": [
    "# mollweide projections\n",
    "newvisufunc.projview(np.log10(map_1), coord=g_coord_1,graticule=True, graticule_labels=True,\n",
    "                    unit='Temperature log[K]',xlabel='l',ylabel='b',\n",
    "                    cb_orientation='vertical',min=Tmin,max=Tmax,latitude_grid_spacing=30,\n",
    "                    projection_type=\"mollweide\",title=map_1_title+\" - Galactic coordinates\",lcolor='white')\n",
    "\n",
    "newvisufunc.projview(np.log10(map_2), coord=g_coord_2,graticule=True, graticule_labels=True,\n",
    "                    unit='Temperature log[K]',xlabel='l',ylabel='b',\n",
    "                    cb_orientation='vertical',min=Tmin,max=Tmax,latitude_grid_spacing=30,\n",
    "                    projection_type=\"mollweide\",title=map_2_title+\" - Galactic coordinates\",lcolor='white')"
   ]
  },
  {
   "cell_type": "markdown",
   "metadata": {},
   "source": [
    "### Comparison of the 1st map with the 2nd map at Local Coordinates"
   ]
  },
  {
   "cell_type": "code",
   "execution_count": null,
   "metadata": {},
   "outputs": [],
   "source": [
    "plt.rc('text', usetex=False)\n",
    "#plt.rc('font', family='monospace')\n",
    "\n",
    "P, T = np.meshgrid(GskyMapDF_1.index.values.astype(float), GskyMapDF_1.columns.values.astype(float))\n",
    "\n",
    "save=False\n",
    "save1= saveFolder+\"GskyMapDF_\"+map_1_title+'_'+str(frequency).replace('.','_')\n",
    "save2= saveFolder+\"GskyMapDF_\"+map_2_title+'_'+str(frequency).replace('.','_')\n",
    "save3= saveFolder+\"Ratio_GskyMapDF_\"+map_1_title+\"-GskyMapDF_\"+map_2_title+'_'+str(frequency).replace('.','_')\n",
    "save4=saveFolder+\"nonAbs_Difference_GskyMapDF_\"+map_1_title+\"-GskyMapDF_\"+map_2_title+'_'+str(frequency).replace('.','_')\n",
    "save5=saveFolder+\"Abs_Difference_GskyMapDF_\"+map_1_title+\"-GskyMapDF_\"+map_2_title+'_'+str(frequency).replace('.','_')\n",
    "\n",
    "# log here!\n",
    "myPlots.plot3dnewV3(P, T, np.log10(GskyMapDF_1.values.T),\n",
    "                    slices=True, ymax=90.5, xMajorLocator=30,yMajorLocator=30, figureWidth=12, figureHeight=8,\n",
    "                    xlabel='l$\\degree$',ylabel='b$\\degree$',cbarLabel='Temperature log[K]',\n",
    "                    mainTitle=map_1_title+\" Sky temperature in Galactic coords at freq \"+str(frequency)+' MHz',Cmin=Tmin,Cmax=Tmax,extend='both',\n",
    "                    save=save1,close=close)\n",
    "\n",
    "P, T = np.meshgrid(GskyMapDF_2.index.values.astype(float),GskyMapDF_2.columns.values.astype(float))\n",
    "myPlots.plot3dnewV3(P, T, np.log10(GskyMapDF_2.values.T),\n",
    "                    slices=True, ymax=90.5, xMajorLocator=30,yMajorLocator=30, figureWidth=12, figureHeight=8,\n",
    "                    xlabel='l$\\degree$',ylabel='b$\\degree$',cbarLabel='Temperature log[K]',\n",
    "                    mainTitle=map_2_title+\" Sky temperature in Galactic coords at freq \"+str(frequency)+' MHz',Cmin=Tmin,Cmax=Tmax,extend='both',\n",
    "                    save=save2,close=close)\n",
    "\n",
    "ratio=GskyMapDF_1.values.T/GskyMapDF_2.values.T\n",
    "P, T = np.meshgrid(GskyMapDF_1.index.values.astype(float),GskyMapDF_1.columns.values.astype(float))\n",
    "myPlots.plot3dnewV3(P, T, ratio,\n",
    "                    slices=True, ymax=90.5, xMajorLocator=30,yMajorLocator=30, figureWidth=12, figureHeight=8,\n",
    "                    xlabel='l$)*\\degree$',ylabel='b$\\degree$',cbarLabel=r'$\\frac{\\mathrm{%s}}{\\mathrm{%s}}$'%(map_1_title, map_2_title),\n",
    "                    mainTitle=\"Ratio of \"+map_1_title+\" and \"+map_2_title+\" sky temp. in Galactic coords at freq \"+str(frequency)+' MHz',Cmin=0,Cmax=2,extend='max',\n",
    "                    save=save3,close=close)\n",
    "\n",
    "difference=np.sign(GskyMapDF_1.values.T-GskyMapDF_2.values.T)*np.log(abs(GskyMapDF_1.values.T-GskyMapDF_2.values.T))\n",
    "P, T = np.meshgrid(GskyMapDF_1.index.values.astype(float),GskyMapDF_1.columns.values.astype(float))\n",
    "myPlots.plot3dnewV4(P, T, difference,\n",
    "                    slices=True, ymax=90.5, xMajorLocator=30,yMajorLocator=30,figureWidth=12,figureHeight=8, Cmap='coolwarm',\n",
    "                    xlabel='l$\\degree$',ylabel='b$\\degree$',cbarLabel='log(T/K) \\n '+r'${\\mathrm{%s}}-{\\mathrm{%s}}$'%(map_1_title, map_2_title),\n",
    "                    mainTitle=\"Difference of \"+map_1_title+\" and \"+map_2_title+\" sky temp. at freq \"+str(frequency)+' MHz',extend='max',\n",
    "                    save=save4,close=close)\n",
    "\n",
    "Abs_difference=np.log(abs(GskyMapDF_1.values.T-GskyMapDF_2.values.T))\n",
    "P, T = np.meshgrid(GskyMapDF_1.index.values.astype(float),GskyMapDF_1.columns.values.astype(float))\n",
    "myPlots.plot3dnewV3(P, T, Abs_difference,\n",
    "                    slices=True, ymax=90.5, xMajorLocator=30,yMajorLocator=30,figureWidth=12,figureHeight=8,\n",
    "                    xlabel='l$\\degree$',ylabel='b$\\degree$',cbarLabel='log(T/K) \\n '+r'${\\mathrm{%s}}-{\\mathrm{%s}}$'%(map_1_title, map_2_title),\n",
    "                    mainTitle=\"Abs. Difference of \"+map_1_title+\" and \"+map_2_title+\" sky temp. at freq \"+str(frequency)+' MHz',extend='max',\n",
    "                    save=save5,close=close)"
   ]
  },
  {
   "cell_type": "markdown",
   "metadata": {},
   "source": [
    "Dump the maps transfomed to a local coordinates."
   ]
  },
  {
   "cell_type": "code",
   "execution_count": null,
   "metadata": {},
   "outputs": [],
   "source": [
    "# PAO altitude is -35.206667 degs\n",
    "LSTtime=18\n",
    "altitude = -35.206667"
   ]
  },
  {
   "cell_type": "code",
   "execution_count": null,
   "metadata": {},
   "outputs": [],
   "source": [
    "rotAngles=[(180+(LSTtime*15))%360,-(altitude-90)]\n",
    "dump_1 = newvisufunc.projview(map_1,rot=rotAngles, coord=c_coord_1,\n",
    "                                                      return_only_data=True, xsize=newPhi.size)\n",
    "dump_2 = newvisufunc.projview(map_2,rot=rotAngles, coord=c_coord_2,\n",
    "                                                      return_only_data=True, xsize=newPhi.size)"
   ]
  },
  {
   "cell_type": "code",
   "execution_count": null,
   "metadata": {},
   "outputs": [],
   "source": [
    "# add a sun to the local sky at any point (with right ascension+declination) with a uniform temperature and with an angular size in units of sunradii\n",
    "def addSun_Local(SkyMap, RA=180., decl=45., Temp=45000., radius=0.25, cov=False):\n",
    "    p = np.deg2rad(SkyMap.index.values.astype(float))\n",
    "    t = np.deg2rad(SkyMap.columns.values.astype(float))\n",
    "    T, P = np.meshgrid(t, p)\n",
    "    s = np.vstack(([T.T],[(P+np.pi).T])).T\n",
    "    #s2 = np.arccos(np.sin(np.rad2deg(s[...,0]))*np.sin(np.rad2deg(decl))+np.cos(np.rad2deg(s[...,0]))*np.cos(np.rad2deg(decl))*np.cos(np.rad2deg(s[...,1]-RA)))\n",
    "    s2 = np.arccos(np.sin(s[...,0])*np.sin(decl)+np.cos(s[...,0])*np.cos(decl)*np.cos(s[...,1]-RA))\n",
    "    if cov:\n",
    "        val = np.where(s2 < np.deg2rad(radius), 100., 0.)\n",
    "    else:\n",
    "        val = np.where(s2 < np.deg2rad(radius), Temp, SkyMap.values)\n",
    "    print(sum(sum(np.where(s2 < np.deg2rad(radius),1,0))),\" pixels covered by the sun\")\n",
    "    #map_with_sun = pd.DataFrame(val, p, t)\n",
    "    map_with_sun = pd.DataFrame(val, np.rad2deg(p), np.rad2deg(t))\n",
    "    return map_with_sun"
   ]
  },
  {
   "cell_type": "markdown",
   "metadata": {},
   "source": [
    "Then convert the data dumps to the DataFrames."
   ]
  },
  {
   "cell_type": "code",
   "execution_count": null,
   "metadata": {},
   "outputs": [],
   "source": [
    "LskyMapDF_1 = convert2SkyDF(dump_1,full=False)\n",
    "LskyMapDF_2 = convert2SkyDF(dump_2,full=False)\n",
    "LskyMapDF_Sun = addSun_Local(LskyMapDF_1, RA=180., decl=45., Temp=1e6, radius=2)\n",
    "LskyMapDF_Sun = addSun_Local(LskyMapDF_Sun, RA=180., decl=.7, Temp=1e6, radius=2)\n",
    "LskyMapDF_Sun = addSun_Local(LskyMapDF_Sun, RA=180., decl=.6, Temp=1e6, radius=2)\n",
    "LskyMapDF_Sun = addSun_Local(LskyMapDF_Sun, RA=180., decl=.5, Temp=1e6, radius=2)\n",
    "LskyMapDF_Sun = addSun_Local(LskyMapDF_Sun, RA=180., decl=.4, Temp=1e6, radius=2)"
   ]
  },
  {
   "cell_type": "markdown",
   "metadata": {},
   "source": [
    "Plot the data from the DataFrame and compare the maps by dividing one by the other one."
   ]
  },
  {
   "cell_type": "code",
   "execution_count": null,
   "metadata": {},
   "outputs": [],
   "source": [
    "P, T = np.meshgrid(LskyMapDF_1.index.values.astype(float), LskyMapDF_1.columns.values.astype(float))\n",
    "\n",
    "save=False\n",
    "save1=saveFolder+\"LskyMapDF_\"+map_1_title+'_'+str(frequency).replace('.','_')\n",
    "save2=saveFolder+\"LskyMapDF_\"+map_2_title+'_'+str(frequency).replace('.','_')\n",
    "save3=saveFolder+\"Ratio_LskyMapDF_\"+map_1_title+\"-LskyMapDF_\"+map_2_title+'_'+str(frequency).replace('.','_')\n",
    "\n",
    "# log here!\n",
    "myPlots.plot3dnewV3(P, T, np.log10(LskyMapDF_Sun.values.T),\n",
    "                    slices=True, ymax=90.5, xMajorLocator=30,yMajorLocator=15, figureWidth=12, figureHeight=8,\n",
    "                    #xlabel='azimuth$\\degree$',ylabel='altitude$\\degree$', cbarLabel='Temperature log[K]', extend='both',\n",
    "                    mainTitle=map_1_title+\" Sky temperature in Local coords at freq \"+str(frequency)+' MHz at '+str(LSTtime)+\" LST\",Cmin=Tmin,Cmax=Tmax,\n",
    "                    save=save1, close=close)\n",
    "'''\n",
    "myPlots.plot3dnewV3(P, T, np.log10(LskyMapDF_2.values.T),\n",
    "                    slices=True, ymax=90.5, xMajorLocator=30,yMajorLocator=15, figureWidth=12, figureHeight=8,\n",
    "                    xlabel='azimuth$\\degree$',ylabel='altitude$\\degree$', cbarLabel='Temperature log[K]', extend='both',\n",
    "                    mainTitle=map_2_title+\" Sky temperature in Local coords at freq \"+str(frequency)+' MHz at '+str(LSTtime)+\" LST\",Cmin=Tmin,Cmax=Tmax,\n",
    "                    save=save2, close=close)\n",
    "\n",
    "ratio=LskyMapDF_1.values.T/LskyMapDF_2.values.T\n",
    "myPlots.plot3dnewV3(P, T, ratio,\n",
    "                    slices=True, ymax=90.5, xMajorLocator=30,yMajorLocator=15, figureWidth=12, figureHeight=8,\n",
    "                    xlabel='azimuth$\\degree$', ylabel='altitude$\\degree$', cbarLabel=r'$\\frac{\\mathrm{%s}}{\\mathrm{%s}}$'%(map_1_title, map_2_title),\n",
    "                    mainTitle=\"Ratio of \"+map_1_title+\" and \"+map_2_title+\" sky temp. in Local coords at freq \"+str(frequency)+' MHz at '+str(LSTtime)+\" LST\",\n",
    "                    Cmin=0, Cmax=2, extend='max', save=save3,close=close)\n",
    "'''"
   ]
  },
  {
   "cell_type": "markdown",
   "metadata": {},
   "source": [
    "## Plot Maps in Equatorial Coordinates"
   ]
  },
  {
   "cell_type": "code",
   "execution_count": null,
   "metadata": {},
   "outputs": [],
   "source": [
    "LSTtime = 0.\n",
    "rotAngles=[((LSTtime*15))%360,0]\n",
    "dump_1 = newvisufunc.projview(map_1, coord=e_coord_1, return_only_data=True, xsize=newPhi.size)\n",
    "dump_2 = newvisufunc.projview(map_2, coord=e_coord_2, return_only_data=True, xsize=newPhi.size)\n",
    "#dump_1 = newvisufunc.projview(map_1, rot=rotAngles, coord=e_coord_1, return_only_data=True, xsize=newPhi.size)\n",
    "#dump_2 = newvisufunc.projview(map_2, rot=rotAngles, coord=e_coord_2, return_only_data=True, xsize=newPhi.size)"
   ]
  },
  {
   "cell_type": "markdown",
   "metadata": {},
   "source": [
    "Then convert the data dumps to the DataFrames."
   ]
  },
  {
   "cell_type": "code",
   "execution_count": null,
   "metadata": {},
   "outputs": [],
   "source": [
    "EskyMapDF_1=convert2SkyDF(dump_1,full=True)\n",
    "EskyMapDF_2=convert2SkyDF(dump_2,full=True)"
   ]
  },
  {
   "cell_type": "code",
   "execution_count": null,
   "metadata": {},
   "outputs": [],
   "source": [
    "def markCoverage(SkyMap, decl_min=-90., decl_max=90.):\n",
    "    p = np.deg2rad(SkyMap.index.values.astype(float))\n",
    "    t = np.deg2rad(SkyMap.columns.values.astype(float))\n",
    "    T, P = np.meshgrid(t, p)\n",
    "    val = np.where(np.logical_and(T >= np.deg2rad(decl_min), T <= np.deg2rad(decl_max)), SkyMap.values, 0.)\n",
    "    map_cut = pd.DataFrame(val, p, t)\n",
    "    return map_cut"
   ]
  },
  {
   "cell_type": "code",
   "execution_count": null,
   "metadata": {},
   "outputs": [],
   "source": [
    "EskyMapDF_1_coverage = markCoverage(EskyMapDF_1, -40, 90)\n",
    "EskyMapDF_2_coverage = markCoverage(EskyMapDF_2, -40, 90)"
   ]
  },
  {
   "cell_type": "code",
   "execution_count": null,
   "metadata": {},
   "outputs": [],
   "source": [
    "# add a sun to the sky at any point (with right ascension+declination) with a uniform temperature and with an angular size in units of sunradii\n",
    "def addSun(SkyMap, RA=180., decl=0., Temp=45000., radius=0.25, cov=False):\n",
    "    p = np.deg2rad(SkyMap.index.values.astype(float))\n",
    "    t = np.deg2rad(SkyMap.columns.values.astype(float))\n",
    "    T, P = np.meshgrid(t, p)\n",
    "    s = np.vstack(([T.T],[(P+np.pi).T])).T\n",
    "    #s2 = np.arccos(np.sin(np.rad2deg(s[...,0]))*np.sin(np.rad2deg(decl))+np.cos(np.rad2deg(s[...,0]))*np.cos(np.rad2deg(decl))*np.cos(np.rad2deg(s[...,1]-RA)))\n",
    "    s2 = np.arccos(np.sin(s[...,0])*np.sin(decl)+np.cos(s[...,0])*np.cos(decl)*np.cos(s[...,1]-RA))\n",
    "    if cov:\n",
    "        val = np.where(s2 < np.deg2rad(radius), 100., 0.)\n",
    "    else:\n",
    "        val = np.where(s2 < np.deg2rad(radius), Temp, SkyMap.values)\n",
    "    print(sum(sum(np.where(s2 < np.deg2rad(radius),1,0))),\" pixels covered by the sun\")\n",
    "    #map_with_sun = pd.DataFrame(val, p, t)\n",
    "    map_with_sun = pd.DataFrame(val, np.rad2deg(p), np.rad2deg(t))\n",
    "    return map_with_sun"
   ]
  },
  {
   "cell_type": "code",
   "execution_count": null,
   "metadata": {},
   "outputs": [],
   "source": [
    "EskyMapDF_1_sun = addSun(EskyMapDF_1, RA=3.*np.pi/2., Temp=1e6, radius=10.)\n",
    "print(type(EskyMapDF_1_sun))\n",
    "print(type(EskyMapDF_1))"
   ]
  },
  {
   "cell_type": "markdown",
   "metadata": {},
   "source": [
    "Plot the data from the DataFrame and compare the maps by dividing one by the other one."
   ]
  },
  {
   "cell_type": "code",
   "execution_count": null,
   "metadata": {},
   "outputs": [],
   "source": [
    "plt.rc('text', usetex=False)\n",
    "\n",
    "P, T = np.meshgrid(EskyMapDF_1.index.values.astype(float), EskyMapDF_1.columns.values.astype(float))\n",
    "\n",
    "# Convert to Right Ascension (alpha)\n",
    "P = -(P - 180.)\n",
    "\n",
    "save=False\n",
    "save1=saveFolder+\"EskyMapDF_\"+map_1_title+'_'+str(frequency).replace('.','_')\n",
    "save1_sun=saveFolder+\"EskyMapDF_\"+map_1_title+'_'+str(frequency).replace('.','_')+'_sun'\n",
    "save1_coverage=saveFolder+\"EskyMapDF_\"+map_1_title+'_'+str(frequency).replace('.','_')+'_coverage'\n",
    "save2=saveFolder+\"EskyMapDF_\"+map_2_title+'_'+str(frequency).replace('.','_')\n",
    "save2_coverage=saveFolder+\"EskyMapDF_\"+map_2_title+'_'+str(frequency).replace('.','_')+'_coverage'\n",
    "save3=saveFolder+\"Ratio_EskyMapDF_\"+map_1_title+'_sun_'+str(frequency).replace('.','_')\n",
    "\n",
    "# log here!\n",
    "myPlots.plot3dnewV3(P, T, np.log10(EskyMapDF_1_sun.values.T),\n",
    "                    slices=True, ymax=90.5, xMajorLocator=30,yMajorLocator=15, figureWidth=12, figureHeight=8,\n",
    "                    xlabel='right ascension$\\degree$',ylabel='declination$\\degree$', cbarLabel='Temperature log[K]', extend='both',\n",
    "                    mainTitle=map_1_title+\" Sky temperature in Equatorial coords at freq \"+str(frequency)+' MHz',Cmin=Tmin,Cmax=Tmax,\n",
    "                    save=save1_sun, close=close)\n",
    "\n",
    "myPlots.plot3dnewV3(P, T, np.log10(EskyMapDF_1.values.T),\n",
    "                    slices=True, ymax=90.5, xMajorLocator=30,yMajorLocator=15, figureWidth=12, figureHeight=8,\n",
    "                    xlabel='right ascension$\\degree$',ylabel='declination$\\degree$', cbarLabel='Temperature log[K]', extend='both',\n",
    "                    mainTitle=map_1_title+\" Sky temperature in Equatorial coords at freq \"+str(frequency)+' MHz',Cmin=Tmin,Cmax=Tmax,\n",
    "                    save=save1, close=close)\n",
    "'''\n",
    "myPlots.plot3dnewV3(P, T, np.log10(EskyMapDF_1.values.T),\n",
    "                    slices=True, ymax=90.5, xMajorLocator=30,yMajorLocator=15, figureWidth=12, figureHeight=8, Blind_min=-90, Blind_max=-40,\n",
    "                    xlabel='right ascension$\\degree$',ylabel='declination$\\degree$', cbarLabel='Temperature log[K]', extend='both',\n",
    "                    mainTitle=map_1_title+\" Sky temperature in Equatorial coords at freq \"+str(frequency)+' MHz',Cmin=Tmin,Cmax=Tmax,\n",
    "                    save=save1_coverage, close=close)\n",
    "\n",
    "myPlots.plot3dnewV3(P, T, np.log10(EskyMapDF_2.values.T),\n",
    "                    slices=True, ymax=90.5, xMajorLocator=30,yMajorLocator=15, figureWidth=12, figureHeight=8,\n",
    "                    xlabel='right ascension$\\degree$',ylabel='declination$\\degree$', cbarLabel='Temperature log[K]', extend='both',\n",
    "                    mainTitle=map_2_title+\" Sky temperature in Equatorial coords at freq \"+str(frequency)+' MHz',Cmin=Tmin,Cmax=Tmax,\n",
    "                    save=save2, close=close)\n",
    "\n",
    "myPlots.plot3dnewV3(P, T, np.log10(EskyMapDF_2.values.T),\n",
    "                    slices=True, ymax=90.5, xMajorLocator=30,yMajorLocator=15, figureWidth=12, figureHeight=8, Blind_min=-90, Blind_max=-40,\n",
    "                    xlabel='right ascension$\\degree$',ylabel='declination$\\degree$', cbarLabel='Temperature log[K]', extend='both',\n",
    "                    mainTitle=map_2_title+\" Sky temperature in Equatorial coords at freq \"+str(frequency)+' MHz',Cmin=Tmin,Cmax=Tmax,\n",
    "                    save=save2_coverage, close=close)\n",
    "'''\n",
    "ratio=EskyMapDF_1_sun.values.T/EskyMapDF_1_sun.values.T\n",
    "myPlots.plot3dnewV3(P, T, ratio,\n",
    "                    slices=True, ymax=90.5, xMajorLocator=30,yMajorLocator=15, figureWidth=12, figureHeight=8,\n",
    "                    xlabel='right ascension$\\degree$', ylabel='declination$\\degree$', cbarLabel=r'$\\frac{\\mathrm{%s}}{\\mathrm{%s}}$'%(map_1_title, map_2_title),\n",
    "                    mainTitle=\"Ratio of \"+map_1_title+\" and \"+map_2_title+\" sky temp. in Equatorial coords at freq \"+str(frequency)+' MHz',\n",
    "                    Cmin=0, Cmax=2, extend='max', save=save3,close=close)"
   ]
  },
  {
   "cell_type": "markdown",
   "metadata": {},
   "source": [
    "# Plot the sky coverage of the interpolation models"
   ]
  },
  {
   "cell_type": "code",
   "execution_count": null,
   "metadata": {},
   "outputs": [],
   "source": [
    "refs = {\"LFmap\": np.array([[-28.,80.],[-90.,90.]]),\n",
    "          \"LFSM\": np.array([[-28.,80.],[-90.,90.],[-6.,74.],[-40.,90.],[-40.,90.],[-40.,90.],[-40.,90.],[-40.,90.],[-90.,65.]]), \n",
    "          \"GSM\": np.array([[-28.,80.],[-90.,90.],[-6.,74.],[-90.,65.]]), \n",
    "          \"GSM16\": np.array([[-28.,80.],[-90.,90.],[-6.,74.],[-90.,65.],[-25.,25.],[-25.,25.]]),\n",
    "          \"GMOSS\": np.array([[-90.,90.],[-90.,90.],[-90.,90.],[-90.,90.],[-90.,90.],[-90.,90.]]),\n",
    "          \"SSM\": np.array([[-6.,74.],[-28.,80.],[-90.,65.],[-25.,25.],[-25.,25.],[-90.,90.]]),\n",
    "          \"ULSA_d\": np.array([[-90.,90.],[-40.,90.],[-40.,90.],[-40.,90.],[-40.,90.],[-40.,90.],[-40.,90.],[-40.,90.],[-40.,90.],[-90.,65.]])}\n",
    "cmap = matplotlib.cm.get_cmap('viridis')"
   ]
  },
  {
   "cell_type": "code",
   "execution_count": null,
   "metadata": {},
   "outputs": [],
   "source": [
    "from importlib import reload\n",
    "reload(hp.newvisufunc)"
   ]
  },
  {
   "cell_type": "code",
   "execution_count": null,
   "metadata": {},
   "outputs": [],
   "source": [
    "plt.rc('text', usetex=True)\n",
    "\n",
    "for key in refs:\n",
    "    e_coord = e_model_coord[key]\n",
    "    g_coord = g_model_coord[key]\n",
    "    g = model[key]\n",
    "    m = g.generate(30.)\n",
    "    dump_e = newvisufunc.projview(m, coord=e_coord, return_only_data=True, xsize=newPhi.size)\n",
    "    dump_g = newvisufunc.projview(m, coord=g_coord, return_only_data=True)\n",
    "    EskyMapDF = convert2SkyDF(dump_e,full=True)\n",
    "    GskyMapDF = convert2SkyDF(dump_g,full=True)\n",
    "    p = np.deg2rad(EskyMapDF.index.values.astype(float))\n",
    "    t = np.deg2rad(EskyMapDF.columns.values.astype(float))\n",
    "    T, P = np.meshgrid(t, p)\n",
    "    val = 0.\n",
    "    for ref in refs[key]:\n",
    "        val = np.where(np.logical_and(T >= np.deg2rad(ref[0]), T <= np.deg2rad(ref[1])), val+1., val)\n",
    "    coverage_map = pd.DataFrame(val, np.rad2deg(p), np.rad2deg(t))\n",
    "    EskyMapDF = coverage_map\n",
    "    \n",
    "    nside = 264\n",
    "    npix = hp.nside2npix(nside)\n",
    "\n",
    "    P, T = np.meshgrid(EskyMapDF.index.values.astype(float), EskyMapDF.columns.values.astype(float))\n",
    "\n",
    "    indices = hp.ang2pix(nside, -1.*np.deg2rad(T)+np.pi/2., np.deg2rad(P))\n",
    "    indices = indices\n",
    "    #print(indices)\n",
    "\n",
    "    hpxmap = np.zeros(npix, dtype=np.float)\n",
    "    #print(EskyMapDF.values.T.shape)\n",
    "    hpxmap[indices] = EskyMapDF.values.T\n",
    "    #print(hpxmap)\n",
    "\n",
    "    plt.figure()\n",
    "    newvisufunc.projview(hpxmap, coord=['E','G'], graticule=True, graticule_labels=True, graticule_alpha=1.0, cmap='Blues',\n",
    "                        unit='Number of ref.\\ maps',xlabel='',ylabel='', min=0, max=max([len(refs[k]) for k in refs]),\n",
    "                        cb_orientation='vertical',latitude_grid_spacing=30, longitude_grid_spacing = 60,\n",
    "                        projection_type=\"mollweide\",lcolor='black') #,title=model_title[key]+\" - Galactic coordinates\"\n",
    "    plt.savefig(saveFolder+\"Coverage_Map_scaled_\"+model_title[key]+'.pdf', bbox_inches='tight')\n",
    "    \n",
    "'''\n",
    "plt.figure()\n",
    "newvisufunc.projview(hpxmap, coord=['E','G'], graticule=True, graticule_labels=True, cmap='Greens',\n",
    "                    unit='Coverage in number of maps',xlabel='l',ylabel='b',\n",
    "                    cb_orientation='vertical',latitude_grid_spacing=30, longitude_grid_spacing = 60,\n",
    "                    projection_type=\"mollweide\",title=model_title[key]+\" - Galactic coordinates\",lcolor='white')\n",
    "plt.savefig(saveFolder+\"Coverage_Map_\"+model_title[key]+'.pdf', bbox_inches='tight')\n",
    "\n",
    "plt.figure()\n",
    "newvisufunc.projview(hpxmap, coord=['E'], graticule=True, graticule_labels=True, cmap='Greens',\n",
    "                    unit='Coverage in number of maps',xlabel='l',ylabel='b', min=0, max=max([len(refs[k]) for k in refs]),\n",
    "                    cb_orientation='vertical',latitude_grid_spacing=30, longitude_grid_spacing = 60,\n",
    "                    projection_type=\"mollweide\",title=model_title[key]+\" - Equatorial coordinates\",lcolor='white')\n",
    "plt.savefig(saveFolder+\"Coverage_Map_equatorial_scaled_\"+model_title[key]+'.pdf', bbox_inches='tight')\n",
    "\n",
    "plt.figure()\n",
    "newvisufunc.projview(hpxmap, coord=['E'], graticule=True, graticule_labels=True, cmap='Greens',\n",
    "                    unit='Coverage in number of maps',xlabel='l',ylabel='b',\n",
    "                    cb_orientation='vertical',latitude_grid_spacing=30, longitude_grid_spacing = 60,\n",
    "                    projection_type=\"mollweide\",title=model_title[key]+\" - Equatorial coordinates\",lcolor='white')\n",
    "plt.savefig(saveFolder+\"Coverage_Map_equatorial_\"+model_title[key]+'.pdf', bbox_inches='tight')\n",
    "'''"
   ]
  },
  {
   "cell_type": "code",
   "execution_count": null,
   "metadata": {},
   "outputs": [],
   "source": [
    "plt.rc('text', usetex=False)\n",
    "\n",
    "P, T = np.meshgrid(EskyMapDF.index.values.astype(float), EskyMapDF.columns.values.astype(float))\n",
    "\n",
    "# Convert to Right Ascension (alpha)\n",
    "P = -(P - 180.)\n",
    "\n",
    "save=False\n",
    "save1=saveFolder+\"Sky_Coverage_\"+key\n",
    "\n",
    "# log here!\n",
    "myPlots.plot3dnewV3(P, T, EskyMapDF.values.T,\n",
    "                    slices=True, ymax=90.5, xMajorLocator=30,yMajorLocator=15, figureWidth=12, figureHeight=8,\n",
    "                    xlabel='right ascension$\\degree$',ylabel='declination$\\degree$', cbarLabel='Coverage in # of maps', extend='both',\n",
    "                    mainTitle=model_title[key]+' Sky Coverage',#Cmin=0,Cmax=1,\n",
    "                    save=save1, close=close)"
   ]
  },
  {
   "cell_type": "markdown",
   "metadata": {},
   "source": [
    "# Exemplary ratio maps for all models with respect to the average"
   ]
  },
  {
   "cell_type": "code",
   "execution_count": null,
   "metadata": {},
   "outputs": [],
   "source": [
    "reload(newvisufunc)"
   ]
  },
  {
   "cell_type": "code",
   "execution_count": null,
   "metadata": {},
   "outputs": [],
   "source": [
    "plt.rc('text', usetex=True)\n",
    "\n",
    "models = [\"LFmap\", \"LFSM\", \"GSM\", \"GSM16\", 'GMOSS', 'SSM', 'ULSA_d'] \n",
    "\n",
    "'''avg_g = model[\"LFmap\"]\n",
    "avg_m = avg_g.generate(50.)\n",
    "avg_dump_g = newvisufunc.projview(avg_m, coord=g_model_coord[\"LFSM\"], return_only_data=True)\n",
    "avg_GskyMapDF = convert2SkyDF(avg_dump_g,full=True)\n",
    "avg_p = np.deg2rad(avg_GskyMapDF.index.values.astype(float))\n",
    "avg_t = np.deg2rad(avg_GskyMapDF.columns.values.astype(float))\n",
    "avg_T, avg_P = np.meshgrid(avg_t, avg_p)\n",
    "'''\n",
    "\n",
    "avg_val = np.zeros((500,1000))\n",
    "\n",
    "#print(avg_GskyMapDF.values.T)\n",
    "\n",
    "for key in models:\n",
    "    #e_coord = e_model_coord[key]\n",
    "    g_coord = g_model_coord[key]\n",
    "    g = model[key]\n",
    "    m = g.generate(50.)\n",
    "    if key in [\"GSM\", \"GMOSS\"]:\n",
    "        m = m + 2.72548\n",
    "    #dump_e = newvisufunc.projview(m, coord=e_coord, return_only_data=True, xsize=newPhi.size)\n",
    "    dump_g = newvisufunc.projview(m, coord=g_coord, return_only_data=True)\n",
    "    #EskyMapDF = convert2SkyDF(dump_e,full=True)\n",
    "    GskyMapDF = convert2SkyDF(dump_g,full=True)\n",
    "    avg_val = avg_val + GskyMapDF.values.T\n",
    "    \n",
    "for key in models:\n",
    "    #e_coord = e_model_coord[key]\n",
    "    g_coord = g_model_coord[key]\n",
    "    g = model[key]\n",
    "    m = g.generate(50.)\n",
    "    if key in [\"GSM\", \"GMOSS\"]:\n",
    "        m = m + 2.72548\n",
    "    #dump_e = newvisufunc.projview(m, coord=e_coord, return_only_data=True, xsize=newPhi.size)\n",
    "    dump_g = newvisufunc.projview(m, coord=g_coord, return_only_data=True)\n",
    "    #EskyMapDF = convert2SkyDF(dump_e,full=True)\n",
    "    GskyMapDF = convert2SkyDF(dump_g,full=True)\n",
    "    p = np.deg2rad(GskyMapDF.index.values.astype(float))\n",
    "    t = np.deg2rad(GskyMapDF.columns.values.astype(float))\n",
    "    P, T = np.meshgrid(GskyMapDF.index.values.astype(float), GskyMapDF.columns.values.astype(float))\n",
    "\n",
    "    '''\n",
    "    #T, P = np.meshgrid(t, p)\n",
    "    avg_val = np.add(avg_val, GskyMapDF.values.T)\n",
    "    \n",
    "    avg_map = pd.DataFrame(avg_val, np.rad2deg(t), np.rad2deg(p))\n",
    "    #EskyMapDF = avg_map\n",
    "    '''\n",
    "    \n",
    "    #print(avg_val)\n",
    "    #print(GskyMapDF.values.T*4./avg_val)\n",
    "    \n",
    "    nside = 264\n",
    "    npix = hp.nside2npix(nside)\n",
    "    #T, P = np.meshgrid(EskyMapDF.index.values.astype(float), EskyMapDF.columns.values.astype(float))    \n",
    "    indices = hp.ang2pix(nside, -1.*np.deg2rad(T)+np.pi/2., np.deg2rad(P))  # -1.*np.deg2rad(T)+np.pi/2.    \n",
    "    hpxmap = np.zeros(npix, dtype=np.float)\n",
    "\n",
    "    #hpxmap[indices] = np.sign(GskyMapDF.values.T*4.-avg_val) * np.log10(abs(GskyMapDF.values.T*4.-avg_val))\n",
    "    hpxmap[indices] = GskyMapDF.values.T*len(models)/avg_val\n",
    "                              \n",
    "    P, T = np.meshgrid(GskyMapDF.index.values.astype(float),GskyMapDF.columns.values.astype(float))\n",
    "    '''\n",
    "    myPlots.plot3dnewV3(P, T, np.log10(GskyMapDF.values.T),\n",
    "                    slices=True, ymax=90.5, xMajorLocator=30,yMajorLocator=30, figureWidth=12, figureHeight=8,\n",
    "                    xlabel='',ylabel='', min=Tmin, max=Tmax,\n",
    "                    mainTitle=\"Ratio\", close=close) #,extend='max'\n",
    "    '''\n",
    "    cmin, cmax = 0.7, 1.3\n",
    "    plt.figure()\n",
    "    newvisufunc.projview(hpxmap, coord=['G'], graticule=True, graticule_labels=True, graticule_alpha=0.0, cmap='RdBu_r',\n",
    "                        unit=r'$\\frac{T_\\mathrm{ %s }}{T_\\mathrm{average}}$'%(key),xlabel='',ylabel='', min= cmin, max=cmax, cbticks=np.arange(cmin, cmax, 0.1), cbticklabels=[str(round(tick,1)) for tick in np.arange(cmin, cmax, 0.1)],\n",
    "                        cb_orientation='vertical',latitude_grid_spacing=30, longitude_grid_spacing = 60,\n",
    "                        projection_type=\"mollweide\",lcolor='black') #,title=model_title[key]+\" - Galactic coordinates\"\n",
    "    plt.savefig(saveFolder+\"Ratio_Map_to_average_\"+model_title[key]+'.pdf', bbox_inches='tight')\n",
    "\n"
   ]
  },
  {
   "cell_type": "markdown",
   "metadata": {},
   "source": [
    "# Calculate average temperature of global & local sky at all frequencies "
   ]
  },
  {
   "cell_type": "markdown",
   "metadata": {},
   "source": [
    "Function to integrate over the sky for averaging."
   ]
  },
  {
   "cell_type": "code",
   "execution_count": null,
   "metadata": {},
   "outputs": [],
   "source": [
    "# integrate the folded sky map over the angles\n",
    "def integrateOverAngles_cos(SkyMap, t_min=-90, t_max=90):\n",
    "    p = np.deg2rad(SkyMap.index.values.astype(float))\n",
    "    t = np.deg2rad(SkyMap.columns.values.astype(float))\n",
    "    T, P = np.meshgrid(t, p)\n",
    "    #print(t[0],t[-1])\n",
    "    angePrefactor=np.cos(T[:,::-1])\n",
    "    angePrefactor = np.where(np.logical_and(t >= np.deg2rad(t_min), t <= np.deg2rad(t_max)), angePrefactor, 0.)\n",
    "    #angePrefactor=1\n",
    "    integratedOverAngles=simps(simps(SkyMap*angePrefactor,t),p)\n",
    "    return integratedOverAngles"
   ]
  },
  {
   "cell_type": "code",
   "execution_count": null,
   "metadata": {},
   "outputs": [],
   "source": [
    "#saveFolder='./results/skySimulation/'\n",
    "#saveFolder='./results/skySimulation/test/'\n",
    "#saveFolder='./results/skySimulation/Coverage_test/'\n",
    "#saveFolder='./results/skySimulation/Extended_Spectrum/'\n",
    "#saveFolder='./results/skySimulation/Latitude_variation/'\n",
    "#saveFolder='./results/skySimulation/ARENA_proceedings/'\n",
    "saveFolder='./results/skySimulation/new_models/'\n",
    "\n",
    "# for testing different LFmap parameters\n",
    "#saveFolder='./results/skySimulation/LFmap_test/'"
   ]
  },
  {
   "cell_type": "markdown",
   "metadata": {},
   "source": [
    "Calculate average temperatures with required numerical precision."
   ]
  },
  {
   "cell_type": "code",
   "execution_count": null,
   "metadata": {},
   "outputs": [],
   "source": [
    "average_T_G_temp, average_T_L_temp = {},{}"
   ]
  },
  {
   "cell_type": "code",
   "execution_count": null,
   "metadata": {},
   "outputs": [],
   "source": [
    "# rotate them to Local coordinates at some particular LST time\n",
    "altitude = -35.206667 # Pierre Auger Observatory\n",
    "#altitude = 52.90889 # LOFAR core\n",
    "# generate sky maps\n",
    "frequency_range = np.linspace(30.0,408.0,379)\n",
    "hours = np.arange(0,24,24) #1\n",
    "average_T_G, average_T_L = {},{}\n",
    "\n",
    "#for model_key in model:\n",
    "for model_key in ['HaslamL','HaslamU']:\n",
    "    g = model[model_key]\n",
    "    map_title = model_title[model_key]\n",
    "    T_G_temp,T_L_temp = [],[]\n",
    "    for freq in frequency_range:\n",
    "        map = g.generate(freq)\n",
    "        # first generate the data dump\n",
    "        dumpG = newvisufunc.projview(map,coord=g_model_coord[model_key], return_only_data=True)\n",
    "\n",
    "        # then convert the data dump to DataFrame\n",
    "        # set full=True to have full Y axis\n",
    "        GskyMapDF=convert2SkyDF(dumpG,full=True)\n",
    "        print(model_key, freq)\n",
    "        T_G_temp.append(integrateOverAngles_cos(GskyMapDF, t_min=-90, t_max=90)/integrateOverAngles_cos(GskyMapDF/GskyMapDF, t_min=-90, t_max=90))\n",
    "        print(T_G_temp[-1])\n",
    "        T_hour = []\n",
    "        for hour in hours:\n",
    "            rotAngles=[(180+(hour*15))%360,-(altitude-90)]\n",
    "            dump = newvisufunc.projview(map,rot=rotAngles, coord=c_model_coord[model_key], return_only_data=True,xsize=newPhi.size)\n",
    "            LskyMapDF=convert2SkyDF(dump,full=False)\n",
    "            T_hour.append(integrateOverAngles_cos(LskyMapDF)/integrateOverAngles_cos(LskyMapDF/LskyMapDF))\n",
    "        T_L_temp.append(T_hour)\n",
    "    average_T_G[model_key] = np.array(T_G_temp)\n",
    "    average_T_L[model_key] = np.array(T_L_temp)"
   ]
  },
  {
   "cell_type": "code",
   "execution_count": null,
   "metadata": {},
   "outputs": [],
   "source": [
    "with open(\"averageT_data.pickle\", \"wb\") as fout:\n",
    "    pickle.dump([frequency_range, hours, average_T_G, average_T_L], fout)"
   ]
  },
  {
   "cell_type": "code",
   "execution_count": null,
   "metadata": {},
   "outputs": [],
   "source": [
    "with open(\"averageT_data.pickle\", \"rb\") as fin:\n",
    "    frequency_range, hours, average_T_G, average_T_L = pickle.load(fin)"
   ]
  },
  {
   "cell_type": "code",
   "execution_count": null,
   "metadata": {},
   "outputs": [],
   "source": [
    "average_T_G"
   ]
  },
  {
   "cell_type": "code",
   "execution_count": null,
   "metadata": {},
   "outputs": [],
   "source": [
    "average_T_L"
   ]
  },
  {
   "cell_type": "code",
   "execution_count": null,
   "metadata": {},
   "outputs": [],
   "source": [
    "average_T_G_temp['LFmap'] = average_T_G['LFmap']\n",
    "average_T_G_temp['GSM'] = average_T_G['GSM']\n",
    "average_T_G_temp['GSM16'] = average_T_G['GSM16']\n",
    "average_T_G_temp['LFSM'] = average_T_G['LFSM']\n",
    "average_T_G_temp['GMOSS'] = average_T_G['GMOSS']\n",
    "average_T_G_temp['SSM'] = average_T_G['SSM']\n",
    "average_T_G_temp['ULSA'] = average_T_G['ULSA']\n",
    "average_T_G_temp['ULSA_d'] = average_T_G['ULSA_d']\n",
    "average_T_G_temp['HaslamL'] = average_T_G['HaslamL']\n",
    "average_T_G_temp['HaslamU'] = average_T_G['HaslamU']\n",
    "\n",
    "average_T_L_temp['LFmap'] = average_T_L['LFmap']\n",
    "average_T_L_temp['GSM'] = average_T_L['GSM']\n",
    "average_T_L_temp['GSM16'] = average_T_L['GSM16']\n",
    "average_T_L_temp['LFSM'] = average_T_L['LFSM']\n",
    "average_T_L_temp['GMOSS'] = average_T_L['GMOSS']\n",
    "average_T_L_temp['SSM'] = average_T_L['SSM']\n",
    "average_T_L_temp['ULSA'] = average_T_L['ULSA']\n",
    "average_T_L_temp['ULSA_d'] = average_T_L['ULSA_d']\n",
    "average_T_L_temp['HaslamL'] = average_T_L['HaslamL']\n",
    "average_T_L_temp['HaslamU'] = average_T_L['HaslamU']"
   ]
  },
  {
   "cell_type": "code",
   "execution_count": null,
   "metadata": {},
   "outputs": [],
   "source": [
    "average_T_G['LFmap'] = average_T_G_temp['LFmap']\n",
    "average_T_G['GSM'] = average_T_G_temp['GSM']\n",
    "average_T_G['GSM16'] = average_T_G_temp['GSM16']\n",
    "average_T_G['LFSM'] = average_T_G_temp['LFSM']\n",
    "average_T_G['GMOSS'] = average_T_G_temp['GMOSS']\n",
    "average_T_G['SSM'] = average_T_G_temp['SSM']\n",
    "average_T_G['ULSA'] = average_T_G_temp['ULSA']\n",
    "average_T_G['ULSA_d'] = average_T_G_temp['ULSA_d']\n",
    "#average_T_G['HaslamL'] = average_T_G_temp['HaslamL']\n",
    "#average_T_G['HaslamU'] = average_T_G_temp['HaslamU']\n",
    "\n",
    "average_T_L['LFmap'] = average_T_L_temp['LFmap']\n",
    "average_T_L['GSM'] = average_T_L_temp['GSM']\n",
    "average_T_L['GSM16'] = average_T_L_temp['GSM16']\n",
    "average_T_L['LFSM'] = average_T_L_temp['LFSM']\n",
    "average_T_L['GMOSS'] = average_T_L_temp['GMOSS']\n",
    "average_T_L['SSM'] = average_T_L_temp['SSM']\n",
    "average_T_L['ULSA'] = average_T_L_temp['ULSA']\n",
    "average_T_L['ULSA_d'] = average_T_L_temp['ULSA_d']\n",
    "#average_T_L['HaslamL'] = average_T_L_temp['HaslamL']\n",
    "#average_T_L['HaslamU'] = average_T_L_temp['HaslamU']"
   ]
  },
  {
   "cell_type": "markdown",
   "metadata": {},
   "source": [
    "Re-add the CMB component because it was subtracted in the model"
   ]
  },
  {
   "cell_type": "code",
   "execution_count": null,
   "metadata": {},
   "outputs": [],
   "source": [
    "average_T_G['GSM'] = average_T_G['GSM'] + 2.72548\n",
    "average_T_G['GMOSS'] = average_T_G['GMOSS'] + 2.72548"
   ]
  },
  {
   "cell_type": "code",
   "execution_count": null,
   "metadata": {},
   "outputs": [],
   "source": [
    "ITU_data = np.genfromtxt('ITU_Recommendation_Galactic_Noise.txt', delimiter=';')\n",
    "frequencies_ITU, T_ITU = ITU_data[ITU_data[:, 0].argsort()].T\n",
    "frequencies_ITU *= 1e-6"
   ]
  },
  {
   "cell_type": "markdown",
   "metadata": {},
   "source": [
    "Galactic noise brightness model by Cane(1979) as taken from Dulk(2001) with a scaling correction to account for plane-pole variation (here called \"Cane\"). A model for the brightness temperature from Tokarsky(2017) is included, which is derived from Canes model and findings from other authors."
   ]
  },
  {
   "cell_type": "code",
   "execution_count": null,
   "metadata": {},
   "outputs": [],
   "source": [
    "def Cane(nu):\n",
    "    correction_factor = 1.3\n",
    "    c = 3.0e8\n",
    "    k = 1.38e-23\n",
    "    Ieg = 1.06e-20\n",
    "    Ig = correction_factor * 2.48e-20\n",
    "    tau = 5.0 * nu**(-2.1)\n",
    "    I = Ig * nu**(-0.52)*(1-np.exp(-tau))/tau + Ieg * nu**(-0.8) * np.exp(-tau)\n",
    "    T = I*c**2 / (2*(nu*1e6)**2 * k)\n",
    "    return T\n",
    "\n",
    "def Cane2(nu):\n",
    "    #Ig = 1.06e-20\n",
    "    #tau = 5.0 * nu**(-2.1)\n",
    "    #I = Ig * nu**(-0.52)*(1-np.exp(-tau))/tau + Ieg * nu**(-0.8) * np.exp(-tau)\n",
    "    T = 3.78e5 * (10.0/nu)**2.56\n",
    "    return T\n",
    "\n",
    "frequency_range_param = np.linspace(30.0,100.0,71)\n",
    "average_T_G[\"Cane\"] = Cane(frequency_range_param)\n",
    "average_T_G[\"Cane2\"] = Cane2(frequency_range_param)"
   ]
  },
  {
   "cell_type": "code",
   "execution_count": null,
   "metadata": {},
   "outputs": [],
   "source": [
    "model_list = [\"LFmap\", \"GSM\", \"GSM16\", \"LFSM\", 'GMOSS', 'SSM', 'ULSA_d']  # , 'ULSA_f'\n",
    "model_list_param = [\"Cane\", \"Cane2\"]\n",
    "\n",
    "for (m_1,m_2) in it.combinations(model_list,2):\n",
    "    res = 2*(simps(average_T_G[m_1],frequency_range)-simps(average_T_G[m_2],frequency_range))/(simps(average_T_G[m_1],frequency_range)+simps(average_T_G[m_2],frequency_range))\n",
    "    print('2*(',m_1,'-',m_2,')/(',m_1,'+',m_2,')')\n",
    "    print('')\n",
    "    print(round(res*100.,1),'%')\n",
    "    print('')"
   ]
  },
  {
   "cell_type": "code",
   "execution_count": null,
   "metadata": {},
   "outputs": [],
   "source": [
    "model_list = [\"LFmap\", \"LFSM\", \"GSM\", \"GSM16\", 'GMOSS', 'SSM', 'ULSA_d'] # , 'ULSA_f'\n",
    "model_list_param = [\"Cane\", \"Cane2\"]\n",
    "\n",
    "for (m_1,m_2) in it.combinations(model_list,2):\n",
    "    res = simps((2.*(abs((average_T_G[m_1]-average_T_G[m_2])/(average_T_G[m_1]+average_T_G[m_2])))),frequency_range)/(frequency_range[-1]-frequency_range[0])\n",
    "    print('2*(',m_1,'-',m_2,')/(',m_1,'+',m_2,')')\n",
    "    print('')\n",
    "    print(round(res*100.,1),'%')\n",
    "    print('')"
   ]
  },
  {
   "cell_type": "code",
   "execution_count": null,
   "metadata": {},
   "outputs": [],
   "source": [
    "'''\n",
    "map = g_Refs.generate(159)\n",
    "dumpG = newvisufunc.projview(map,coord=['C'], return_only_data=True)\n",
    "GskyMapDF=convert2SkyDF(dumpG,full=True)\n",
    "identity = (GskyMapDF/GskyMapDF).fillna(1.)\n",
    "T_av = integrateOverAngles_cos(GskyMapDF, t_min=-90, t_max=60)/integrateOverAngles_cos(identity, t_min=-90, t_max=60)\n",
    "print(integrateOverAngles_cos(identity, t_min=-90, t_max=60))\n",
    "print('159', T_av)\n",
    "    \n",
    "for ref_freq in [36.528, 41.76, 46.992, 52.224, 57.456, 62.688, 67.92, 73.152]:\n",
    "    map = g_Refs.generate(ref_freq)\n",
    "    dumpG = newvisufunc.projview(map,coord=['G','C'], return_only_data=True)\n",
    "    GskyMapDF=convert2SkyDF(dumpG,full=True)\n",
    "    identity = (GskyMapDF/GskyMapDF).fillna(1.)\n",
    "    T_av = integrateOverAngles_cos(GskyMapDF, t_min=-30, t_max=90)/integrateOverAngles_cos(identity, t_min=-30, t_max=90)\n",
    "    print(integrateOverAngles_cos(identity, t_min=-30, t_max=90))\n",
    "    print(ref_freq, T_av)\n",
    "'''"
   ]
  },
  {
   "cell_type": "code",
   "execution_count": null,
   "metadata": {},
   "outputs": [],
   "source": [
    "rel_dif, rel_dif_withoutLFSM = [],[]\n",
    "for (m_1,m_2) in it.combinations(model_list,2):\n",
    "    rel_dif.append(2.*abs((average_T_G[m_1]-average_T_G[m_2])/(average_T_G[m_1]+average_T_G[m_2])))\n",
    "    if not \"LFSM\" in [m_1,m_2]:\n",
    "        rel_dif_withoutLFSM.append(rel_dif[-1])\n",
    "\n",
    "LoA = np.maximum.reduce(rel_dif)\n",
    "LoA_withoutLFSM = np.maximum.reduce(rel_dif_withoutLFSM) "
   ]
  },
  {
   "cell_type": "markdown",
   "metadata": {},
   "source": [
    "Plot the data."
   ]
  },
  {
   "cell_type": "code",
   "execution_count": null,
   "metadata": {},
   "outputs": [],
   "source": [
    "model_title['GSM'] = 'GSM (2008)'\n",
    "model_title['GSM16'] = 'GSM (2016)'"
   ]
  },
  {
   "cell_type": "code",
   "execution_count": null,
   "metadata": {},
   "outputs": [],
   "source": [
    "plt.rc('text', usetex=True)\n",
    "plt.rc('font', family='serif')\n",
    "matplotlib.rcParams['figure.figsize'] = (12, 6)\n",
    "\n",
    "Haslam_label = \"Haslam \\n\\huge{\"+str(index_lower)+r\" $< \\beta <$ \"+str(index_upper)+\"}\"\n",
    "model_list = [\"LFmap\", \"GSM\", \"GSM16\", \"LFSM\", 'GMOSS', 'SSM', 'ULSA_d'] # , 'ULSA_f', 'ULSA_d'\n",
    "colors = {\"LFmap\": \"tab:blue\", \"LFSM\": \"tab:orange\", \"GSM\": \"tab:green\", \"GSM16\": \"tab:red\", \"Haslam\": \"grey\", \"Cane\": \"k\", \"Cane2\": \"m\", 'GMOSS': 'tab:olive', 'SSM': 'lime', 'ULSA_d': 'tab:cyan'}  # , 'ULSA_f': 'tab:olive'\n",
    "linestyles = {\"LFmap\": \"solid\", \"LFSM\": \"solid\", \"GSM\": \"solid\", \"GSM16\": \"solid\", \"Haslam\": \"solid\", \"Cane\": \"dotted\", \"Cane2\": \"dotted\", 'GMOSS': 'solid', 'SSM': 'solid', 'ULSA_d': 'solid'}\n",
    "label_ITU = \"ITU\"\n",
    "color_ITU = \"magenta\"\n",
    "\n",
    "#Plot average sky temperature\n",
    "plt.figure()\n",
    "for model_key in model_list:\n",
    "    plt.plot(frequency_range,average_T_G[model_key],colors[model_key],linestyle=linestyles[model_key],label=model_title[model_key])\n",
    "for model_key in model_list_param:\n",
    "    plt.plot(frequency_range_param,average_T_G[model_key],colors[model_key],linestyle=linestyles[model_key],label=model_title[model_key])    \n",
    "plt.fill_between(frequency_range,average_T_G[\"HaslamL\"],average_T_G[\"HaslamU\"],label=Haslam_label,color=colors[\"Haslam\"],alpha=0.2,hatch='/')\n",
    "#plt.scatter(frequencies_ITU, T_ITU, label=label_ITU, color=color_ITU, s=2.0)\n",
    "plt.xlabel('Frequency / MHz', fontsize=25)\n",
    "plt.ylabel(r'$\\bar{T}$'+' / K', fontsize=25)\n",
    "plt.xticks(fontsize=20)\n",
    "plt.yticks(fontsize=20)\n",
    "plt.legend(fontsize=25, ncol=2, columnspacing=0.5, handlelength=1.0, borderaxespad=0.3, labelspacing=0.4, borderpad=0.2)\n",
    "plt.grid(False)\n",
    "plt.xlim(30.,408.)\n",
    "#plt.show()\n",
    "plt.savefig(saveFolder+'AverageSkyTemperature/All_models.png', facecolor='white', bbox_inches='tight')\n",
    "plt.savefig(saveFolder+'AverageSkyTemperature/pdf/All_models.pdf', facecolor='white', bbox_inches='tight')\n",
    "plt.yscale('log')\n",
    "plt.ylim(bottom=1e1, top=1e5)\n",
    "#plt.show()\n",
    "plt.savefig(saveFolder+'AverageSkyTemperature/All_models_log.png', facecolor='white', bbox_inches='tight')\n",
    "plt.savefig(saveFolder+'AverageSkyTemperature/pdf/All_models_log.pdf', facecolor='white', bbox_inches='tight')\n",
    "plt.xscale('log')\n",
    "plt.savefig(saveFolder+'AverageSkyTemperature/All_models_loglog.png', facecolor='white', bbox_inches='tight')\n",
    "plt.savefig(saveFolder+'AverageSkyTemperature/pdf/All_models_loglog.pdf', facecolor='white', bbox_inches='tight')\n",
    "plt.show()\n",
    "\n",
    "\n",
    "#Plot average sky temperature (normed)\n",
    "plt.figure(figsize=(12,8))\n",
    "for model_key in model_list:\n",
    "    plt.plot(frequency_range,average_T_G[model_key]/average_T_G[\"HaslamU\"],colors[model_key],linestyle=linestyles[model_key],label=model_title[model_key])\n",
    "for model_key in model_list_param:\n",
    "    plt.plot(frequency_range_param,average_T_G[model_key]/average_T_G[\"HaslamU\"][0:71],colors[model_key],linestyle=linestyles[model_key],label=model_title[model_key])\n",
    "plt.fill_between(frequency_range,average_T_G[\"HaslamL\"]/average_T_G[\"HaslamU\"],average_T_G[\"HaslamU\"]/average_T_G[\"HaslamU\"],label=Haslam_label,color=colors[\"Haslam\"],alpha=0.2,hatch='/')\n",
    "plt.xlabel('Frequency / MHz', fontsize=25)\n",
    "#plt.ylabel('Average sky temperature \\n (normalized to Haslam with '+r'$\\beta$'+' = '+str(index_upper)+')', fontsize=28)\n",
    "#plt.ylabel(r'$\\frac{\\bar{T}}{\\bar{T}_{\\mathrm{GSM (2008)}}}$', fontsize=28)\n",
    "plt.ylabel(r'$\\frac{\\bar{T}}{\\bar{T}_{\\mathrm{Haslam, }\\beta=\\mathrm{%s}}}$'%(index_upper), fontsize=35)\n",
    "plt.xticks(fontsize=20)\n",
    "plt.yticks(fontsize=20)\n",
    "plt.legend(fontsize=25, loc='upper right', borderaxespad=0.3, labelspacing=0.4, borderpad=0.2, ncol=2, columnspacing=0.5, handlelength=1.0)\n",
    "plt.grid(False)\n",
    "plt.xlim(30.,408.)\n",
    "plt.axhline(1.0, color='grey')\n",
    "#plt.show()\n",
    "plt.savefig(saveFolder+'AverageSkyTemperature/All_models_normed.png', facecolor='white', bbox_inches='tight')\n",
    "plt.savefig(saveFolder+'AverageSkyTemperature/pdf/All_models_normed.pdf', facecolor='white', bbox_inches='tight')\n",
    "plt.yscale('log')\n",
    "#plt.show()\n",
    "plt.savefig(saveFolder+'AverageSkyTemperature/All_models_normed_log.png', facecolor='white', bbox_inches='tight')\n",
    "plt.savefig(saveFolder+'AverageSkyTemperature/pdf/All_models_normed_log.pdf', facecolor='white', bbox_inches='tight')\n",
    "plt.xscale('log')\n",
    "plt.savefig(saveFolder+'AverageSkyTemperature/All_models_normed_loglog.png', facecolor='white', bbox_inches='tight')\n",
    "plt.savefig(saveFolder+'AverageSkyTemperature/pdf/All_models_normed_loglog.pdf', facecolor='white', bbox_inches='tight')\n",
    "plt.show()\n",
    "\n",
    "#Plot global level-of-agreement as function of frequency\n",
    "plt.figure(figsize=(12,4))\n",
    "plt.plot(frequency_range, 100.*LoA)\n",
    "plt.xlabel('Frequency / MHz', fontsize=25)\n",
    "plt.ylabel(r'$r_\\mathrm{max}$ / \\%', fontsize=25)\n",
    "#plt.ylabel(r'$max|\\frac{T_\\mathrm{sky,\\; average}-T_{\\mathrm{sky,\\; average;\\; Haslam,\\;}\\beta=2.46}}{T_\\mathrm{sky,\\; average}+T_{\\mathrm{sky,\\; average;\\; Haslam,\\;}\\beta=2.46}}|$', fontsize=28)\n",
    "plt.xticks(fontsize=20)\n",
    "plt.yticks(fontsize=20)\n",
    "#plt.legend(fontsize=20)\n",
    "plt.grid(False)\n",
    "plt.xlim(30.,408.)\n",
    "plt.savefig(saveFolder+'AverageSkyTemperature/All_models_LoA.png', facecolor='white', bbox_inches='tight')\n",
    "plt.savefig(saveFolder+'AverageSkyTemperature/pdf/All_models_LoA.pdf', facecolor='white', bbox_inches='tight')\n",
    "plt.plot(frequency_range, 100.*LoA_withoutLFSM)\n",
    "plt.savefig(saveFolder+'AverageSkyTemperature/All_models_LoA_withoutLFSM.png', facecolor='white', bbox_inches='tight')\n",
    "plt.savefig(saveFolder+'AverageSkyTemperature/pdf/All_models_LoA_withoutLFSM.pdf', facecolor='white', bbox_inches='tight')\n",
    "plt.show()\n",
    "\n",
    "#Plot average local sky temperature\n",
    "plt.figure()\n",
    "for model_key in model_list:\n",
    "    average_T_L_mean = [np.mean(x) for x in average_T_L[model_key]]\n",
    "    plt.plot(frequency_range,average_T_G[model_key],label=model_title[model_key], color=colors[model_key])\n",
    "    plt.plot(frequency_range,average_T_L_mean,label=model_title[model_key]+' - local', color=colors[model_key], linestyle='--')\n",
    "plt.xlabel('Frequency / MHz', fontsize=20)\n",
    "plt.ylabel('Average sky temperature / K', fontsize=20)\n",
    "plt.xticks(fontsize=16)\n",
    "plt.yticks(fontsize=16)\n",
    "plt.legend(fontsize=20)\n",
    "plt.grid(True)\n",
    "plt.ylim(bottom=0.)\n",
    "plt.savefig(saveFolder+'AverageSkyTemperature/All_models_local.png', facecolor='white', bbox_inches='tight')\n",
    "plt.show()\n",
    "\n",
    "# Plot 17h / 4h local T ratio\n",
    "'''\n",
    "plt.figure()\n",
    "for model_key in model:\n",
    "    average_T_L_17_4 = [a[np.where(hours==17.)]/a[np.where(hours==4.)] for a in average_T_L[model_key]]\n",
    "    plt.plot(frequency_range,average_T_L_17_4,label=model_title[model_key]+' - local', color=colors[model_key], linestyle='--')\n",
    "plt.xlabel('Frequency / MHz', fontsize=20)\n",
    "plt.ylabel('Average sky temperature / K (17h / 4h)', fontsize=20)\n",
    "plt.xticks(fontsize=16)\n",
    "plt.yticks(fontsize=16)\n",
    "plt.legend(fontsize=20)\n",
    "plt.grid(True)\n",
    "plt.ylim(bottom=0.)\n",
    "plt.savefig(saveFolder+'AverageSkyTemperature/All_models_local_17_4.png', facecolor='white', bbox_inches='tight')\n",
    "plt.show()\n",
    "'''\n",
    "\n",
    "#Peak to Valley\n",
    "plt.figure()\n",
    "for model_key in model_list:\n",
    "    average_T_L_PtV = [max(a)/min(a) for a in average_T_L[model_key]]\n",
    "    plt.plot(frequency_range,average_T_L_PtV,label=model_title[model_key]+' - local', color=colors[model_key], linestyle='--')\n",
    "plt.xlabel('Frequency / MHz', fontsize=20)\n",
    "plt.ylabel('Average sky temperature / K (max / min)', fontsize=20)\n",
    "plt.xticks(fontsize=16)\n",
    "plt.yticks(fontsize=16)\n",
    "plt.legend(fontsize=20)\n",
    "plt.grid(True)\n",
    "plt.ylim(bottom=0.)\n",
    "plt.savefig(saveFolder+'AverageSkyTemperature/All_models_local_PtV.png', facecolor='white', bbox_inches='tight')\n",
    "plt.show()\n",
    "\n",
    "#Plot local sky temperature over LST\n",
    "indices = [0,1,2,3,4,5]\n",
    "\n",
    "for i in indices:\n",
    "    plt.figure()\n",
    "    for model_key in model_list:\n",
    "        plt.plot(hours,average_T_L[model_key][i],label=model_title[model_key]+' - local', color=colors[model_key], linestyle='--')\n",
    "    plt.title(str(frequency_range[i])+' MHz', fontsize=20)\n",
    "    plt.xlabel('LST / h', fontsize=20)\n",
    "    plt.ylabel('Average sky temperature / K', fontsize=20)\n",
    "    plt.xticks(fontsize=16)\n",
    "    plt.yticks(fontsize=16)\n",
    "    plt.legend(fontsize=20)\n",
    "    plt.grid(True)\n",
    "    plt.ylim(bottom=0.)\n",
    "    plt.savefig(saveFolder+'AverageSkyTemperature/All_models_local_LST_'+str(frequency_range[i]).replace('.','_')+'.png', facecolor='white', bbox_inches='tight')\n",
    "    plt.show()\n",
    "    \n",
    "    plt.figure()\n",
    "    for model_key in model_list:\n",
    "        plt.plot(hours,average_T_L[model_key][i]/average_T_L['LFmap'][i],label=model_title[model_key]+' - local', color=colors[model_key], linestyle='--')\n",
    "    plt.title(str(frequency_range[i])+' MHz', fontsize=20)\n",
    "    plt.xlabel('LST / h', fontsize=20)\n",
    "    plt.ylabel('Average sky temperature / K (normalized to LFmap)', fontsize=20)\n",
    "    plt.xticks(fontsize=16)\n",
    "    plt.yticks(fontsize=16)\n",
    "    plt.legend(fontsize=20)\n",
    "    plt.grid(True)\n",
    "    plt.ylim(bottom=0.)\n",
    "    plt.savefig(saveFolder+'AverageSkyTemperature/All_models_local_LST_normed_'+str(frequency_range[i]).replace('.','_')+'.png', facecolor='white', bbox_inches='tight')\n",
    "    plt.show()\n",
    "\n",
    "\n",
    "for (m_1,m_2) in it.combinations(model_list,2):\n",
    "    #Plot ratio of average sky temperature for two models\n",
    "    plt.figure()\n",
    "    plt.plot(frequency_range,100.*average_T_G[m_1]/average_T_G[m_2])\n",
    "    plt.xlabel('Frequency / MHz', fontsize=20)\n",
    "    plt.ylabel(r'Avg. sky temperature $\\frac{\\mathrm{%s}}{\\mathrm{%s}}$'%(model_title[m_1],model_title[m_2])+' [%]', fontsize=20)\n",
    "    plt.xticks(fontsize=16)\n",
    "    plt.yticks(fontsize=16)\n",
    "    plt.grid(True)\n",
    "    plt.savefig(saveFolder+'AverageSkyTemperature/Ratio_model_'+model_title[m_1]+'_'+model_title[m_2]+'.png', facecolor='white', bbox_inches='tight')\n",
    "    plt.show()\n",
    "\n",
    "    average_T_G_mean = [np.mean([average_T_G[m_1][i],average_T_G[m_2][i]]) for i in range(len(average_T_G[m_1]))]    \n",
    "    #Plot difference of average sky temperature for two models\n",
    "    plt.figure()\n",
    "    plt.plot(frequency_range,100.*(average_T_G[m_2]-average_T_G[m_1])/average_T_G_mean)\n",
    "    plt.xlabel('Frequency / MHz', fontsize=20)\n",
    "    plt.ylabel(r'Avg. sky temperature $\\frac{2(\\mathrm{%s-%s})}{\\mathrm{%s+%s}}$'%(model_title[m_2],model_title[m_1],model_title[m_2],model_title[m_1])+' [%]', fontsize=20)\n",
    "    plt.xticks(fontsize=16)\n",
    "    plt.yticks(fontsize=16)\n",
    "    plt.grid(True)\n",
    "    plt.savefig(saveFolder+'AverageSkyTemperature/Difference_model_'+model_title[m_1]+'_'+model_title[m_2]+'.png', facecolor='white', bbox_inches='tight')\n",
    "    plt.show()\n",
    "\n",
    "    #Calculate mean average local sky temperatures over LST\n",
    "    average_T_L_mean_1 = np.array([np.mean(x) for x in average_T_L[m_1]])\n",
    "    average_T_L_mean_2 = np.array([np.mean(x) for x in average_T_L[m_2]])\n",
    "    #Plot ratio of average local sky temperature for two models\n",
    "    plt.figure()\n",
    "    plt.plot(frequency_range,100.*average_T_L_mean_1/average_T_L_mean_2)\n",
    "    plt.xlabel('Frequency / MHz', fontsize=20)\n",
    "    plt.ylabel(r'Avg. local sky temperature $\\frac{\\mathrm{%s}}{\\mathrm{%s}}$'%(model_title[m_1],model_title[m_2])+' [%]', fontsize=20)\n",
    "    plt.xticks(fontsize=16)\n",
    "    plt.yticks(fontsize=16)\n",
    "    plt.grid(True)\n",
    "    plt.savefig(saveFolder+'AverageSkyTemperature/Ratio_model_'+model_title[m_1]+'_'+model_title[m_2]+'_local.png', facecolor='white', bbox_inches='tight')\n",
    "    plt.show()\n",
    "\n",
    "    average_T_L_mean = [np.mean([average_T_L[m_1][i],average_T_L[m_2][i]]) for i in range(len(average_T_L[m_1]))]    \n",
    "    #Plot difference of average local sky temperature for two models\n",
    "    plt.figure()\n",
    "    plt.plot(frequency_range,100.*(average_T_L_mean_2-average_T_L_mean_1)/average_T_L_mean)\n",
    "    plt.xlabel('Frequency / MHz', fontsize=20)\n",
    "    plt.ylabel(r'Avg. local sky temperature $\\frac{2(\\mathrm{%s-%s})}{\\mathrm{%s+%s}}$'%(model_title[m_2],model_title[m_1],model_title[m_2],model_title[m_1])+' [%]', fontsize=20)\n",
    "    plt.xticks(fontsize=16)\n",
    "    plt.yticks(fontsize=16)\n",
    "    plt.grid(True)\n",
    "    plt.savefig(saveFolder+'AverageSkyTemperature/Difference_model_'+model_title[m_1]+'_'+model_title[m_2]+'_local.png', facecolor='white', bbox_inches='tight')\n",
    "    plt.show()    "
   ]
  },
  {
   "cell_type": "markdown",
   "metadata": {},
   "source": [
    "Reference maps zero level error relative to the average sky temperature"
   ]
  },
  {
   "cell_type": "code",
   "execution_count": null,
   "metadata": {},
   "outputs": [],
   "source": [
    "# generate sky maps\n",
    "frequency_range = [10., 22., 35., 38.,  40., 45., 50., 60., 70., 74., 80., 85., 150., 178., 408.]\n",
    "zero_level_error = [2.0e4, 5.0e3, 10., 10., 10., 125., 10., 10., 10., 10., 10., 120., 40., 15., 3.]\n",
    "zero_level_offset = [0.0, 0.0, 0.0, 0.0, 0.0, 544.0, 0.0, 0.0, 0.0, 0.0, 0.0, 0.0, 0.0, 0.0, 3.46]\n",
    "zero_level_offset_2 = [0.0, 0.0, 0.0, 0.0, 0.0, 160.0, 0.0, 0.0, 0.0, 0.0, 0.0, 0.0, 0.7, 0.0, 0.0]\n",
    "zero_level_offset_3 = [0.0, 0.0, 0.0, 0.0, 0.0, 78.0, 0.0, 0.0, 0.0, 0.0, 0.0, 0.0, 6.0, 0.0, 0.0]\n",
    "\n",
    "for i in range(len(frequency_range)):\n",
    "    freq = frequency_range[i]\n",
    "    zle = zero_level_error[i]\n",
    "    zlo = zero_level_offset[i]\n",
    "    zlo_2 = zero_level_offset_2[i]\n",
    "    zlo_3 = zero_level_offset_3[i]\n",
    "    print(freq, zle)\n",
    "    print(GskyMapDF.iloc[0]['-90.0'],'\\n')\n",
    "    avg_T = []\n",
    "    for model_key in model_list:\n",
    "        g = model[model_key]\n",
    "        map = g.generate(freq)\n",
    "        if key in [\"GSM\", \"GMOSS\"]:\n",
    "            map = map + 2.72548\n",
    "        dumpG = newvisufunc.projview(map,coord=g_model_coord[model_key], return_only_data=True)\n",
    "        GskyMapDF=convert2SkyDF(dumpG,full=True)\n",
    "        avg_T.append(integrateOverAngles_cos(GskyMapDF, t_min=-90, t_max=90)/integrateOverAngles_cos(GskyMapDF/GskyMapDF, t_min=-90, t_max=90))\n",
    "        print(model_key, round(100. * zle /avg_T[-1], 1), '%; ', round(100. * zlo /avg_T[-1], 1), '%; ', round(100. * zlo_2 /avg_T[-1], 1), '%; ', round(100. * zlo_3 /avg_T[-1], 1), '%')\n",
    "\n",
    "    #print('NGP ?: ', round(100. * zle / GskyMapDF.iloc[0]['90.0'], 1), '%')\n",
    "    #print('SGP ?: ', round(100. * zle / GskyMapDF.iloc[0]['-90.0'], 1), '%')\n",
    "    print('\\nAvg  : ',round(100. * zle / np.mean(avg_T), 1), '%; ', round(100. * zlo / np.mean(avg_T), 1), '%; ', round(100. * zlo_2 / np.mean(avg_T), 1), '%; ', round(100. * zlo_3 / np.mean(avg_T), 1), '%\\n--------------------')\n",
    "    #print('Avg  : ', round(100. * np.mean([zle / a for a in avg_T]), 1), '%')\n",
    "    print(\" \")"
   ]
  },
  {
   "cell_type": "markdown",
   "metadata": {},
   "source": [
    "# Model Comparison with latitude variation"
   ]
  },
  {
   "cell_type": "code",
   "execution_count": null,
   "metadata": {},
   "outputs": [],
   "source": [
    "average_T_G_temp, average_T_L_temp = {},{}"
   ]
  },
  {
   "cell_type": "code",
   "execution_count": null,
   "metadata": {},
   "outputs": [],
   "source": [
    "model_list = ['ULSA_d'] #LFmap, \"LFSM\", \"GSM\", \"GSM16\"] #, \"HaslamL\", \"HaslamU\"\n",
    "# rotate them to Local coordinates at some particular LST time\n",
    "altitude = np.linspace(-90.,90.,19) #19\n",
    "# generate sky maps\n",
    "frequency_range = np.linspace(30.0,408.0,64) #64\n",
    "hours = np.arange(0,24,3) #3\n",
    "average_T_G, average_T_L = {},{}\n",
    "\n",
    "#for model_key in model:\n",
    "for model_key in model_list:\n",
    "    g = model[model_key]\n",
    "    map_title = model_title[model_key]\n",
    "    T_G_temp,T_L_temp = [],[]\n",
    "    for count_f, freq in enumerate(frequency_range):\n",
    "        T_L_temp.append([])\n",
    "        map = g.generate(freq)\n",
    "        # first generate the data dump\n",
    "        dumpG = newvisufunc.projview(map,coord=e_model_coord[model_key], return_only_data=True)\n",
    "\n",
    "        # then convert the data dump to DataFrame\n",
    "        # set full=True to have full Y axis\n",
    "        GskyMapDF=convert2SkyDF(dumpG,full=True)\n",
    "        print(model_key, freq)\n",
    "        T_G_temp.append(integrateOverAngles_cos(GskyMapDF, t_min=90, t_max=90)/integrateOverAngles_cos(GskyMapDF/GskyMapDF, t_min=90, t_max=90))\n",
    "        print(T_G_temp[-1])\n",
    "        for lat in altitude:\n",
    "            print(lat)\n",
    "            T_hour = []\n",
    "            for hour in hours:\n",
    "                rotAngles=[(180+(hour*15))%360,-(lat-90)]\n",
    "                dump = newvisufunc.projview(map,rot=rotAngles, coord=c_model_coord[model_key], return_only_data=True,xsize=newPhi.size)\n",
    "                LskyMapDF=convert2SkyDF(dump,full=True)\n",
    "                T_hour.append(integrateOverAngles_cos(LskyMapDF, t_min=0., t_max=90.)/integrateOverAngles_cos(LskyMapDF/LskyMapDF, t_min=0., t_max=90.))\n",
    "            T_L_temp[count_f].append(T_hour)\n",
    "    average_T_G[model_key] = np.array(T_G_temp)\n",
    "    average_T_L[model_key] = np.array(T_L_temp)\n",
    "    average_T_G_temp[model_key] = np.array(T_G_temp)\n",
    "    average_T_L_temp[model_key] = np.array(T_L_temp)"
   ]
  },
  {
   "cell_type": "code",
   "execution_count": null,
   "metadata": {},
   "outputs": [],
   "source": [
    "with open(\"averageT_lat_data_temp.pickle\", \"wb\") as fout:\n",
    "    pickle.dump([frequency_range, hours, average_T_G_temp, average_T_L_temp, altitude], fout)"
   ]
  },
  {
   "cell_type": "code",
   "execution_count": null,
   "metadata": {},
   "outputs": [],
   "source": [
    "with open(\"averageT_lat_data_temp.pickle\", \"rb\") as fin:\n",
    "    frequency_range, hours, average_T_G_temp, average_T_L_temp, altitude = pickle.load(fin)"
   ]
  },
  {
   "cell_type": "code",
   "execution_count": null,
   "metadata": {},
   "outputs": [],
   "source": [
    "with open(\"averageT_lat_data.pickle\", \"wb\") as fout:\n",
    "    pickle.dump([frequency_range, hours, average_T_G, average_T_L, altitude], fout)"
   ]
  },
  {
   "cell_type": "code",
   "execution_count": null,
   "metadata": {},
   "outputs": [],
   "source": [
    "with open(\"averageT_lat_data.pickle\", \"rb\") as fin:\n",
    "    frequency_range, hours, average_T_G, average_T_L, altitude = pickle.load(fin)"
   ]
  },
  {
   "cell_type": "code",
   "execution_count": null,
   "metadata": {},
   "outputs": [],
   "source": [
    "average_T_G_temp['LFmap'] = average_T_G['LFmap']\n",
    "average_T_G_temp['GSM'] = average_T_G['GSM']\n",
    "average_T_G_temp['GSM16'] = average_T_G['GSM16']\n",
    "average_T_G_temp['LFSM'] = average_T_G['LFSM']\n",
    "average_T_G_temp['GMOSS'] = average_T_G['GMOSS']\n",
    "average_T_G_temp['SSM'] = average_T_G['SSM']\n",
    "average_T_G_temp['ULSA'] = average_T_G['ULSA']\n",
    "\n",
    "average_T_L_temp['LFmap'] = average_T_L['LFmap']\n",
    "average_T_L_temp['GSM'] = average_T_L['GSM']\n",
    "average_T_L_temp['GSM16'] = average_T_L['GSM16']\n",
    "average_T_L_temp['LFSM'] = average_T_L['LFSM']\n",
    "average_T_L_temp['GMOSS'] = average_T_L['GMOSS']\n",
    "average_T_L_temp['SSM'] = average_T_L['SSM']\n",
    "average_T_L_temp['ULSA'] = average_T_L['ULSA']"
   ]
  },
  {
   "cell_type": "code",
   "execution_count": null,
   "metadata": {},
   "outputs": [],
   "source": [
    "average_T_G['LFmap'] = average_T_G_temp['LFmap']\n",
    "average_T_G['LFSM'] = average_T_G_temp['LFSM']\n",
    "average_T_G['GSM'] = average_T_G_temp['GSM']\n",
    "average_T_G['GSM16'] = average_T_G_temp['GSM16']\n",
    "average_T_G['GMOSS'] = average_T_G_temp['GMOSS']\n",
    "average_T_G['SSM'] = average_T_G_temp['SSM']\n",
    "average_T_G['ULSA'] = average_T_G_temp['ULSA']\n",
    "\n",
    "average_T_L['LFmap'] = average_T_L_temp['LFmap']\n",
    "average_T_L['LFSM'] = average_T_L_temp['LFSM']\n",
    "average_T_L['GSM'] = average_T_L_temp['GSM']\n",
    "average_T_L['GSM16'] = average_T_L_temp['GSM16']\n",
    "average_T_L['GMOSS'] = average_T_L_temp['GMOSS']\n",
    "average_T_L['SSM'] = average_T_L_temp['SSM']\n",
    "average_T_L['ULSA'] = average_T_L_temp['ULSA']"
   ]
  },
  {
   "cell_type": "code",
   "execution_count": null,
   "metadata": {},
   "outputs": [],
   "source": [
    "average_T_L"
   ]
  },
  {
   "cell_type": "code",
   "execution_count": null,
   "metadata": {},
   "outputs": [],
   "source": [
    "average_T_L_temp"
   ]
  },
  {
   "cell_type": "code",
   "execution_count": null,
   "metadata": {},
   "outputs": [],
   "source": [
    "average_T_G['GSM'] = average_T_G['GSM'] + 2.72548\n",
    "average_T_G['GMOSS'] = average_T_G['GMOSS'] + 2.72548\n",
    "\n",
    "average_T_L['GSM'] = average_T_L['GSM'] + 2.72548\n",
    "average_T_L['GMOSS'] = average_T_L['GMOSS'] + 2.72548"
   ]
  },
  {
   "cell_type": "code",
   "execution_count": null,
   "metadata": {},
   "outputs": [],
   "source": [
    "from matplotlib.ticker import StrMethodFormatter\n",
    "plt.style.use('default')\n",
    "plt.rc('text', usetex=True)\n",
    "plt.rc('font', family='serif')\n",
    "plt.rcParams['legend.title_fontsize'] = 20\n",
    "\n",
    "model_list = [\"LFmap\", \"GSM\", \"GSM16\", \"LFSM\", \"GMOSS\", \"SSM\", \"ULSA_d\"]\n",
    "Haslam_label = \"Haslam \"+str(index_lower)+r\" $< \\beta <$ \"+str(index_upper)\n",
    "colors = {\"LFmap\": \"tab:blue\", \"LFSM\": \"tab:orange\", \"GSM\": \"tab:green\", \"GSM16\": \"tab:red\", \"Haslam\": \"grey\", \"Cane\": \"k\", \"Cane2\": \"m\", 'GMOSS': 'tab:olive', 'SSM': 'lime', 'ULSA_d': 'tab:cyan'}\n",
    "linestyles = {\"LFmap\": \"solid\", \"LFSM\": \"solid\", \"GSM\": \"solid\", \"GSM16\": \"solid\", \"Haslam\": \"solid\", \"Cane\": \"dotted\", \"Cane2\": \"dotted\", 'GMOSS': 'solid', 'SSM': 'solid', 'ULSA_d': 'solid'}\n",
    "cmap = matplotlib.cm.get_cmap('viridis')\n",
    "\n",
    "\n",
    "#Plot average local sky temperature\n",
    "for model_key in model_list:\n",
    "    plt.figure(figsize=(14,5))\n",
    "    average_T_L_mean = np.mean(average_T_L[model_key], axis=-1)\n",
    "    for i in range(average_T_L_mean.shape[1]):\n",
    "        plt.plot(frequency_range,average_T_L_mean[:,i]/average_T_L_mean[:,9],label=str(altitude[i])+'°', color=cmap(i/average_T_L_mean.shape[1]), linestyle='--')\n",
    "        \n",
    "    plt.xlabel('Frequency / MHz', fontsize=20)\n",
    "    plt.ylabel('Average sky temperature / K', fontsize=20)\n",
    "    plt.xticks(fontsize=16)\n",
    "    plt.yticks(fontsize=16)\n",
    "    leg = plt.legend(title=model_key+r'$\\\\$'+'Geographic latitude', ncol=4, labelspacing=0.2, columnspacing=0.5, handlelength=1.0, fontsize=20)\n",
    "    leg._legend_box.align = \"left\"\n",
    "    plt.grid(True)\n",
    "    plt.savefig(saveFolder+'AverageSkyTemperature/All_models_local_lat_'+model_key+'.png', facecolor='white', bbox_inches='tight')\n",
    "    #plt.yscale('log')\n",
    "    plt.savefig(saveFolder+'AverageSkyTemperature/All_models_local_lat_'+model_key+'_log.png', facecolor='white', bbox_inches='tight')\n",
    "    plt.xscale('log')\n",
    "    plt.xticks([30, 40, 50, 60, 70, 80, 90, 100, 200, 300, 400], ['30', '','', '', '', '80','','100','','300', ''] ,fontsize=16)\n",
    "    plt.savefig(saveFolder+'AverageSkyTemperature/All_models_local_lat_'+model_key+'_loglog.png', facecolor='white', bbox_inches='tight')\n",
    "    plt.savefig(saveFolder+'AverageSkyTemperature/pdf/All_models_local_lat_'+model_key+'_loglog.pdf', facecolor='white', bbox_inches='tight')\n",
    "    plt.show()\n",
    "\n",
    "#Plot average local sky temperature\n",
    "fig, ax = plt.subplots(1, 1, figsize=(8,6))\n",
    "fig_n, ax_n = plt.subplots(1, 1, figsize=(8,6))\n",
    "for i, model_key in enumerate(model_list):\n",
    "    average_T_L_mean = np.mean(average_T_L[model_key], axis=-1)\n",
    "    T_temp = np.array([simps(average_T_L_mean[:,i],frequency_range) for i in range(average_T_L_mean.shape[1])])\n",
    "    average_T_L_mean_norm = np.mean(average_T_L['GMOSS'], axis=-1)\n",
    "    T_temp_norm = np.array([simps(average_T_L_mean_norm[:,i],frequency_range) for i in range(average_T_L_mean_norm.shape[1])])\n",
    "    ax.plot(altitude, T_temp, label=model_title[model_key], color=colors[model_key], linestyle=linestyles[model_key])\n",
    "    ax_n.plot(altitude, T_temp/T_temp_norm, label=model_title[model_key], color=colors[model_key], linestyle=linestyles[model_key])\n",
    "        \n",
    "ax.set_xlabel('Latitude', fontsize=25)\n",
    "ax_n.set_xlabel('Latitude', fontsize=25)\n",
    "ax.set_ylabel(r'$\\mathcal{T}$'+' / K MHz', fontsize=25, labelpad=10)\n",
    "ax_n.set_ylabel(r'\\fontsize{30}{3em}\\selectfont{}{$\\frac{\\mathcal{T}}{\\mathcal{T}_\\mathrm{GMOSS}}$}'+r'\\fontsize{20}{3em}\\selectfont{}{ / K '+r'\\fontsize{20}{3em}\\selectfont{}{MHz}', fontsize=25, labelpad=20)\n",
    "ax.tick_params(axis='both',which='both', labelsize=20)\n",
    "ax_n.tick_params(axis='both',which='both', labelsize=20)\n",
    "ax.set_ylim(ymax=5.7e5)\n",
    "ax.set_xlim(xmin=-90., xmax=90.)\n",
    "ax_n.set_ylim(ymax=1.26) #ymin=0.995,\n",
    "ax_n.set_xlim(xmin=-90., xmax=90.)\n",
    "ax.set_yticks([4e5,5e5])\n",
    "ax.set_yticklabels([r'$4\\times10^5$',r'$5\\times10^5$'])\n",
    "ax.xaxis.set_major_formatter(StrMethodFormatter('{x:.0f}°'))\n",
    "ax_n.xaxis.set_major_formatter(StrMethodFormatter('{x:.0f}°'))\n",
    "#ax_n.yaxis.set_major_formatter(StrMethodFormatter('{x:.1f}'))\n",
    "ax_n.ticklabel_format(axis='y', useOffset=False, style='plain')\n",
    "ax.legend(fontsize=20, ncol=2, columnspacing=0.5, handlelength=1.0, borderaxespad=0.3, labelspacing=0.4, borderpad=0.2)\n",
    "ax_n.legend(fontsize=20, ncol=2, columnspacing=0.5, handlelength=1.0, borderaxespad=0.3, labelspacing=0.4, borderpad=0.2)\n",
    "ax.grid(False)\n",
    "ax_n.grid(False)\n",
    "\n",
    "fig.savefig(saveFolder+'AverageSkyTemperature/All_models_local_lat_combined.png', facecolor='white', bbox_inches='tight')\n",
    "fig.savefig(saveFolder+'AverageSkyTemperature/pdf/All_models_local_lat_combined.pdf', facecolor='white', bbox_inches='tight')\n",
    "ax.set_yscale('log')\n",
    "fig.savefig(saveFolder+'AverageSkyTemperature/All_models_local_lat_combined_log.png', facecolor='white', bbox_inches='tight')\n",
    "fig.show()\n",
    "\n",
    "fig_n.savefig(saveFolder+'AverageSkyTemperature/All_models_local_lat_combined_normed.png', facecolor='white', bbox_inches='tight')\n",
    "fig_n.savefig(saveFolder+'AverageSkyTemperature/pdf/All_models_local_lat_combined_normed.pdf', facecolor='white', bbox_inches='tight')\n",
    "ax_n.set_yscale('log')\n",
    "fig_n.savefig(saveFolder+'AverageSkyTemperature/All_models_local_lat_combined_log_normed.png', facecolor='white', bbox_inches='tight')\n",
    "fig_n.show()\n",
    "\n"
   ]
  },
  {
   "cell_type": "markdown",
   "metadata": {},
   "source": [
    "# Compare models for single radio experiments (specific geographical latitudes & frequency bands)"
   ]
  },
  {
   "cell_type": "code",
   "execution_count": null,
   "metadata": {},
   "outputs": [],
   "source": [
    "model_list = [\"LFmap\", \"LFSM\", \"GSM\", \"GSM16\", \"GMOSS\", \"SSM\", 'ULSA_d'] # \"LFmap\", \"LFSM\", \"GSM\", \"GSM16\", \"HaslamL\", \"HaslamU\"\n",
    "experiments = {\"RNO-G\": 72.58333, \"LOFAR_low\": 52.90889, \"LOFAR_high\": 52.90889, \"GRAND\": 42.9333, \"OVRO-LWA\": 37.2339, \"SKA-low\": -26.697, \"Auger\": -35.206667, \"IceCube\": -90.0}  # altitudes of RNO-G, LOFAR, GRANDproto, SKA-low, Auger, IceCube; sorted by altitude\n",
    "# frequency bands of RNO-G: 100-1000 MHz, LOFAR low: 30-80 MHz, LOFAR high: 110-190 MHz, GRAND: 50-200 MHz, SKA-low: 50-350 MHz, Auger: 30-80 MHz, IceCube: 100-190 MHz\n",
    "frequencies = {\"RNO-G\": np.linspace(100.0,408.0,78), \"LOFAR_low\": np.linspace(30.0,80.0,11), \"LOFAR_high\": np.linspace(110.0,190.0,21), \"GRAND\": np.linspace(50.0,200.0,26), \"OVRO-LWA\": np.linspace(30.0,80.0,11), \"SKA-low\": np.linspace(50.0,350.0,51), \"Auger\": np.linspace(30.0,80.0,11), \"IceCube\": np.linspace(70.0,350.0,41)}\n",
    "hours = np.arange(0,24,2)\n",
    "average_T_L = {}\n",
    "\n",
    "for exp in experiments:\n",
    "    average_T_L[exp] = {}\n",
    "    print(exp)\n",
    "    for model_key in model_list:\n",
    "        g = model[model_key]\n",
    "        map_title = model_title[model_key]\n",
    "        T_L_temp = []\n",
    "        for count_f, freq in enumerate(frequencies[exp]):\n",
    "            T_L_temp.append([])\n",
    "            map = g.generate(freq)\n",
    "            print(model_key, freq)\n",
    "            T_hour = []\n",
    "            for hour in hours:\n",
    "                rotAngles=[(180+(hour*15))%360,-(experiments[exp]-90)]\n",
    "                dump = newvisufunc.projview(map,rot=rotAngles, coord=c_model_coord[model_key], return_only_data=True,xsize=newPhi.size)\n",
    "                LskyMapDF=convert2SkyDF(dump,full=False)\n",
    "                T_hour.append(integrateOverAngles_cos(LskyMapDF, t_min=15)/integrateOverAngles_cos(LskyMapDF/LskyMapDF, t_min=15))\n",
    "            T_L_temp[count_f].append(T_hour)\n",
    "        average_T_L[exp][model_key] = np.array(T_L_temp)"
   ]
  },
  {
   "cell_type": "code",
   "execution_count": null,
   "metadata": {},
   "outputs": [],
   "source": [
    "with open(\"averageT_exp_data.pickle\", \"wb\") as fout:\n",
    "    pickle.dump([frequencies, hours, average_T_L, experiments], fout)"
   ]
  },
  {
   "cell_type": "code",
   "execution_count": null,
   "metadata": {},
   "outputs": [],
   "source": [
    "with open(\"averageT_exp_data.pickle\", \"rb\") as fin:\n",
    "    frequencies, hours, average_T_L, experiments = pickle.load(fin)"
   ]
  },
  {
   "cell_type": "code",
   "execution_count": null,
   "metadata": {},
   "outputs": [],
   "source": [
    "with open(\"averageT_exp_data_temp.pickle\", \"wb\") as fout:\n",
    "    pickle.dump([frequencies, hours, average_T_L_temp, experiments], fout)"
   ]
  },
  {
   "cell_type": "code",
   "execution_count": null,
   "metadata": {},
   "outputs": [],
   "source": [
    "with open(\"averageT_exp_data_temp.pickle\", \"rb\") as fin:\n",
    "    frequencies, hours, average_T_L_temp, experiments = pickle.load(fin)"
   ]
  },
  {
   "cell_type": "code",
   "execution_count": null,
   "metadata": {},
   "outputs": [],
   "source": [
    "model_list_temp = [\"LFmap\", \"LFSM\", \"GSM\", \"GSM16\", \"GMOSS\", \"SSM\", \"ULSA_d\"]\n",
    "average_T_L_temp = {}\n",
    "for exp in experiments:\n",
    "    average_T_L_temp[exp] = {}\n",
    "    for model_key in model_list_temp:\n",
    "        average_T_L_temp[exp][model_key] = average_T_L[exp][model_key]"
   ]
  },
  {
   "cell_type": "code",
   "execution_count": null,
   "metadata": {},
   "outputs": [],
   "source": [
    "model_list_temp = [\"LFmap\", \"LFSM\", \"GSM\", \"GSM16\", \"GMOSS\", \"SSM\", \"ULSA_d\"]\n",
    "for exp in experiments:\n",
    "    for model_key in model_list_temp:\n",
    "        average_T_L[exp][model_key] = average_T_L_temp[exp][model_key]"
   ]
  },
  {
   "cell_type": "code",
   "execution_count": null,
   "metadata": {},
   "outputs": [],
   "source": [
    "average_T_L"
   ]
  },
  {
   "cell_type": "code",
   "execution_count": null,
   "metadata": {},
   "outputs": [],
   "source": [
    "average_T_L_temp"
   ]
  },
  {
   "cell_type": "code",
   "execution_count": null,
   "metadata": {},
   "outputs": [],
   "source": [
    "# Add back CMB component\n",
    "model_list_cmb = [\"GSM\", \"GMOSS\"]\n",
    "for exp in experiments:\n",
    "    for model_key in model_list_cmb:\n",
    "        average_T_L[exp][model_key] = average_T_L[exp][model_key] + 2.72548"
   ]
  },
  {
   "cell_type": "code",
   "execution_count": null,
   "metadata": {},
   "outputs": [],
   "source": [
    "plt.style.use('default')\n",
    "plt.rc('text', usetex=True)\n",
    "plt.rc('font', family='serif')\n",
    "plt.rcParams['legend.title_fontsize'] = 20\n",
    "\n",
    "model_list = {}\n",
    "models = [\"LFmap\", \"GSM\", \"GSM16\", \"LFSM\", \"GMOSS\", \"SSM\", \"ULSA_d\"] #, \"HaslamL\", \"HaslamU\"\n",
    "\n",
    "for exp in experiments:\n",
    "    model_list[exp] = models\n",
    "    res_temp = {}\n",
    "    for (m_1,m_2) in it.combinations(model_list[exp],2):\n",
    "        a1 = np.squeeze(np.mean(average_T_L[exp][m_1], axis=-1))\n",
    "        a2 = np.squeeze(np.mean(average_T_L[exp][m_2], axis=-1))\n",
    "        res_temp[m_1+' '+m_2] = round(100.0 * 2*(simps(a1,frequencies[exp])-simps(a2,frequencies[exp]))/(simps(a1,frequencies[exp])+simps(a2,frequencies[exp])),1)\n",
    "    print(\"\")\n",
    "    print(exp)\n",
    "    for el in res_temp:\n",
    "        print(el, res_temp[el])\n",
    "    print(\"Maximum: \", max(res_temp, key=lambda y: abs(res_temp[y])), res_temp[max(res_temp, key=lambda y: abs(res_temp[y]))], \"%\")"
   ]
  },
  {
   "cell_type": "markdown",
   "metadata": {},
   "source": [
    "# Influence of Sun investigation by adding a hot circle to the map"
   ]
  },
  {
   "cell_type": "code",
   "execution_count": null,
   "metadata": {},
   "outputs": [],
   "source": [
    "def F_to_T_sun(F, nu):\n",
    "    c = 3.0e8\n",
    "    k = 1.38e-23\n",
    "    l = c/(nu*1e6)\n",
    "    T = F*l**2 / (2* k * np.pi * (0.25*np.pi/180)**2)\n",
    "    return T"
   ]
  },
  {
   "cell_type": "code",
   "execution_count": null,
   "metadata": {},
   "outputs": [],
   "source": [
    "Sun_data = np.genfromtxt('Sun_Noise_2.txt', delimiter=';')\n",
    "frequencies_sun, T_sun = Sun_data[Sun_data[:, 0].argsort()].T\n",
    "#frequencies_sun *= 1e-6 only for Sun_Noise.txt"
   ]
  },
  {
   "cell_type": "code",
   "execution_count": null,
   "metadata": {},
   "outputs": [],
   "source": [
    "from scipy.interpolate import interp1d\n",
    "f = interp1d(frequencies_sun, T_sun, kind='linear')\n",
    "x_new = np.linspace(15.51, 1.9e4, 100000)\n",
    "\n",
    "plt.figure()\n",
    "plt.plot(frequencies_sun, T_sun, 'k.', x_new, f(x_new), 'r')\n",
    "plt.xscale('log')\n",
    "plt.show()"
   ]
  },
  {
   "cell_type": "code",
   "execution_count": null,
   "metadata": {},
   "outputs": [],
   "source": [
    "# rotate them to Local coordinates at some particular LST time\n",
    "altitude = -35.206667 # Pierre Auger Observatory\n",
    "#altitude = 52.90889 # LOFAR core\n",
    "# generate sky maps\n",
    "models = [\"ULSA_d\"]  #\"LFmap\", \"LFSM\", \"GSM\", \"GSM16\", \n",
    "frequency_range = np.linspace(30.0,408.0, 127) #127\n",
    "average_T_E = {}\n",
    "average_T_E_sun = {}\n",
    "\n",
    "for model_key in models:\n",
    "    e = model[model_key]\n",
    "    map_title = model_title[model_key]\n",
    "    T_E_temp, T_E_temp_sun = [],[]\n",
    "    for freq in frequency_range:\n",
    "        map = e.generate(freq)\n",
    "        # first generate the data dump\n",
    "        dumpE = newvisufunc.projview(map,coord=e_model_coord[model_key], return_only_data=True)\n",
    "\n",
    "        # then convert the data dump to DataFrame\n",
    "        # set full=True to have full Y axis\n",
    "        EskyMapDF = convert2SkyDF(dumpE,full=True)\n",
    "        EskyMapDF_sun = addSun(EskyMapDF, Temp=f(freq), radius=.25) #, cov=True\n",
    "        print(model_key, freq)\n",
    "        T_E_temp.append(integrateOverAngles_cos(EskyMapDF, t_min=-90, t_max=90)/integrateOverAngles_cos(EskyMapDF/EskyMapDF, t_min=-90, t_max=90))\n",
    "        T_E_temp_sun.append(integrateOverAngles_cos(EskyMapDF_sun, t_min=-90, t_max=90)/integrateOverAngles_cos(EskyMapDF/EskyMapDF, t_min=-90, t_max=90))\n",
    "        print(T_E_temp_sun[-1] - T_E_temp[-1])\n",
    "    average_T_E[model_key] = np.array(T_E_temp)\n",
    "    average_T_E_sun[model_key] = np.array(T_E_temp_sun)"
   ]
  },
  {
   "cell_type": "code",
   "execution_count": null,
   "metadata": {},
   "outputs": [],
   "source": [
    "with open(\"averageT_sun_data.pickle\", \"wb\") as fout:\n",
    "    pickle.dump([frequency_range, average_T_E, average_T_E_sun], fout)"
   ]
  },
  {
   "cell_type": "code",
   "execution_count": null,
   "metadata": {},
   "outputs": [],
   "source": [
    "with open(\"averageT_sun_data.pickle\", \"rb\") as fin:\n",
    "    frequency_range, average_T_E, average_T_E_sun = pickle.load(fin)"
   ]
  },
  {
   "cell_type": "code",
   "execution_count": null,
   "metadata": {},
   "outputs": [],
   "source": [
    "average_T_E_temp = {}\n",
    "average_T_E_sun_temp = {}"
   ]
  },
  {
   "cell_type": "code",
   "execution_count": null,
   "metadata": {},
   "outputs": [],
   "source": [
    "average_T_E_temp['LFmap'] = average_T_E['LFmap']\n",
    "average_T_E_temp['LFSM'] = average_T_E['LFSM']\n",
    "average_T_E_temp['GSM'] = average_T_E['GSM']\n",
    "average_T_E_temp['GSM16'] = average_T_E['GSM16']\n",
    "average_T_E_temp['GMOSS'] = average_T_E['GMOSS']\n",
    "average_T_E_temp['SSM'] = average_T_E['SSM']\n",
    "average_T_E_temp['ULSA'] = average_T_E['ULSA']\n",
    "\n",
    "average_T_E_sun_temp['LFmap'] = average_T_E_sun['LFmap']\n",
    "average_T_E_sun_temp['LFSM'] = average_T_E_sun['LFSM']\n",
    "average_T_E_sun_temp['GSM'] = average_T_E_sun['GSM']\n",
    "average_T_E_sun_temp['GSM16'] = average_T_E_sun['GSM16']\n",
    "average_T_E_sun_temp['GMOSS'] = average_T_E_sun['GMOSS']\n",
    "average_T_E_sun_temp['SSM'] = average_T_E_sun['SSM']\n",
    "average_T_E_sun_temp['ULSA'] = average_T_E_sun['ULSA']"
   ]
  },
  {
   "cell_type": "code",
   "execution_count": null,
   "metadata": {},
   "outputs": [],
   "source": [
    "average_T_E['LFmap'] = average_T_E_temp['LFmap']\n",
    "average_T_E['LFSM'] = average_T_E_temp['LFSM']\n",
    "average_T_E['GSM'] = average_T_E_temp['GSM']\n",
    "average_T_E['GSM16'] = average_T_E_temp['GSM16']\n",
    "average_T_E['GMOSS'] = average_T_E_temp['GMOSS']\n",
    "average_T_E['SSM'] = average_T_E_temp['SSM']\n",
    "average_T_E['ULSA'] = average_T_E_temp['ULSA']\n",
    "\n",
    "average_T_E_sun['LFmap'] = average_T_E_sun_temp['LFmap']\n",
    "average_T_E_sun['LFSM'] = average_T_E_sun_temp['LFSM']\n",
    "average_T_E_sun['GSM'] = average_T_E_sun_temp['GSM']\n",
    "average_T_E_sun['GSM16'] = average_T_E_sun_temp['GSM16']\n",
    "average_T_E_sun['GMOSS'] = average_T_E_sun_temp['GMOSS']\n",
    "average_T_E_sun['SSM'] = average_T_E_sun_temp['SSM']\n",
    "average_T_E_sun['ULSA'] = average_T_E_sun_temp['ULSA']"
   ]
  },
  {
   "cell_type": "code",
   "execution_count": null,
   "metadata": {},
   "outputs": [],
   "source": [
    "average_T_E_temp"
   ]
  },
  {
   "cell_type": "code",
   "execution_count": null,
   "metadata": {},
   "outputs": [],
   "source": [
    "average_T_E"
   ]
  },
  {
   "cell_type": "code",
   "execution_count": null,
   "metadata": {},
   "outputs": [],
   "source": [
    "average_T_E['GSM'] = average_T_E['GSM'] + 2.72548\n",
    "average_T_E['GMOSS'] = average_T_E['GMOSS'] + 2.72548\n",
    "\n",
    "average_T_E_sun['GSM'] = average_T_E_sun['GSM'] + 2.72548\n",
    "average_T_E_sun['GMOSS'] = average_T_E_sun['GMOSS'] + 2.72548"
   ]
  },
  {
   "cell_type": "code",
   "execution_count": null,
   "metadata": {},
   "outputs": [],
   "source": [
    "plt.style.use('default')\n",
    "plt.rc('text', usetex=True)\n",
    "plt.rc('font', family='serif')\n",
    "plt.rcParams['legend.title_fontsize'] = 20\n",
    "\n",
    "model_list = [\"LFmap\", \"GSM\", \"GSM16\", \"LFSM\", \"GMOSS\", \"SSM\", \"ULSA_d\"]\n",
    "Haslam_label = \"Haslam \"+str(index_lower)+r\" $< \\beta <$ \"+str(index_upper)\n",
    "colors = {\"LFmap\": \"tab:blue\", \"LFSM\": \"tab:orange\", \"GSM\": \"tab:green\", \"GSM16\": \"tab:red\", \"Haslam\": \"grey\", \"Cane\": \"k\", \"Cane2\": \"m\", 'GMOSS': 'tab:olive', 'SSM': 'lime', 'ULSA_d': 'tab:cyan'}\n",
    "linestyles = {\"LFmap\": \"solid\", \"LFSM\": \"solid\", \"GSM\": \"solid\", \"GSM16\": \"solid\", \"Haslam\": \"solid\", \"Cane\": \"dotted\", \"Cane2\": \"dotted\", 'GMOSS': 'solid', 'SSM': 'solid', 'ULSA_d': 'solid'}\n",
    "\n",
    "#Plot average local sky temperature\n",
    "fig, ax = plt.subplots(1, 1, figsize=(10,7))\n",
    "for model_key in model_list:\n",
    "    reldif = 100. * (average_T_E_sun[model_key]-average_T_E[model_key])/average_T_E[model_key]\n",
    "    ax.plot(frequency_range, reldif, label=model_title[model_key], color=colors[model_key], linestyle=linestyles[model_key])\n",
    "        \n",
    "ax.set_xlabel('Frequency / MHz', fontsize=25)\n",
    "ax.set_ylabel(r'$\\frac{\\bar{T}^\\mathrm{sun}-\\bar{T}}{\\bar{T}}$'+' /\\%', fontsize=35)\n",
    "ax.tick_params(axis='both',which='both', labelsize=20)\n",
    "ax.legend(fontsize=25, columnspacing=0.5, handlelength=1.0, borderaxespad=0.3, labelspacing=0.4, borderpad=0.2)\n",
    "ax.grid(False)\n",
    "\n",
    "fig.savefig(saveFolder+'AverageSkyTemperature/All_models_sun.png', facecolor='white', bbox_inches='tight')\n",
    "fig.savefig(saveFolder+'AverageSkyTemperature/pdf/All_models_sun.pdf', facecolor='white', bbox_inches='tight')\n",
    "fig.show()"
   ]
  },
  {
   "cell_type": "markdown",
   "metadata": {},
   "source": [
    "# Influence of the Sun for the selected radio arrays"
   ]
  },
  {
   "cell_type": "code",
   "execution_count": null,
   "metadata": {},
   "outputs": [],
   "source": [
    "model_list = [\"LFmap\", \"LFSM\", \"GSM\", \"GSM16\", \"GMOSS\", \"SSM\", 'ULSA_d'] # \"LFmap\", \"LFSM\", \"GSM\", \"GSM16\", \"HaslamL\", \"HaslamU\"\n",
    "experiments = {\"OVRO-LWA\": 37.2339} # \"RNO-G\": 72.58333, \"LOFAR_low\": 52.90889, \"LOFAR_high\": 52.90889, \"GRAND\": 42.9333, \"OVRO-LWA\": 37.2339, \"SKA-low\": -26.697, \"Auger\": -35.206667, \"IceCube\": -90.0}  # altitudes of RNO-G, LOFAR, GRANDproto, SKA-low, Auger, IceCube; sorted by altitude\n",
    "# frequency bands of RNO-G: 100-1000 MHz, LOFAR low: 30-80 MHz, LOFAR high: 110-190 MHz, GRAND: 50-200 MHz, SKA-low: 50-350 MHz, Auger: 30-80 MHz, IceCube: 100-190 MHz\n",
    "frequencies = {\"RNO-G\": np.linspace(100.0,408.0,78), \"LOFAR_low\": np.linspace(30.0,80.0,11), \"LOFAR_high\": np.linspace(110.0,190.0,21), \"GRAND\": np.linspace(50.0,200.0,26), \"OVRO-LWA\": np.linspace(30.0,80.0,11), \"SKA-low\": np.linspace(50.0,350.0,51), \"Auger\": np.linspace(30.0,80.0,11), \"IceCube\": np.linspace(70.0,350.0,41)}\n",
    "#frequencies = {\"RNO-G\": np.linspace(100.0,408.0,78), \"LOFAR_low\": np.linspace(30.0,80.0,11), \"LOFAR_high\": np.linspace(110.0,190.0,19), \"GRAND\": np.linspace(50.0,200.0,26), \"SKA-low\": np.linspace(50.0,350.0,51), \"Auger\": np.linspace(30.0,80.0,11), \"IceCube\": np.linspace(70.0,350.0,41)}\n",
    "#frequencies = {\"LOFAR_high\": np.linspace(110.0,190.0,21)}\n",
    "#frequencies = {\"RNO-G\": np.linspace(100.0,408.0,2), \"LOFAR_low\": np.linspace(30.0,80.0,2), \"LOFAR_high\": np.linspace(110.0,200.0,2), \"GRAND\": np.linspace(50.0,200.0,2), \"SKA-low\": np.linspace(50.0,350.0,2), \"Auger\": np.linspace(30.0,80.0,2), \"IceCube\": np.linspace(70.0,350.0,2)}\n",
    "hours = np.arange(0,24,2) #2\n",
    "\n",
    "\n",
    "# rotate them to Local coordinates at some particular LST time\n",
    "# generate sky maps\n",
    "average_T_L = {}\n",
    "average_T_L_sun = {}\n",
    "\n",
    "for exp in experiments:\n",
    "    average_T_L[exp] = {}\n",
    "    average_T_L_sun[exp] = {}\n",
    "    print(exp)\n",
    "    for model_key in model_list:\n",
    "        g = model[model_key]\n",
    "        map_title = model_title[model_key]\n",
    "        T_L_temp, T_L_temp_sun = [],[]\n",
    "        for count_f, freq in enumerate(frequencies[exp]):\n",
    "            T_L_temp.append([])\n",
    "            T_L_temp_sun.append([])\n",
    "            map = g.generate(freq)\n",
    "            # first generate the data dump\n",
    "            T_hour, T_sun_hour = [], []\n",
    "            for hour in hours:\n",
    "                rotAngles=[(180+(hour*15))%360,-(experiments[exp]-90)]\n",
    "                dumpL = newvisufunc.projview(map,rot=rotAngles, coord=c_model_coord[model_key], return_only_data=True, xsize=newPhi.size)\n",
    "\n",
    "                # then convert the data dump to DataFrame\n",
    "                # set full=True to have full Y axis\n",
    "                LskyMapDF = convert2SkyDF(dumpL,full=True)\n",
    "                LskyMapDF_sun = addSun_Local(LskyMapDF, Temp=f(freq), decl=.75, radius=.25)\n",
    "                print(model_key, freq)\n",
    "                T_hour.append(integrateOverAngles_cos(LskyMapDF, t_min=15, t_max=90)/integrateOverAngles_cos(LskyMapDF/LskyMapDF, t_min=15, t_max=90))\n",
    "                T_sun_hour.append(integrateOverAngles_cos(LskyMapDF_sun, t_min=15, t_max=90)/integrateOverAngles_cos(LskyMapDF/LskyMapDF, t_min=15, t_max=90))\n",
    "            T_L_temp[count_f].append(T_hour)\n",
    "            T_L_temp_sun[count_f].append(T_sun_hour)\n",
    "            #print(T_L_temp_sun[-1] - T_L_temp[-1])\n",
    "        average_T_L[exp][model_key] = np.array(T_L_temp)\n",
    "        average_T_L_sun[exp][model_key] = np.array(T_L_temp_sun)"
   ]
  },
  {
   "cell_type": "code",
   "execution_count": null,
   "metadata": {},
   "outputs": [],
   "source": [
    "with open(\"averageT_L_sun_data.pickle\", \"wb\") as fout:\n",
    "    pickle.dump([model_list, experiments, frequencies, hours, average_T_L, average_T_L_sun], fout)"
   ]
  },
  {
   "cell_type": "code",
   "execution_count": null,
   "metadata": {},
   "outputs": [],
   "source": [
    "with open(\"averageT_L_sun_data.pickle\", \"rb\") as fin:\n",
    "    model_list, experiments, frequencies, hours, average_T_L, average_T_L_sun = pickle.load(fin)"
   ]
  },
  {
   "cell_type": "code",
   "execution_count": null,
   "metadata": {},
   "outputs": [],
   "source": [
    "with open(\"averageT_L_sun_data_2.pickle\", \"wb\") as fout:\n",
    "    pickle.dump([model_list, experiments, frequencies, hours, average_T_L, average_T_L_sun], fout)"
   ]
  },
  {
   "cell_type": "code",
   "execution_count": null,
   "metadata": {},
   "outputs": [],
   "source": [
    "with open(\"averageT_L_sun_data_2.pickle\", \"rb\") as fin:\n",
    "    model_list, experiments, frequencies, hours, average_T_L, average_T_L_sun = pickle.load(fin)"
   ]
  },
  {
   "cell_type": "code",
   "execution_count": null,
   "metadata": {},
   "outputs": [],
   "source": [
    "average_T_L_temp = average_T_L\n",
    "average_T_L_sun_temp = average_T_L_sun"
   ]
  },
  {
   "cell_type": "code",
   "execution_count": null,
   "metadata": {},
   "outputs": [],
   "source": [
    "model_list_temp = [\"LFmap\", \"LFSM\", \"GSM\", \"GSM16\", \"GMOSS\", \"SSM\", \"ULSA\"] #, \"SSM\", \"ULSA\"\n",
    "average_T_L_temp = {}\n",
    "average_T_L_sun_temp = {}\n",
    "for exp in experiments:\n",
    "    average_T_L_temp[exp] = {}\n",
    "    average_T_L_sun_temp[exp] = {}\n",
    "    for model_key in model_list_temp:\n",
    "        average_T_L_temp[exp][model_key] = average_T_L[exp][model_key]\n",
    "        average_T_L_sun_temp[exp][model_key] = average_T_L_sun[exp][model_key]"
   ]
  },
  {
   "cell_type": "code",
   "execution_count": null,
   "metadata": {},
   "outputs": [],
   "source": [
    "model_list_temp = [\"LFmap\", \"LFSM\", \"GSM\", \"GSM16\", \"GMOSS\", \"SSM\", \"ULSA_d\"]\n",
    "experiments = {\"RNO-G\": 72.58333, \"LOFAR_low\": 52.90889, \"LOFAR_high\": 52.90889, \"GRAND\": 42.9333, \"SKA-low\": -26.697, \"Auger\": -35.206667, \"IceCube\": -90.0}\n",
    "for exp in experiments:\n",
    "    average_T_L[exp] = {}\n",
    "    average_T_L_sun[exp] = {}\n",
    "    for model_key in model_list_temp:\n",
    "        average_T_L[exp][model_key] = average_T_L_temp[exp][model_key]\n",
    "        average_T_L_sun[exp][model_key] = average_T_L_sun_temp[exp][model_key]"
   ]
  },
  {
   "cell_type": "code",
   "execution_count": null,
   "metadata": {},
   "outputs": [],
   "source": [
    "model_list = [\"LFmap\", \"LFSM\", \"GSM\", \"GSM16\", 'GMOSS', 'SSM', 'ULSA_d'] # \"HaslamL\", \"HaslamU\""
   ]
  },
  {
   "cell_type": "code",
   "execution_count": null,
   "metadata": {},
   "outputs": [],
   "source": [
    "average_T_L_sun"
   ]
  },
  {
   "cell_type": "code",
   "execution_count": null,
   "metadata": {},
   "outputs": [],
   "source": [
    "average_T_L_temp"
   ]
  },
  {
   "cell_type": "code",
   "execution_count": null,
   "metadata": {},
   "outputs": [],
   "source": [
    "model_list_cmb = [\"GSM\", \"GMOSS\"]\n",
    "experiments = {\"RNO-G\": 72.58333, \"LOFAR_low\": 52.90889, \"LOFAR_high\": 52.90889, \"GRAND\": 42.9333, \"OVRO-LWA\": 37.2339, \"SKA-low\": -26.697, \"Auger\": -35.206667, \"IceCube\": -90.0}\n",
    "for exp in experiments:\n",
    "    for model_key in model_list_cmb:\n",
    "        average_T_L[exp][model_key] = average_T_L[exp][model_key] + 2.72548\n",
    "        average_T_L_sun[exp][model_key] = average_T_L_sun[exp][model_key] + 2.72548"
   ]
  },
  {
   "cell_type": "code",
   "execution_count": null,
   "metadata": {},
   "outputs": [],
   "source": [
    "from matplotlib.ticker import StrMethodFormatter\n",
    "plt.style.use('default')\n",
    "plt.rc('text', usetex=True)\n",
    "plt.rc('font', family='serif')\n",
    "plt.rcParams['legend.title_fontsize'] = 20\n",
    "\n",
    "experiments = {\"GRAND\": 42.9333, \"Auger\": -35.206667, \"LOFAR_low\": 52.90889, \"LOFAR_high\": 52.90889, \"RNO-G\": 72.58333, \"SKA-low\": -26.697, \"IceCube\": -90.0, \"OVRO-LWA\": 37.2339}\n",
    "ax = {\"RNO-G\": 1, \"LOFAR_low\": 0, \"LOFAR_high\": 0, \"GRAND\": 0, \"SKA-low\": 1, \"Auger\": 0, \"IceCube\": 1, \"OVRO-LWA\": 0}\n",
    "colors = {\"RNO-G\": 'tab:orange', \"LOFAR_low\": 'tab:red', \"LOFAR_high\": 'tab:red', \"GRAND\": 'tab:cyan', \"SKA-low\": 'tab:red', \"Auger\": 'tab:green', \"IceCube\": 'tab:brown', \"OVRO-LWA\": 'yellow'}\n",
    "linestyles = {\"RNO-G\": '-', \"LOFAR_low\": '-.', \"LOFAR_high\": ':', \"GRAND\": '-', \"SKA-low\": ':', \"Auger\": '--', \"IceCube\": '-.', \"OVRO-LWA\": 'solid'}\n",
    "labels = {\"RNO-G\": 'RNO-G', \"LOFAR_low\": 'LOFAR low band', \"LOFAR_high\": 'LOFAR high band', \"GRAND\": 'GRAND', \"SKA-low\": 'SKA-low', \"Auger\": 'Auger', \"IceCube\": 'IceCube', \"OVRO-LWA\": \"OVRO-LWA\"}\n",
    "zorders = {\"RNO-G\": 2, \"LOFAR_low\": 3, \"LOFAR_high\": 2, \"GRAND\": 0, \"SKA-low\": 0, \"Auger\": 1, \"IceCube\": 1, \"OVRO-LWA\": 4}\n",
    "fig, axs = plt.subplots(2, 1, figsize=(7,10), constrained_layout = True) #sharex=True ; for subplots(1,2) use figsize (14,5)\n",
    "\n",
    "for exp in experiments:\n",
    "    temp_T_L, temp_T_L_sun = [],[]\n",
    "    for model_key in model_list:\n",
    "        temp_T_L.append(np.squeeze(np.mean(average_T_L[exp][model_key], axis=-1)))\n",
    "        temp_T_L_sun.append(np.squeeze(np.mean(average_T_L_sun[exp][model_key], axis=-1)))\n",
    "    temp_T_L_max = np.asarray(np.max(temp_T_L, axis=0))\n",
    "    temp_T_L_min = np.asarray(np.min(temp_T_L, axis=0))\n",
    "    temp_T_L = np.asarray(np.mean(temp_T_L, axis=0))\n",
    "    temp_T_L_sun_max = np.asarray(np.max(temp_T_L_sun, axis=0))\n",
    "    temp_T_L_sun_min = np.asarray(np.min(temp_T_L_sun, axis=0))\n",
    "    temp_T_L_sun = np.asarray(np.mean(temp_T_L_sun, axis=0))\n",
    "    reldif = 100. * (temp_T_L_sun-temp_T_L)/temp_T_L\n",
    "    reldif_max = 100. * (temp_T_L_sun_max-temp_T_L_max)/temp_T_L_max\n",
    "    reldif_min = 100. * (temp_T_L_sun_min-temp_T_L_min)/temp_T_L_min\n",
    "    axs[ax[exp]].plot(frequencies[exp], reldif, color=colors[exp], linestyle=linestyles[exp], label=labels[exp], zorder=zorders[exp])\n",
    "    axs[ax[exp]].fill_between(frequencies[exp], reldif_max, reldif_min, color=colors[exp], zorder=zorders[exp], alpha=0.1)\n",
    "\n",
    "#axs[0].set_xlabel('Frequency / MHz', fontsize=20)\n",
    "axs[1].set_xlabel('Frequency / MHz', fontsize=20)\n",
    "axs[0].set_ylabel(r'$\\frac{\\bar{T}^\\mathrm{sun}_\\mathrm{local}-\\bar{T}_\\mathrm{local}}{\\bar{T}_\\mathrm{local}}$', fontsize=28, labelpad=14) #+r'\\fontsize{19}{3em}\\selectfont{}{/\\%}'\n",
    "axs[1].set_ylabel(r'$\\frac{\\bar{T}^\\mathrm{sun}_\\mathrm{local}-\\bar{T}_\\mathrm{local}}{\\bar{T}_\\mathrm{local}}$', fontsize=28, labelpad=6) #+r'\\fontsize{19}{3em}\\selectfont{}{/\\%}'\n",
    "#axs[1].set_ylabel(r'$\\frac{T^\\mathrm{sun}_\\mathrm{sky, average}-T_\\mathrm{sky, average}}{T_\\mathrm{sky, average}}$'+' /\\%', fontsize=24)\n",
    "#axs[1].set_xlim(xmin=30, xmax=408)\n",
    "axs[0].tick_params(axis='both',which='both', labelsize=16)\n",
    "axs[1].tick_params(axis='both',which='both', labelsize=16)\n",
    "axs[0].yaxis.set_major_formatter(StrMethodFormatter('{x}\\%'))\n",
    "axs[1].yaxis.set_major_formatter(StrMethodFormatter('{x}\\%'))\n",
    "#axs[0].set_xscale('log')\n",
    "#axs[1].set_xscale('log')\n",
    "axs[0].legend(fontsize=20, columnspacing=0.5, handlelength=2.0, borderaxespad=0.3, labelspacing=0.4, borderpad=0.2) # framealpha=0.5\n",
    "axs[1].legend(fontsize=20, loc=2, columnspacing=0.5, handlelength=2.0, borderaxespad=0.3, labelspacing=0.4, borderpad=0.2)\n",
    "#axs[0].grid(True)\n",
    "#axs[1].grid(True)\n",
    "\n",
    "fig.savefig(saveFolder+'AverageSkyTemperature/All_models_sun_Local.png', facecolor='white', bbox_inches='tight')\n",
    "fig.savefig(saveFolder+'AverageSkyTemperature/pdf/All_models_Local_sun.pdf', facecolor='white', bbox_inches='tight')\n",
    "fig.show()"
   ]
  },
  {
   "cell_type": "markdown",
   "metadata": {},
   "source": [
    "# Convolution of the Antenna pattern with the sky temperature"
   ]
  },
  {
   "cell_type": "markdown",
   "metadata": {},
   "source": [
    "Import some modules."
   ]
  },
  {
   "cell_type": "code",
   "execution_count": null,
   "metadata": {},
   "outputs": [],
   "source": [
    "from scipy import constants\n",
    "from scipy.integrate import simps"
   ]
  },
  {
   "cell_type": "markdown",
   "metadata": {},
   "source": [
    "The simple function <i>foldSkyWithAntenna</i> will multiply the squared antenna pattern with the sky temperature. The antenna pattern will be transfomed to healpy convention and further it will be interpolated at the angles of the sky temperature map."
   ]
  },
  {
   "cell_type": "code",
   "execution_count": null,
   "metadata": {},
   "outputs": [],
   "source": [
    "#skyMapDF = skyMapDF_LFSS\n",
    "def foldSkyWithAntenna(antenna, frequency=None,orientation=None,skyMapDF=None):\n",
    "    quantity = 'absHeight'\n",
    "    p = skyMapDF.index.values.astype(float)\n",
    "    t = skyMapDF.columns.values.astype(float)\n",
    "    Amp = antenna.get(quantity=quantity, frequency=frequency, newTheta=t, newPhi=p, kind='cubic', changeConvention=True,\n",
    "                      orientation=orientation)\n",
    "    foldedAntennaSkyMap = Amp**2*skyMapDF\n",
    "    return foldedAntennaSkyMap"
   ]
  },
  {
   "cell_type": "markdown",
   "metadata": {},
   "source": [
    "First we need to generate sky temperature maps at some frequency F."
   ]
  },
  {
   "cell_type": "code",
   "execution_count": null,
   "metadata": {},
   "outputs": [],
   "source": [
    "# first generate maps at some frequeny\n",
    "map_1 = g_1.generate(frequency)\n",
    "map_2 = g_2.generate(frequency)"
   ]
  },
  {
   "cell_type": "markdown",
   "metadata": {},
   "source": [
    "Set the altitude and local sidereal time at the local position where the antenna is (PAO)."
   ]
  },
  {
   "cell_type": "code",
   "execution_count": null,
   "metadata": {},
   "outputs": [],
   "source": [
    "# rotate them to Local coordinates at some particular LST time\n",
    "LSTtime = 18\n",
    "altitude = -35.206667"
   ]
  },
  {
   "cell_type": "markdown",
   "metadata": {},
   "source": [
    "Rotated and dump the data."
   ]
  },
  {
   "cell_type": "code",
   "execution_count": null,
   "metadata": {},
   "outputs": [],
   "source": [
    "rotAngles=[(180+(LSTtime*15))%360,-(altitude-90)]\n",
    "dump_1 = newvisufunc.projview(map_1,rot=rotAngles, coord=c_coord_1,return_only_data=True,xsize=1439)\n",
    "dump_2 = newvisufunc.projview(map_2,rot=rotAngles, coord=c_coord_2, return_only_data=True,xsize=1439)"
   ]
  },
  {
   "cell_type": "markdown",
   "metadata": {},
   "source": [
    "Now, convert the data dump to the DataFrame and then use the folding function. We can do this in one step by nesting the functions."
   ]
  },
  {
   "cell_type": "code",
   "execution_count": null,
   "metadata": {},
   "outputs": [],
   "source": [
    "foldedAntennaSkyMap_1 = foldSkyWithAntenna(antenna, frequency=frequency, orientation='EW', skyMapDF=convert2SkyDF(dump_1,full=False))\n",
    "foldedAntennaSkyMap_2 = foldSkyWithAntenna(antenna, frequency=frequency, orientation='EW', skyMapDF=convert2SkyDF(dump_2,full=False))"
   ]
  },
  {
   "cell_type": "code",
   "execution_count": null,
   "metadata": {},
   "outputs": [],
   "source": [
    "orientation='EW'"
   ]
  },
  {
   "cell_type": "markdown",
   "metadata": {},
   "source": [
    "## Plot of the \"antenna-sky temperature\" convolution at 18:00 LST\n",
    "Plot the results of the convolution and compare them by dividing one by the other one."
   ]
  },
  {
   "cell_type": "code",
   "execution_count": null,
   "metadata": {},
   "outputs": [],
   "source": [
    "P, T = np.meshgrid(foldedAntennaSkyMap_1.index.values.astype(float), foldedAntennaSkyMap_1.columns.values.astype(float))\n",
    "\n",
    "save=False\n",
    "save1= saveFolder+\"foldedAntennaSkyMap_\"+map_1_title+\"_\"+orientation+\"_LST_\"+str(LSTtime)\n",
    "save2= saveFolder+\"foldedAntennaSkyMap_\"+map_2_title+\"_\"+orientation+\"_LST_\"+str(LSTtime)\n",
    "save3= saveFolder+\"Ratio_foldedAntennaSkyMap_\"+map_1_title+\"-foldedAntennaSkyMap_\"+map_2_title+\"_\"+ orientation+\"_LST_\"+str(LSTtime)\n",
    "                                                                                                    \n",
    "# log here!\n",
    "myPlots.plot3dnewV3(P, T, np.log10(foldedAntennaSkyMap_1.values.T),\n",
    "                    slices=True, ymax=90.5, xMajorLocator=30, yMajorLocator=15, figureWidth=12, figureHeight=8,\n",
    "                    xlabel='azimuth$\\degree$', ylabel='altitude$\\degree$', cbarLabel='Temperature log[K]', extend='both',\n",
    "                    mainTitle=map_1_title+': '+orientation+\" orientation at frequency \"+str(frequency)+\\\n",
    "                    ' MHz at '+str(LSTtime)+' LST\\n Squared Antenna pattern convoluted with sky temperature',Cmin=3.25, Cmax=5.3,\n",
    "                    save=save1,close=close)\n",
    "\n",
    "myPlots.plot3dnewV3(P, T, np.log10(foldedAntennaSkyMap_2.values.T),\n",
    "                    slices=True, ymax=90.5, xMajorLocator=30, yMajorLocator=15, figureWidth=12, figureHeight=8,\n",
    "                    xlabel='azimuth$\\degree$', ylabel='altitude$\\degree$', cbarLabel='Temperature log[K]', extend='both',\n",
    "                    mainTitle=map_2_title+': '+orientation+\" orientation at frequency \"+str(frequency)+\\\n",
    "                    ' MHz at '+str(LSTtime)+' LST\\n Squared Antenna pattern convoluted with sky temperature'\n",
    "                    ,Cmin=3.25, Cmax=5.3,\n",
    "                    save=save2,close=close)\n",
    "\n",
    "ratio= foldedAntennaSkyMap_1.values.T/foldedAntennaSkyMap_2.values.T\n",
    "myPlots.plot3dnewV3(P, T, ratio,\n",
    "                    slices=True, ymax=90.5, xMajorLocator=30, yMajorLocator=15, figureWidth=12, figureHeight=8,\n",
    "                    xlabel='azimuth$\\degree$', ylabel='altitude$\\degree$', cbarLabel=r'$\\frac{\\mathrm{%s}}{\\mathrm{%s}}$'%(map_1_title, map_2_title),\n",
    "                    mainTitle='Ratio '+map_1_title+' and '+map_2_title+': '+orientation+\" orientation at frequency \"+str(frequency)+\\\n",
    "                    ' MHz at '+str(LSTtime)+' LST\\n Squared Antenna pattern convoluted with sky temperature',\n",
    "                    Cmin=0,Cmax=2,extend='max', save=save3,close=close)"
   ]
  },
  {
   "cell_type": "markdown",
   "metadata": {},
   "source": [
    "## \"Antenna-sky temperature\" convolution at 02:00 LST\n",
    "Same example as before but done for 2:00 LST."
   ]
  },
  {
   "cell_type": "code",
   "execution_count": null,
   "metadata": {},
   "outputs": [],
   "source": [
    "LSTtime=2"
   ]
  },
  {
   "cell_type": "code",
   "execution_count": null,
   "metadata": {},
   "outputs": [],
   "source": [
    "rotAngles=[(180+(LSTtime*15))%360,-(altitude-90)]\n",
    "dump_1 = newvisufunc.projview(map_1,rot=rotAngles, coord=c_coord_1,return_only_data=True, xsize=1439)\n",
    "dump_2 = newvisufunc.projview(map_2,rot=rotAngles, coord=c_coord_2, return_only_data=True, xsize=1439)"
   ]
  },
  {
   "cell_type": "code",
   "execution_count": null,
   "metadata": {},
   "outputs": [],
   "source": [
    "# first convert the data dump to DF and then use the folding function\n",
    "foldedAntennaSkyMap_1 = foldSkyWithAntenna(antenna, frequency=frequency, orientation='EW',skyMapDF=convert2SkyDF(dump_1,full=False))\n",
    "foldedAntennaSkyMap_2 = foldSkyWithAntenna(antenna, frequency=frequency, orientation='EW',skyMapDF=convert2SkyDF(dump_2,full=False))\n",
    "orientation='EW'"
   ]
  },
  {
   "cell_type": "code",
   "execution_count": null,
   "metadata": {},
   "outputs": [],
   "source": [
    "P, T = np.meshgrid(foldedAntennaSkyMap_1.index.values.astype(float),foldedAntennaSkyMap_1.columns.values.astype(float))\n",
    "\n",
    "save=False\n",
    "save1= saveFolder+\"foldedAntennaSkyMap_\"+map_1_title+\"_\"+orientation+\"_LST_\"+str(LSTtime)\n",
    "save2= saveFolder+\"foldedAntennaSkyMap_\"+map_2_title+\"_\"+orientation+\"_LST_\"+str(LSTtime)\n",
    "save3= saveFolder+\"Ratio_foldedAntennaSkyMap_\"+map_1_title+\"-foldedAntennaSkyMap_\"+map_2_title+\"_\"+ orientation+\"_LST_\"+str(LSTtime)\n",
    "                                                                                                    \n",
    "# log here!\n",
    "myPlots.plot3dnewV3(P, T, np.log10(foldedAntennaSkyMap_1.values.T),\n",
    "                    slices=True, ymax=90.5, xMajorLocator=30,yMajorLocator=15,figureWidth=12,figureHeight=8,\n",
    "                    xlabel='azimuth$\\degree$', ylabel='altitude$\\degree$', cbarLabel='Temperature log[K]', extend='both',\n",
    "                    mainTitle=map_1_title+': '+orientation+\" orientation at frequency \"+str(frequency)+\\\n",
    "                    ' MHz at '+str(LSTtime)+' LST\\n Squared Antenna pattern convoluted with sky temperature', Cmin=3.25, Cmax=5.3,\n",
    "                    save=save1,close=close)\n",
    "\n",
    "myPlots.plot3dnewV3(P, T, np.log10(foldedAntennaSkyMap_2.values.T),\n",
    "                    slices=True, ymax=90.5, xMajorLocator=30, yMajorLocator=15, figureWidth=12, figureHeight=8,\n",
    "                    xlabel='azimuth$\\degree$', ylabel='altitude$\\degree$', cbarLabel='Temperature log[K]', extend='both',\n",
    "                    mainTitle= map_2_title+': '+orientation+\" orientation at frequency \"+str(frequency)+\\\n",
    "                    ' MHz at '+str(LSTtime)+' LST\\n Squared Antenna pattern convoluted with sky temperature',\n",
    "                    Cmin=3.25, Cmax=5.3,\n",
    "                    save=save2,close=close)\n",
    "\n",
    "ratio=foldedAntennaSkyMap_1.values.T/foldedAntennaSkyMap_2.values.T\n",
    "myPlots.plot3dnewV3(P, T, ratio,\n",
    "                    slices=True, ymax=90.5, xMajorLocator=30, yMajorLocator=15, figureWidth=12, figureHeight=8,\n",
    "                    xlabel='azimuth$\\degree$', ylabel='altitude$\\degree$', cbarLabel=r'$\\frac{\\mathrm{%s}}{\\mathrm{%s}}$'%(map_1_title, map_2_title),\n",
    "                    mainTitle='Ratio '+map_1_title+' and '+map_2_title+': '+orientation+\" orientation at frequency \"+str(frequency)+\\\n",
    "                    ' MHz at '+str(LSTtime)+' LST\\n Squared Antenna pattern convoluted with sky temperature',\n",
    "                    Cmin=0, Cmax=2, extend='max', save=save3, close=close)"
   ]
  },
  {
   "cell_type": "markdown",
   "metadata": {},
   "source": [
    "## Integral over the angles\n",
    "What is of interest for the calibration is the integral over the angles: <br>\n",
    "$\\int_{\\Omega} T_{sky}(t,f,\\theta,\\phi) |H(f,\\theta,\\phi)|^{2} d\\Omega$"
   ]
  },
  {
   "cell_type": "markdown",
   "metadata": {},
   "source": [
    "Define a function for the integration <i>integrateOverAngles</i>"
   ]
  },
  {
   "cell_type": "code",
   "execution_count": null,
   "metadata": {},
   "outputs": [],
   "source": [
    "# integrate the folded sky map over the angles\n",
    "def integrateOverAngles(foldedAntennaSkyMap):\n",
    "    p = np.deg2rad(foldedAntennaSkyMap.index.values.astype(float))\n",
    "    t = np.deg2rad(foldedAntennaSkyMap.columns.values.astype(float))\n",
    "    T, P = np.meshgrid(t, p)\n",
    "    angePrefactor=np.sin(T[:,::-1])\n",
    "    integratedOverAngles=simps(simps(foldedAntennaSkyMap*angePrefactor,t),p)\n",
    "    return integratedOverAngles"
   ]
  },
  {
   "cell_type": "markdown",
   "metadata": {},
   "source": [
    "As was showed before, first generate the rotated maps, dump the result, convert to the DataFrame and finally fold the antenna with the sky temperature maps."
   ]
  },
  {
   "cell_type": "code",
   "execution_count": null,
   "metadata": {},
   "outputs": [],
   "source": [
    "LSTtime=18\n",
    "rotAngles = [(180+(LSTtime*15))%360,-(altitude-90)]\n",
    "dump_1 = newvisufunc.projview(map_1, rot=rotAngles, coord=c_coord_1, return_only_data=True, xsize=1439)\n",
    "dump_2 = newvisufunc.projview(map_2, rot=rotAngles, coord=c_coord_2, return_only_data=True, xsize=1439)\n",
    "foldedAntennaSkyMap_1 = foldSkyWithAntenna(antenna, frequency=frequency, orientation='EW', skyMapDF=convert2SkyDF(dump_1,full=False))\n",
    "foldedAntennaSkyMap_2 = foldSkyWithAntenna(antenna, frequency=frequency, orientation='EW', skyMapDF=convert2SkyDF(dump_2,full=False))"
   ]
  },
  {
   "cell_type": "markdown",
   "metadata": {},
   "source": [
    "Once we have the convoluted maps we can integrate them."
   ]
  },
  {
   "cell_type": "code",
   "execution_count": null,
   "metadata": {},
   "outputs": [],
   "source": [
    "angle_integrated_1 = integrateOverAngles(foldedAntennaSkyMap_1)\n",
    "angle_integrated_2 = integrateOverAngles(foldedAntennaSkyMap_2)"
   ]
  },
  {
   "cell_type": "markdown",
   "metadata": {},
   "source": [
    "Print the values and their ratio."
   ]
  },
  {
   "cell_type": "code",
   "execution_count": null,
   "metadata": {},
   "outputs": [],
   "source": [
    "print(angle_integrated_1)\n",
    "print(angle_integrated_2)\n",
    "print('Ratio: ',angle_integrated_1/angle_integrated_2)"
   ]
  },
  {
   "cell_type": "markdown",
   "metadata": {},
   "source": [
    "Try this for different LST, for example 2:00"
   ]
  },
  {
   "cell_type": "code",
   "execution_count": null,
   "metadata": {},
   "outputs": [],
   "source": [
    "LSTtime=2\n",
    "rotAngles=[(180+(LSTtime*15))%360,-(altitude-90)]\n",
    "dump_1 = newvisufunc.projview(map_1,rot=rotAngles, coord=c_coord_1, return_only_data=True,xsize=1439)\n",
    "dump_2 = newvisufunc.projview(map_2,rot=rotAngles, coord=c_coord_2, return_only_data=True,xsize=1439)\n",
    "foldedAntennaSkyMap_1 = foldSkyWithAntenna(antenna, frequency=45, orientation='EW', skyMapDF=convert2SkyDF(dump_1,full=False))\n",
    "foldedAntennaSkyMap_2 = foldSkyWithAntenna(antenna, frequency=45, orientation='EW', skyMapDF=convert2SkyDF(dump_2,full=False))"
   ]
  },
  {
   "cell_type": "code",
   "execution_count": null,
   "metadata": {},
   "outputs": [],
   "source": [
    "angle_integrated_1 = integrateOverAngles(foldedAntennaSkyMap_1)\n",
    "angle_integrated_2 = integrateOverAngles(foldedAntennaSkyMap_2)\n",
    "print(angle_integrated_1)\n",
    "print(angle_integrated_2)\n",
    "print('Ratio: ',angle_integrated_1/angle_integrated_2)"
   ]
  },
  {
   "cell_type": "markdown",
   "metadata": {},
   "source": [
    "# Power and Power spectral density calculation\n",
    "Once we have the integrated antenna-sky temperature term it is easy to calculate the power spectral density. "
   ]
  },
  {
   "cell_type": "markdown",
   "metadata": {},
   "source": [
    "The power spectrum density is therefore: <br>\n",
    "\n",
    " \\begin{equation*} \n",
    "\\mathscr{P}_{sky}(t,f) = \\frac{k_{b}}{c^{2}} f^{2} \\int_{\\Omega} T_{sky}(t,f,\\theta,\\phi) \\frac{|H(f,\\theta,\\phi)|^{2}Z_{0}}{R_{r}} d\\Omega           \\end{equation*} <br>\n",
    "\n",
    "where <br>\n",
    " \\begin{equation*}\n",
    " <|H(f,\\theta,\\phi)|^{2}> = \\frac{1}{2}(|J_{\\theta}|^2+|J_{\\phi}|^2|)\n",
    "\\end{equation*} <br>\n",
    "\n",
    "The term <br>\n",
    "\n",
    " \\begin{equation*}\n",
    "\\int_{\\Omega} T_{sky}(t,f,\\theta,\\phi) |H(f,\\theta,\\phi)|^{2}  d \\Omega\n",
    "\\end{equation*} <br>\n",
    "\n",
    "is the integral of antenna-sky temperature that was calculated before."
   ]
  },
  {
   "cell_type": "markdown",
   "metadata": {},
   "source": [
    "To get the Power we need to just integrate the power spectrum density over the frequency. <br>\n",
    "\n",
    " \\begin{equation*}\n",
    "P_{sky}(t,f) = \\int_{f} \\mathscr{P}_{sky}(t,f) df\n",
    "\\end{equation*} <br>\n",
    "\n",
    "Thus, the full equation for the Sky Power Radio Emmision is: <br>\n",
    "\n",
    " \\begin{equation*}\n",
    " P_{sky}(t,f) = \\frac{k_{b}}{c^{2}} \\int_{f} f^{2} \\int_{\\Omega} T_{sky}(t,f,\\theta,\\phi) \\frac{|H(f,\\theta,\\phi)|^{2}Z_{0}}{R_{r}} df d\\Omega  \n",
    "\\end{equation*} <br>\n",
    "\n",
    "where $Z_0$ is the vacuum impedance, $R_r$ is the antenna impedance, $k_b$ the Boltzmann constant and $c$ is the speed of light."
   ]
  },
  {
   "cell_type": "markdown",
   "metadata": {},
   "source": [
    "***"
   ]
  },
  {
   "cell_type": "markdown",
   "metadata": {},
   "source": [
    "<p style='text-align: justify;'>\n",
    "In the following cell are all necessery functions for the power calculation. Each of them was presented and described previously. The only new function is <i>simulateGalacticModulationCurve</i> that is calculating the power spectrum density for the chose frequency and LST. By default a DataFrame for frequencies from 30 to 80 MHz over the whole sidereal day is generated. The default frequency and LST step is 1.\n",
    "</p>"
   ]
  },
  {
   "cell_type": "code",
   "execution_count": null,
   "metadata": {},
   "outputs": [],
   "source": [
    "# this function helps to convert the data dump from newvisufunc.projview() to DF\n",
    "def convert2SkyDF(data_dump,full=False):\n",
    "    def DFtemplateCreator(xs,ys,yName=None):\n",
    "        colList = [str(x) for x in xs]\n",
    "        nan_init = np.empty((len(xs),len(ys),))\n",
    "        nan_init[:]=np.nan\n",
    "        templateDF = pd.DataFrame(nan_init.T, columns = colList)\n",
    "        templateDF.insert(0,yName,ys)\n",
    "        templateDF = templateDF.set_index(yName)\n",
    "        return templateDF\n",
    "    longitude,latitude,grid_map = data_dump\n",
    "    latitudeDeg = np.rad2deg(latitude)\n",
    "    longitudeDeg = np.rad2deg(longitude)\n",
    "    skyMapDF = DFtemplateCreator(latitudeDeg,longitudeDeg,yName=None)\n",
    "    skyMapDF.iloc[:,:] = grid_map.T\n",
    "    if full is False:\n",
    "        skyMapDF = skyMapDF.iloc[:,np.where(skyMapDF.columns.astype(float) >=0)[0].tolist()]\n",
    "    skyMapDF=skyMapDF.sort_index()\n",
    "    return skyMapDF\n",
    "\n",
    "def DFtemplateCreator(xs,ys,yName=None):\n",
    "    colList = [str(x) for x in xs]\n",
    "    nan_init = np.empty((len(xs),len(ys),))\n",
    "    nan_init[:]=np.nan\n",
    "    templateDF = pd.DataFrame(nan_init.T, columns = colList)\n",
    "    templateDF.insert(0,yName,ys)\n",
    "    templateDF = templateDF.set_index(yName)\n",
    "    return templateDF\n",
    "\n",
    "def simulateGalacticModulationCurve(antennaClass=None, skyMapClass=None, startFrequency=30.0,endFrequency=80.0,frequencySpacing=2.0,\n",
    "                                    startLST=0,endLST=24,LSTspacing=2, coord=['C'],\n",
    "                                    orientation=None,returnOnlyIntegratedAngle=False, impedanceFile=None):\n",
    "    Z0 = constants.physical_constants[\"characteristic impedance of vacuum\"][0]\n",
    "    frequencies = np.arange(startFrequency,endFrequency+frequencySpacing,frequencySpacing)\n",
    "    LSTtimes = np.arange(startLST,endLST,LSTspacing)\n",
    "    if impedanceFile is not None:\n",
    "        impedanceData = np.loadtxt(impedanceFile)\n",
    "        impedanceFunction = interp1d(impedanceData[0],impedanceData[1])\n",
    "    else:\n",
    "        print('No impedance file! Impedance set to 1')\n",
    "    if antennaClass == None:\n",
    "        print('Pass the antenna class please.')\n",
    "        return None\n",
    "    if skyMapClass == None:\n",
    "        print('Pass the sky map class please.')\n",
    "        return None\n",
    "    if orientation == None:\n",
    "        print('Orientation? EW or NS?')\n",
    "        return None\n",
    "    altitude = -35.206667\n",
    "    inc = 0.1\n",
    "    angle_integratedList=[]\n",
    "    powerSpectrumDensityList=[]\n",
    "    constantFactor = (2*constants.k/constants.c**2)*Z0\n",
    "    for LSTtime in tqdm(LSTtimes):\n",
    "        angle_integratedList_at_freq_F=[]\n",
    "        powerSpectrumDensityList_at_freq_F=[]\n",
    "        for frequency in frequencies:\n",
    "            if impedanceFile is not None:\n",
    "                freqDepPrefactor = ((frequency*1e+6)**2)/impedanceFunction(frequency)\n",
    "            else:\n",
    "                freqDepPrefactor = (frequency*1e+6)**2\n",
    "            #print('I AM AT FREQUENCY: '+str(frequency)+' Mhz.')\n",
    "            skyMap = skyMapClass.generate(frequency)\n",
    "            rotAngles=[(180+(LSTtime*15))%360,-(altitude-90)]\n",
    "            # xsize=1439 will give angle spacing of 0.25 degrees\n",
    "            dump = newvisufunc.projview(skyMap,rot=rotAngles, coord=coord, return_only_data=True,xsize=1439)\n",
    "            foldedAntennaSkyMap = foldSkyWithAntenna(antennaClass, frequency=frequency, orientation=orientation, skyMapDF=convert2SkyDF(dump, full=False))\n",
    "            angle_integrated = integrateOverAngles(foldedAntennaSkyMap)\n",
    "            angle_integratedList_at_freq_F.append(angle_integrated)\n",
    "            # power spectrum density\n",
    "            powerSpectrumDensity = constantFactor*freqDepPrefactor*angle_integrated\n",
    "            powerSpectrumDensityList_at_freq_F.append(powerSpectrumDensity)\n",
    "        angle_integratedList.append(np.asarray(angle_integratedList_at_freq_F))\n",
    "        powerSpectrumDensityList.append(np.asarray(powerSpectrumDensityList_at_freq_F))\n",
    "    if returnOnlyIntegratedAngle == True:\n",
    "        angle_integratedDF = DFtemplateCreator(frequencies,LSTtimes,yName=None)\n",
    "        angle_integratedDF.iloc[:,:] = np.asarray(angle_integratedList)\n",
    "        return angle_integratedDF\n",
    "    else:\n",
    "        powerSpectrumDensityDF = DFtemplateCreator(frequencies,LSTtimes,yName=None)\n",
    "        powerSpectrumDensityDF.iloc[:,:]= np.asarray(powerSpectrumDensityList)\n",
    "        return powerSpectrumDensityDF\n",
    "\n",
    "#skyMapDF = skyMapDF_LFSS\n",
    "def foldSkyWithAntenna(antenna, frequency=None,orientation=None,skyMapDF=None):\n",
    "    quantity = 'absHeight'\n",
    "    p = skyMapDF.index.values.astype(float)\n",
    "    t = skyMapDF.columns.values.astype(float)\n",
    "    Amp = antenna.get(quantity=quantity, frequency=frequency, newTheta=t, newPhi=p, kind='linear', changeConvention=True,\n",
    "                      orientation=orientation)\n",
    "    foldedAntennaSkyMap = Amp**2*skyMapDF\n",
    "    return foldedAntennaSkyMap\n",
    "\n",
    "# integrate the folded sky map over the angles\n",
    "def integrateOverAngles(foldedAntennaSkyMap):\n",
    "    p = np.deg2rad(foldedAntennaSkyMap.index.values.astype(float))\n",
    "    t = np.deg2rad(foldedAntennaSkyMap.columns.values.astype(float))\n",
    "    T, P = np.meshgrid(t, p)\n",
    "    angePrefactor=np.sin(T[:,::-1])\n",
    "    integratedOverAngles=simps(simps(foldedAntennaSkyMap*angePrefactor,t),p)\n",
    "    return integratedOverAngles"
   ]
  },
  {
   "cell_type": "markdown",
   "metadata": {},
   "source": [
    "<p style='text-align: justify;'>\n",
    "Ideally you should simulate as small time deltas as possible and than binned them approprietly.\n",
    "For example, if the measured data are binned to 1 hour bins, calculating the simulated data at one hour steps might give you a 30 minutes time offset. Better is to simulate 15 minutes steps and binned them to 1 hour. This is more representative then. <br>\n",
    "If the measured data set is binned to 15 minute bins, a simulated DataFrame with 15 minutes bins should be OK since the possible offset is only 7.5 minutes.\n",
    "</p>"
   ]
  },
  {
   "cell_type": "markdown",
   "metadata": {},
   "source": [
    "If the time binning is required, function <i>DFtimeBinning</i> can be used."
   ]
  },
  {
   "cell_type": "code",
   "execution_count": null,
   "metadata": {},
   "outputs": [],
   "source": [
    "# time binning\n",
    "def DFtimeBinning(DF,timeBinWidth=1):\n",
    "    new=[]\n",
    "    newTimes=[]\n",
    "    rowNumer, _ = DF.shape\n",
    "    tstart=float(DF.index.values[0])\n",
    "    tstep=float(DF.index.values[1])-float(DF.index.values[0])\n",
    "    tWidth = int(timeBinWidth/tstep + 1) # how many cols have to be integrated to have the wanted frequency binning, the +1 is because the last  element is excluded\n",
    "    totalNumberOfNewTimeRows=int((rowNumer-1)/(tWidth-1))\n",
    "    for i in range(0,totalNumberOfNewTimeRows,1):\n",
    "        newTimes.append(i*timeBinWidth)\n",
    "        new.append(DF.iloc[i:i+tWidth,:].mean(axis=0))\n",
    "    new = np.asarray(new)\n",
    "    newTimes=np.asarray(newTimes)\n",
    "    newDF = DFtemplateCreator(DF.columns.values, newTimes)\n",
    "    newDF.iloc[:,:] = np.asarray(new)\n",
    "    return newDF"
   ]
  },
  {
   "cell_type": "markdown",
   "metadata": {},
   "source": [
    "***"
   ]
  },
  {
   "cell_type": "markdown",
   "metadata": {},
   "source": [
    "## Power spectrum density"
   ]
  },
  {
   "cell_type": "markdown",
   "metadata": {},
   "source": [
    "Assign the save folder for the results."
   ]
  },
  {
   "cell_type": "code",
   "execution_count": null,
   "metadata": {},
   "outputs": [],
   "source": [
    "saveFolder='./results/skySimulation/'"
   ]
  },
  {
   "cell_type": "markdown",
   "metadata": {},
   "source": [
    "Further:<br>\n",
    "- Set the path to the impedance files\n",
    "- create antenna pattern classes for EW and NS orientation\n",
    "- create sky temperature maps"
   ]
  },
  {
   "cell_type": "code",
   "execution_count": null,
   "metadata": {},
   "outputs": [],
   "source": [
    "impedanceFile_EW = offlinePath+\"share/auger-offline/doc/ExampleApplications/RDGalacticCalibrationTools/EW_impedance_RD.txt\"\n",
    "impedanceFile_NS = offlinePath+\"share/auger-offline/doc/ExampleApplications/RDGalacticCalibrationTools/NS_impedance_RD.txt\"\n",
    "\n",
    "# antenna patter class\n",
    "antennaEW = getAntennaPatternQuantities(antennaPathEW)\n",
    "antennaNS = getAntennaPatternQuantities(antennaPathNS)\n",
    "# for Polisensky's LFmap, these are by default generated in Celestial coordinated\n",
    "#g_LFmap = LFmap(LFmapPath+\"/healpyFits/\")\n",
    "# for lf map from pygdsem\n",
    "#g_LFSS = LowFrequencySkyModel(freq_unit='MHz')\n",
    "\n",
    "#use g_1 and g_2 instead"
   ]
  },
  {
   "cell_type": "markdown",
   "metadata": {},
   "source": [
    "### Calculate the power spectrum density for the EW orientation with the maps from the 1st model."
   ]
  },
  {
   "cell_type": "code",
   "execution_count": null,
   "metadata": {},
   "outputs": [],
   "source": [
    "# model 1 EW\n",
    "startFrequency=30.0\n",
    "endFrequency=80.0\n",
    "frequencySpacing=1.0\n",
    "startLST=0\n",
    "endLST=24\n",
    "LSTspacing=1\n",
    "\n",
    "powerSpectrumDensityDF_1_EW = simulateGalacticModulationCurve(antennaClass = antennaEW, skyMapClass = g_1, startFrequency = startFrequency,\n",
    "                                                        endFrequency = endFrequency, frequencySpacing=frequencySpacing, coord=c_coord_1, \n",
    "                                                        orientation ='EW', returnOnlyIntegratedAngle=False,\n",
    "                                                        startLST = startLST, endLST=endLST, LSTspacing=LSTspacing, impedanceFile=impedanceFile_EW)"
   ]
  },
  {
   "cell_type": "code",
   "execution_count": null,
   "metadata": {},
   "outputs": [],
   "source": [
    "# for saving\n",
    "powerSpectrumDensityDF_1_EW.to_csv(saveFolder+'powerSpectrumDensityDF_'+map_1_title+'_EW.csv')"
   ]
  },
  {
   "cell_type": "code",
   "execution_count": null,
   "metadata": {},
   "outputs": [],
   "source": [
    "# for reading\n",
    "powerSpectrumDensityDF_1_EW = pd.read_csv(saveFolder+'powerSpectrumDensityDF_'+map_1_title+'_EW.csv',index_col=0)"
   ]
  },
  {
   "cell_type": "markdown",
   "metadata": {},
   "source": [
    "### Calculate the power spectrum density for the NS orientation with the maps from the 1st model."
   ]
  },
  {
   "cell_type": "code",
   "execution_count": null,
   "metadata": {},
   "outputs": [],
   "source": [
    "# model 1 NS\n",
    "startFrequency=30.0\n",
    "endFrequency=80.0\n",
    "frequencySpacing=1.0\n",
    "startLST=0\n",
    "endLST=24\n",
    "LSTspacing=1\n",
    "\n",
    "powerSpectrumDensityDF_1_NS = simulateGalacticModulationCurve(antennaClass=antennaNS, skyMapClass=g_1, startFrequency=startFrequency,\n",
    "                                                        endFrequency=endFrequency, frequencySpacing=frequencySpacing, coord=c_coord_1, \n",
    "                                                        orientation='NS', returnOnlyIntegratedAngle=False,\n",
    "                                                        startLST=startLST, endLST=endLST, LSTspacing=LSTspacing, impedanceFile=impedanceFile_NS)"
   ]
  },
  {
   "cell_type": "code",
   "execution_count": null,
   "metadata": {},
   "outputs": [],
   "source": [
    "# for saving\n",
    "powerSpectrumDensityDF_1_NS.to_csv(saveFolder+'powerSpectrumDensityDF_'+map_1_title+'_NS.csv')"
   ]
  },
  {
   "cell_type": "code",
   "execution_count": null,
   "metadata": {},
   "outputs": [],
   "source": [
    "# for reading\n",
    "powerSpectrumDensityDF_1_NS = pd.read_csv(saveFolder+'powerSpectrumDensityDF_'+map_1_title+'_NS.csv',index_col=0)"
   ]
  },
  {
   "cell_type": "markdown",
   "metadata": {},
   "source": [
    "### Calculate the power spectrum density for the EW orientation with the maps from the 2nd model."
   ]
  },
  {
   "cell_type": "code",
   "execution_count": null,
   "metadata": {},
   "outputs": [],
   "source": [
    "# map 2 EW\n",
    "startFrequency=30.0\n",
    "endFrequency=80.0\n",
    "frequencySpacing=1.0\n",
    "startLST=0\n",
    "endLST=24\n",
    "LSTspacing=1\n",
    "\n",
    "powerSpectrumDensityDF_2_EW = simulateGalacticModulationCurve(antennaClass=antennaEW, skyMapClass=g_2, startFrequency=startFrequency,\n",
    "                                                        endFrequency=endFrequency, frequencySpacing=frequencySpacing, coord = c_coord_2, \n",
    "                                                        orientation='EW', returnOnlyIntegratedAngle=False,\n",
    "                                                        startLST=startLST, endLST=endLST, LSTspacing=LSTspacing, impedanceFile=impedanceFile_EW)"
   ]
  },
  {
   "cell_type": "code",
   "execution_count": null,
   "metadata": {},
   "outputs": [],
   "source": [
    "# for saving\n",
    "powerSpectrumDensityDF_2_EW.to_csv(saveFolder+'powerSpectrumDensityDF_'+map_2_title+'_EW.csv')"
   ]
  },
  {
   "cell_type": "code",
   "execution_count": null,
   "metadata": {},
   "outputs": [],
   "source": [
    "# for reading\n",
    "powerSpectrumDensityDF_LFmap_EW = pd.read_csv(saveFolder+'powerSpectrumDensityDF_'+map_2_title+'_EW.csv',index_col=0)"
   ]
  },
  {
   "cell_type": "markdown",
   "metadata": {},
   "source": [
    "### Calculate the power spectrum density for the NS orientation with the maps from the 2nd model."
   ]
  },
  {
   "cell_type": "code",
   "execution_count": null,
   "metadata": {},
   "outputs": [],
   "source": [
    "# map 2 NS\n",
    "startFrequency=30.0\n",
    "endFrequency=80.0\n",
    "frequencySpacing=1.0\n",
    "startLST=0\n",
    "endLST=24\n",
    "LSTspacing=1\n",
    "\n",
    "powerSpectrumDensityDF_2_NS = simulateGalacticModulationCurve(antennaClass=antennaNS, skyMapClass=g_2, startFrequency=startFrequency,\n",
    "                                                        endFrequency=endFrequency, frequencySpacing=frequencySpacing, coord=c_coord_2, \n",
    "                                                        orientation='NS', returnOnlyIntegratedAngle=False,\n",
    "                                                        startLST=startLST, endLST=endLST, LSTspacing=LSTspacing, impedanceFile=impedanceFile_NS)"
   ]
  },
  {
   "cell_type": "code",
   "execution_count": null,
   "metadata": {},
   "outputs": [],
   "source": [
    "# for saving\n",
    "powerSpectrumDensityDF_2_NS.to_csv(saveFolder+'powerSpectrumDensityDF_'+map_2_title+'_NS.csv')"
   ]
  },
  {
   "cell_type": "code",
   "execution_count": null,
   "metadata": {},
   "outputs": [],
   "source": [
    "# for reading\n",
    "powerSpectrumDensityDF_LFmap_NS = pd.read_csv(saveFolder+'powerSpectrumDensityDF_'+map_2_title+'_NS.csv',index_col=0)"
   ]
  },
  {
   "cell_type": "markdown",
   "metadata": {},
   "source": [
    "### Plots - Power spectrum density in EW orientation"
   ]
  },
  {
   "cell_type": "code",
   "execution_count": null,
   "metadata": {},
   "outputs": [],
   "source": [
    "orientation = 'EW'\n",
    "#save=saveFolder\n",
    "close=False\n",
    "save=False\n",
    "\n",
    "save1 = saveFolder+'powerSpectrumDensityDF_'+map_1_title+'_'+orientation\n",
    "save2 = saveFolder+'powerSpectrumDensityDF_'+map_2_title+'_'+orientation\n",
    "save3 = saveFolder+'Ratio_PowerSpectrumDensity_'+orientation\n",
    "\n",
    "LST_grid, freq_grid = np.meshgrid(powerSpectrumDensityDF_1_EW.index.values.astype(float), powerSpectrumDensityDF_2_EW.columns.values.astype(float))\n",
    "\n",
    "myPlots.plot3dnewV3(LST_grid, freq_grid, powerSpectrumDensityDF_1_EW.values.T*1e+18, slices=True, figureWidth=12, figureHeight=8,\n",
    "                    xlabel='LST',ylabel='frequency [MHz]',cbarLabel='power spectrum density [pW/Hz]',xMajorLocator=2,yMajorLocator=10,\n",
    "                    mainTitle=map_1_title+\" - Power spectrum density in \"+orientation, Cmin=0, Cmax=0.06,ymin=29.5,ymax=80.5,\n",
    "                    save=save1,close=close)\n",
    "\n",
    "myPlots.plot3dnewV3(LST_grid, freq_grid, powerSpectrumDensityDF_2_EW.values.T*1e+18, slices=True, figureWidth=12, figureHeight=8,\n",
    "                    xlabel='LST',ylabel='frequency [MHz]',cbarLabel='power spectrum density [pW/Hz]',xMajorLocator=2,yMajorLocator=10,\n",
    "                    mainTitle=map_2_title+\" - Power spectrum density in \"+orientation, Cmin=0, Cmax=0.06,ymin=29.5,ymax=80.5,\n",
    "                    save=save2,close=close)\n",
    "\n",
    "ratio = powerSpectrumDensityDF_1_EW.values/powerSpectrumDensityDF_2_EW.values\n",
    "myPlots.plot3dnewV3(LST_grid, freq_grid, ratio.T,slices=True, figureWidth=12, figureHeight=8,\n",
    "                    xlabel='LST',ylabel='frequency [MHz]',cbarLabel=r'$\\frac{\\mathrm{%s}}{\\mathrm{%s}}$'%(map_1_title, map_2_title), xMajorLocator=2, yMajorLocator=10,\n",
    "                    mainTitle=\"Ratio of \"+map_1_title+\" and \"+map_2_title+\" power spectrum densities in \"+orientation, Cmin=0.9, Cmax=1.25,ymin=29.5,ymax=80.5, \n",
    "                    extend='both',\n",
    "                    save=save3, close=close)"
   ]
  },
  {
   "cell_type": "markdown",
   "metadata": {},
   "source": [
    "***\n",
    "***\n"
   ]
  },
  {
   "cell_type": "markdown",
   "metadata": {},
   "source": [
    "### Plots - Power spectrum density in NS orientation"
   ]
  },
  {
   "cell_type": "code",
   "execution_count": null,
   "metadata": {},
   "outputs": [],
   "source": [
    "orientation = 'NS'\n",
    "#save=saveFolder\n",
    "close=False\n",
    "save=False\n",
    "\n",
    "save1 = saveFolder+'powerSpectrumDensityDF_'+map_1_title+'_NS'\n",
    "save2 = saveFolder+'powerSpectrumDensityDF_'+map_2_title+'_NS'\n",
    "save3 = saveFolder+'Ratio_PowerSpectrumDensity_NS'\n",
    "\n",
    "LST_grid, freq_grid = np.meshgrid(powerSpectrumDensityDF_1_NS.index.values.astype(float), powerSpectrumDensityDF_1_NS.columns.values.astype(float))\n",
    "myPlots.plot3dnewV3(LST_grid, freq_grid, powerSpectrumDensityDF_1_NS.values.T*1e+18, slices=True, figureWidth=12, figureHeight=8,\n",
    "                    xlabel='LST',ylabel='frequency [MHz]',cbarLabel='power spectrum density [pW/Hz]',xMajorLocator=2,yMajorLocator=10,\n",
    "                    mainTitle=map_1_title+\" - Power spectrum density in \"+orientation, Cmin=0, Cmax=0.06,ymin=29.5,ymax=80.5,\n",
    "                    save=save1, close=close)\n",
    "\n",
    "myPlots.plot3dnewV3(LST_grid, freq_grid, powerSpectrumDensityDF_2_NS.values.T*1e+18, slices=True, figureWidth=12, figureHeight=8,\n",
    "                    xlabel='LST',ylabel='frequency [MHz]', cbarLabel='power spectrum density [pW/Hz]', xMajorLocator=2, yMajorLocator=10,\n",
    "                    mainTitle=map_2_title+\" - Power spectrum density in \"+orientation, Cmin=0, Cmax=0.06, ymin=29.5, ymax=80.5,\n",
    "                    save=save2, close=close)\n",
    "\n",
    "ratio = powerSpectrumDensityDF_1_NS.values/powerSpectrumDensityDF_2_NS.values\n",
    "myPlots.plot3dnewV3(LST_grid, freq_grid, ratio.T,slices=True, figureWidth=12, figureHeight=8,\n",
    "                    xlabel='LST', ylabel='frequency [MHz]', cbarLabel=r'$\\frac{\\mathrm{%s}}{\\mathrm{%s}}$'%(map_1_title, map_2_title), xMajorLocator=2, yMajorLocator=10,\n",
    "                    mainTitle=\"Ratio of \"+map_1_title+\" and \"+map_2_title+\" power spectrum densities in \"+orientation, Cmin=0.9, Cmax=1.25, ymin=29.5, ymax=80.5,\n",
    "                    extend='both',\n",
    "                    save=save3,close=close)"
   ]
  },
  {
   "cell_type": "markdown",
   "metadata": {},
   "source": [
    "## Power\n",
    "To get the power we need just to integrate the power spectrum density over the frequencies. <br>\n",
    "\n",
    " \\begin{equation*}\n",
    "P_{sky}(t,f) = \\int_{f} \\mathscr{P}_{sky}(t,f) df\n",
    "\\end{equation*} <br>\n",
    "\n",
    "<p style='text-align: justify;'>\n",
    "For Power in 1 Mhz bins a power spectrum density with at least 1 MHz spacing is needed. Ideally one should generate power spectrum density in the same frequencies as is the frequency delta of the measured data. For example, sampling frequency 250 MHz will produced spectrum with frequency delta 0.12 MHz, therefore 0.12 Mhz should be the step in the power spectrum density. However, the power spectrum density is not varying dramatically in 1 MHz steps, so 1 Mhz steps in power spectrum density should be fine.\n",
    "</p>"
   ]
  },
  {
   "cell_type": "markdown",
   "metadata": {},
   "source": [
    "Function <i>integratePowerSpectrumDensityDF2PowerSpectrum</i> will do the frequency integration."
   ]
  },
  {
   "cell_type": "code",
   "execution_count": null,
   "metadata": {},
   "outputs": [],
   "source": [
    "def integratePowerSpectrumDensityDF2PowerSpectrum(powerSpectrumDensityDF, fbinWidth=1):\n",
    "    powerSpectrum=[]\n",
    "    newFrequencies=[]\n",
    "    _, colNumber = powerSpectrumDensityDF.shape\n",
    "    fstart=float(powerSpectrumDensityDF.columns.values[0])\n",
    "    fstep=float(powerSpectrumDensityDF.columns.values[1])-float(powerSpectrumDensityDF.columns.values[0])\n",
    "    fwidth = int(fbinWidth/fstep + 1) # how many cols have to be integrated to have the wanted frequency binning, the +1 is because the last  element is excluded\n",
    "    totalNumberOfNewFreqColumns=int((colNumber-1)/(fwidth-1))\n",
    "    for i in range(0,totalNumberOfNewFreqColumns,1):\n",
    "        newFrequencies.append(fstart+i*fbinWidth)\n",
    "        #print(powerSpectrumDensityDF_LFSS.iloc[i:i+fwidth,:].index.values)\n",
    "        powerSpectrum.append(simps(powerSpectrumDensityDF.iloc[:,i:i+fwidth].values, \n",
    "                                   powerSpectrumDensityDF.iloc[:,i:i+fwidth].columns.values.astype(float)*1e+6))\n",
    "    powerSpectrum = np.asarray(powerSpectrum)\n",
    "    newFrequencies=np.asarray(newFrequencies)\n",
    "    powerSpectrumDF = DFtemplateCreator(newFrequencies,powerSpectrumDensityDF.index.values.astype(float))\n",
    "    powerSpectrumDF.iloc[:,:] = np.asarray(powerSpectrum.T)\n",
    "    return powerSpectrumDF"
   ]
  },
  {
   "cell_type": "markdown",
   "metadata": {},
   "source": [
    "Integrate the calculated power spectrum densities to get the powers."
   ]
  },
  {
   "cell_type": "code",
   "execution_count": null,
   "metadata": {},
   "outputs": [],
   "source": [
    "powerDF_1_EW= integratePowerSpectrumDensityDF2PowerSpectrum(powerSpectrumDensityDF_1_EW)\n",
    "powerDF_1_NS= integratePowerSpectrumDensityDF2PowerSpectrum(powerSpectrumDensityDF_1_NS)\n",
    "powerDF_2_EW= integratePowerSpectrumDensityDF2PowerSpectrum(powerSpectrumDensityDF_2_EW)\n",
    "powerDF_2_NS= integratePowerSpectrumDensityDF2PowerSpectrum(powerSpectrumDensityDF_2_NS)"
   ]
  },
  {
   "cell_type": "code",
   "execution_count": null,
   "metadata": {},
   "outputs": [],
   "source": [
    "# for saving\n",
    "powerDF_1_EW.to_csv(saveFolder+'powerDF_'+map_1_title+'_EW.csv')\n",
    "# for saving\n",
    "powerDF_1_NS.to_csv(saveFolder+'powerDF_'+map_1_title+'_NS.csv')\n",
    "# for saving\n",
    "powerDF_2_EW.to_csv(saveFolder+'powerDF_'+map_2_title+'_EW.csv')\n",
    "# for saving\n",
    "powerDF_2_NS.to_csv(saveFolder+'powerDF_'+map_2_title+'_NS.csv')"
   ]
  },
  {
   "cell_type": "code",
   "execution_count": null,
   "metadata": {},
   "outputs": [],
   "source": [
    "# for reading\n",
    "powerDF_1_EW = pd.read_csv(saveFolder+'powerDF_'+map_1_title+'_EW.csv',index_col=0)\n",
    "# for reading\n",
    "powerDF_1_NS = pd.read_csv(saveFolder+'powerDF_'+map_1_title+'_NS.csv',index_col=0)\n",
    "# for reading\n",
    "powerDF_2_EW = pd.read_csv(saveFolder+'powerDF_'+map_2_title+'_EW.csv',index_col=0)\n",
    "# for reading\n",
    "powerDF_2_NS = pd.read_csv(saveFolder+'powerDF_'+map_2_title+'_NS.csv',index_col=0)"
   ]
  },
  {
   "cell_type": "markdown",
   "metadata": {},
   "source": [
    "### Plots - Power in EW orientation"
   ]
  },
  {
   "cell_type": "code",
   "execution_count": null,
   "metadata": {},
   "outputs": [],
   "source": [
    "orientation = 'EW'\n",
    "#save=saveFolder\n",
    "close=False\n",
    "save=False\n",
    "\n",
    "save1 = saveFolder+'powerDF_'+map_1_title+'_EW'\n",
    "save2 = saveFolder+'powerDF_'+map_2_title+'_EW'\n",
    "save3 = saveFolder+'Ratio_Power_'+map_1_title+'_'+map_2_title+'_EW'\n",
    "\n",
    "LST_grid, freq_grid = np.meshgrid(powerDF_1_EW.index.values.astype(float), powerDF_1_EW.columns.values.astype(float))\n",
    "myPlots.plot3dnewV3(LST_grid, freq_grid, powerDF_1_EW.values.T*1e+12, slices=True,figureWidth=12, figureHeight=8,\n",
    "                    xlabel='LST',ylabel='frequency [MHz]', cbarLabel='power [pW]',xMajorLocator=2, yMajorLocator=10,\n",
    "                    mainTitle=map_1_title+\" - power in \"+orientation, Cmin=0, Cmax=0.06, ymin=29.5, ymax=80,\n",
    "                    save=save1, close=close)\n",
    "\n",
    "myPlots.plot3dnewV3(LST_grid, freq_grid, powerDF_2_EW.values.T*1e+12, slices=True, figureWidth=12, figureHeight=8,\n",
    "                    xlabel='LST', ylabel='frequency [MHz]', cbarLabel='power [pW]', xMajorLocator=2, yMajorLocator=10,\n",
    "                    mainTitle=map_2_title+\" - power in \"+orientation, Cmin=0, Cmax=0.06, ymin=29.5, ymax=80,\n",
    "                    save=save2, close=close)\n",
    "\n",
    "ratio = powerDF_1_EW.values/powerDF_2_EW.values\n",
    "myPlots.plot3dnewV3(LST_grid, freq_grid, ratio.T, slices=True, figureWidth=12, figureHeight=8,\n",
    "                    xlabel='LST', ylabel='frequency [MHz]', cbarLabel=r'$\\frac{\\mathrm{%s}}{\\mathrm{%s}}$'%(map_1_title, map_2_title), xMajorLocator=2, yMajorLocator=10,\n",
    "                    mainTitle=\"Ratio of \"+map_1_title+\" and \"+map_2_title+\" power spectrum densities in \"+orientation, Cmin=0.9, Cmax=1.25, ymin=29.5, ymax=80,\n",
    "                    extend='both',\n",
    "                    save=save3, close=close)"
   ]
  },
  {
   "cell_type": "markdown",
   "metadata": {},
   "source": [
    "### Plots - Power in NS orientation"
   ]
  },
  {
   "cell_type": "code",
   "execution_count": null,
   "metadata": {},
   "outputs": [],
   "source": [
    "orientation = 'NS'\n",
    "#save=saveFolder\n",
    "close=False\n",
    "save=False\n",
    "\n",
    "save1 = saveFolder+'powerDF_'+map_1_title+'_NS'\n",
    "save2 = saveFolder+'powerDF_'+map_2_title+'_NS'\n",
    "save3 = saveFolder+'Ratio_Power_'+map_1_title+'_'+map_2_title+'_NS'\n",
    "\n",
    "LST_grid, freq_grid = np.meshgrid(powerDF_1_NS.index.values.astype(float), powerDF_1_NS.columns.values.astype(float))\n",
    "myPlots.plot3dnewV3(LST_grid, freq_grid, powerDF_1_NS.values.T*1e+12, slices=True, figureWidth=12, figureHeight=8,\n",
    "                    xlabel='LST', ylabel='frequency [MHz]', cbarLabel='power [pW]', xMajorLocator=2, yMajorLocator=10,\n",
    "                    mainTitle=map_1_title+\" - power in \"+orientation, Cmin=0, Cmax=0.06, ymin=29.5, ymax=80,\n",
    "                    save=save1, close=close)\n",
    "\n",
    "myPlots.plot3dnewV3(LST_grid, freq_grid, powerDF_2_NS.values.T*1e+12, slices=True, figureWidth=12, figureHeight=8,\n",
    "                    xlabel='LST', ylabel='frequency [MHz]', cbarLabel='power [pW]', xMajorLocator=2, yMajorLocator=10,\n",
    "                    mainTitle=map_2_title+\" - power in \"+orientation, Cmin=0, Cmax=0.06, ymin=29.5, ymax=80,\n",
    "                    save=save2, close=close)\n",
    "\n",
    "ratio = powerDF_1_NS.values/powerDF_2_NS.values\n",
    "myPlots.plot3dnewV3(LST_grid, freq_grid, ratio.T, slices=True, figureWidth=12, figureHeight=8,\n",
    "                    xlabel='LST', ylabel='frequency [MHz]', cbarLabel=r'$\\frac{\\mathrm{%s}}{\\mathrm{%s}}$'%(map_1_title, map_2_title), xMajorLocator=2, yMajorLocator=10,\n",
    "                    mainTitle=\"Ratio of \"+map_1_title+\" and \"+map_2_title+\" power spectrum densities in \"+orientation, Cmin=0.9, Cmax=1.25, ymin=29.5, ymax=80,\n",
    "                    extend='both',\n",
    "                    save=save3, close=close)"
   ]
  },
  {
   "cell_type": "code",
   "execution_count": null,
   "metadata": {},
   "outputs": [],
   "source": []
  }
 ],
 "metadata": {
  "kernelspec": {
   "display_name": "Python 3 (ipykernel)",
   "language": "python",
   "name": "python3"
  },
  "language_info": {
   "codemirror_mode": {
    "name": "ipython",
    "version": 3
   },
   "file_extension": ".py",
   "mimetype": "text/x-python",
   "name": "python",
   "nbconvert_exporter": "python",
   "pygments_lexer": "ipython3",
   "version": "3.10.6"
  },
  "latex_envs": {
   "LaTeX_envs_menu_present": true,
   "autoclose": false,
   "autocomplete": true,
   "bibliofile": "biblio.bib",
   "cite_by": "apalike",
   "current_citInitial": 1,
   "eqLabelWithNumbers": true,
   "eqNumInitial": 1,
   "hotkeys": {
    "equation": "Ctrl-E",
    "itemize": "Ctrl-I"
   },
   "labels_anchors": false,
   "latex_user_defs": false,
   "report_style_numbering": false,
   "user_envs_cfg": false
  },
  "toc": {
   "base_numbering": 1,
   "nav_menu": {},
   "number_sections": true,
   "sideBar": true,
   "skip_h1_title": false,
   "title_cell": "Table of Contents",
   "title_sidebar": "Contents",
   "toc_cell": false,
   "toc_position": {
    "height": "calc(100% - 180px)",
    "left": "10px",
    "top": "150px",
    "width": "285.6px"
   },
   "toc_section_display": true,
   "toc_window_display": true
  },
  "varInspector": {
   "cols": {
    "lenName": 16,
    "lenType": 16,
    "lenVar": 40
   },
   "kernels_config": {
    "python": {
     "delete_cmd_postfix": "",
     "delete_cmd_prefix": "del ",
     "library": "var_list.py",
     "varRefreshCmd": "print(var_dic_list())"
    },
    "r": {
     "delete_cmd_postfix": ") ",
     "delete_cmd_prefix": "rm(",
     "library": "var_list.r",
     "varRefreshCmd": "cat(var_dic_list()) "
    }
   },
   "types_to_exclude": [
    "module",
    "function",
    "builtin_function_or_method",
    "instance",
    "_Feature"
   ],
   "window_display": false
  }
 },
 "nbformat": 4,
 "nbformat_minor": 4
}
